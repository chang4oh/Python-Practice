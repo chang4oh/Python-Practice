{
 "cells": [
  {
   "cell_type": "code",
   "execution_count": 8,
   "id": "ca0350a3",
   "metadata": {},
   "outputs": [
    {
     "data": {
      "text/plain": [
       "8.5"
      ]
     },
     "execution_count": 8,
     "metadata": {},
     "output_type": "execute_result"
    }
   ],
   "source": [
    "#1 Python: Function that takes a sequence of numbers and determines whether all are different from each other \n",
    "# list can take in float, int, str\n",
    "\n",
    "def numsecutive(numbers):\n",
    "    for i, num in enumerate(numbers):\n",
    "        if i+1 == len(numbers):\n",
    "            return print('No consecutive')\n",
    "        if num == numbers[i+1]:\n",
    "            return num\n",
    "        \n",
    "numbers = [3,4,6,7,8,5,4,3,2,]\n",
    "numbers = [3,4,6,7,8.5,8.5,5,4,3,2,]\n",
    "numsecutive(numbers)"
   ]
  },
  {
   "cell_type": "code",
   "execution_count": 46,
   "id": "6c5148a8",
   "metadata": {},
   "outputs": [
    {
     "name": "stdout",
     "output_type": "stream",
     "text": [
      "eoiau\n"
     ]
    }
   ],
   "source": [
    "# 2. Write a Python program that creates all possible strings using the letters 'a', 'e', 'i', 'o', and 'I'. Ensure that each character is used only once.\n",
    "cur_vowel = ['a','e','i','o','u']\n",
    "used_vowel = []\n",
    "#from random import randint\n",
    "import random\n",
    "\n",
    "def combinations(vowels):\n",
    "    # x = [randint(0, 9) for p in range(0, 10)] # random values within the range\n",
    "    range_vowel = len(vowels)\n",
    "    x = random.sample(range(range_vowel), range_vowel) # within the range create unique samples\n",
    "    \n",
    "    for num in x:\n",
    "        used_vowel.append(vowels[num])\n",
    "    return print(''.join(used_vowel))\n",
    "\n",
    "combinations(cur_vowel)\n",
    "# outputs 'aeiou' without print; aeiou with print"
   ]
  },
  {
   "cell_type": "code",
   "execution_count": 37,
   "id": "870e04f0",
   "metadata": {},
   "outputs": [
    {
     "name": "stdout",
     "output_type": "stream",
     "text": [
      "aoieu\n"
     ]
    }
   ],
   "source": [
    "# Import the 'random' module to shuffle elements in a list randomly.\n",
    "import random\n",
    "\n",
    "# Create a list of characters containing vowels.\n",
    "char_list = ['a', 'e', 'i', 'o', 'u']\n",
    "\n",
    "# Shuffle the elements in the 'char_list' randomly.\n",
    "random.shuffle(char_list)\n",
    "\n",
    "# Print the shuffled list of characters as a string.\n",
    "print(''.join(char_list))"
   ]
  },
  {
   "cell_type": "code",
   "execution_count": 53,
   "id": "d00fd1be",
   "metadata": {},
   "outputs": [
    {
     "name": "stdout",
     "output_type": "stream",
     "text": [
      "30\n",
      "60\n",
      "90\n",
      "40\n",
      "80\n",
      "50\n",
      "20\n",
      "70\n",
      "10\n"
     ]
    }
   ],
   "source": [
    "# 3. Write a Python program that removes and prints every third number from a list of numbers until the list is empty.\n",
    "# Define a function named 'remove_nums' that takes a list 'int_list' as a parameter.\n",
    "def remove_nums(int_list):\n",
    "    # Set the starting position for removal to the 3rd element (0-based index).\n",
    "    position = 3 - 1\n",
    "    # Initialize the index variable to 0.\n",
    "    idx = 0\n",
    "    # Get the length of the input list.\n",
    "    len_list = len(int_list)\n",
    "    \n",
    "    # Continue removing elements until the list is empty.\n",
    "    while len_list > 0:\n",
    "        # Calculate the new index based on the starting position and current index.\n",
    "        idx = (position + idx) % len_list\n",
    "        # Print and remove the element at the calculated index.\n",
    "        print(int_list.pop(idx))\n",
    "        # Decrement the length of the list.\n",
    "        len_list -= 1\n",
    "\n",
    "# Create a list of numbers.\n",
    "nums = [10, 20, 30, 40, 50, 60, 70, 80, 90]\n",
    "\n",
    "# Call the 'remove_nums' function with the list of numbers.\n",
    "remove_nums(nums)\n"
   ]
  },
  {
   "cell_type": "code",
   "execution_count": 54,
   "id": "aba1dc02",
   "metadata": {},
   "outputs": [
    {
     "name": "stdout",
     "output_type": "stream",
     "text": [
      "[(-6, 2, 4), (-2, 0, 2), (-1, 0, 1)]\n"
     ]
    }
   ],
   "source": [
    "# 4. Write a Python program to identify unique triplets whose three elements sum to zero from an array of n integers.\n",
    "\n",
    "# Define a function named 'three_sum' that takes a list of numbers 'nums' as a parameter.\n",
    "def three_sum(nums):\n",
    "    # Initialize an empty list to store the results.\n",
    "    result = []\n",
    "    # Sort the input list in ascending order.\n",
    "    nums.sort()\n",
    "    \n",
    "    # Iterate through the list up to the third-to-last element.\n",
    "    for i in range(len(nums) - 2):\n",
    "        # Skip duplicate values at the current position.\n",
    "        if i > 0 and nums[i] == nums[i - 1]:\n",
    "            continue\n",
    "        \n",
    "        # Set two pointers, 'l' and 'r', to find the other two elements in the triplet.\n",
    "        l, r = i + 1, len(nums) - 1\n",
    "        \n",
    "        # Perform a two-pointer search to find triplets with the sum equal to zero.\n",
    "        while l < r:\n",
    "            s = nums[i] + nums[l] + nums[r]\n",
    "            \n",
    "            if s > 0:\n",
    "                r -= 1\n",
    "            elif s < 0:\n",
    "                l += 1\n",
    "            else:\n",
    "                # Found a triplet with the sum equal to zero, add it to the result.\n",
    "                result.append((nums[i], nums[l], nums[r]))\n",
    "                \n",
    "                # Remove duplicates in the left and right pointers.\n",
    "                while l < r and nums[l] == nums[l + 1]:\n",
    "                    l += 1\n",
    "                while l < r and nums[r] == nums[r - 1]:\n",
    "                    r -= 1\n",
    "                \n",
    "                # Move the pointers towards the center.\n",
    "                l += 1\n",
    "                r -= 1\n",
    "    \n",
    "    # Return the final result containing unique triplets.\n",
    "    return result\n",
    "\n",
    "# Create a list of numbers.\n",
    "x = [1, -6, 4, 2, -1, 2, 0, -2, 0]\n",
    "\n",
    "# Call the 'three_sum' function with the list and print the result.\n",
    "print(three_sum(x))\n"
   ]
  },
  {
   "cell_type": "code",
   "execution_count": 56,
   "id": "082cad21",
   "metadata": {},
   "outputs": [
    {
     "name": "stdout",
     "output_type": "stream",
     "text": [
      "999\n"
     ]
    }
   ],
   "source": [
    "# 5. Write a Python program to make combinations of 3 digits.\n",
    "# Create an empty list to store formatted numbers.\n",
    "numbers = []\n",
    "\n",
    "# Iterate through numbers from 0 to 999 (exclusive).\n",
    "for num in range(1000):\n",
    "    # Convert the number to a string and fill with zeros to make it three digits long.\n",
    "    num = str(num).zfill(3)\n",
    "\n",
    "# Print the last formatted number (outside the loop, indentation issue).\n",
    "print(num)\n",
    "\n",
    "# Append the last formatted number to the 'numbers' list.\n",
    "numbers.append(num)\n"
   ]
  },
  {
   "cell_type": "code",
   "execution_count": 77,
   "id": "c6cb62cc",
   "metadata": {},
   "outputs": [
    {
     "name": "stdout",
     "output_type": "stream",
     "text": [
      "[2, 2, 2, 1, 4, 3, 3, 9, 6, 7, 19]\n"
     ]
    }
   ],
   "source": [
    "from typing import List\n",
    "\n",
    "class Solution:\n",
    "    def relativeSortArray(self, arr1: List[int], arr2: List[int]) -> List[int]:\n",
    "        result = []\n",
    "        outside = []\n",
    "        \n",
    "        # Creating a dictionary to count occurrences of elements in arr2\n",
    "        count = {num: 0 for num in arr2}\n",
    "        \n",
    "        # Populate result with elements from arr1 that are in arr2 and count their occurrences\n",
    "        for num in arr1:\n",
    "            if num in arr2:\n",
    "                count[num] += 1\n",
    "            else:\n",
    "                outside.append(num)\n",
    "        \n",
    "        # Append elements from arr2 in the order and count they appear\n",
    "        for num in arr2:\n",
    "            result.extend([num] * count[num])\n",
    "        \n",
    "        # Sort and append elements that are not in arr2\n",
    "        outside.sort()\n",
    "        result.extend(outside)\n",
    "        \n",
    "        return result\n",
    "\n",
    "# Example usage\n",
    "solution = Solution()\n",
    "arr1 = [2, 3, 1, 3, 2, 4, 6, 7, 9, 2, 19]\n",
    "arr2 = [2, 1, 4, 3, 9, 6]\n",
    "print(solution.relativeSortArray(arr1, arr2))\n"
   ]
  },
  {
   "cell_type": "code",
   "execution_count": 78,
   "id": "c5b49628",
   "metadata": {},
   "outputs": [],
   "source": [
    "class Solution:\n",
    "    def relativeSortArray(self, arr1: List[int], arr2: List[int]) -> List[int]:\n",
    "        result = []\n",
    "        outside = []\n",
    "        for i, num in enumerate(arr1):\n",
    "            if num in arr2:\n",
    "                result.append(num)\n",
    "            else:\n",
    "                outside.append(num)\n",
    "        result.sort(key=lambda x: (arr2.index(x), x))\n",
    "        outside.sort()\n",
    "        for num in outside:\n",
    "            result.append(num)\n",
    "        return result\n",
    "    \n"
   ]
  },
  {
   "cell_type": "code",
   "execution_count": 84,
   "id": "d2ff462d",
   "metadata": {},
   "outputs": [
    {
     "data": {
      "text/plain": [
       "{3: 'hi', 4: 'bye', 6: 'melon', 2: 'book'}"
      ]
     },
     "execution_count": 84,
     "metadata": {},
     "output_type": "execute_result"
    }
   ],
   "source": [
    "number = [3,4,6,2,6,74,]\n",
    "string = ['hi','bye','melon','book']\n",
    "makedict = lambda num,word: {num[i]: word[i] \n",
    "                             for i in range(min(len(num),len(word)))}\n",
    "makedict(number,string)"
   ]
  },
  {
   "cell_type": "code",
   "execution_count": 96,
   "id": "0705cfff",
   "metadata": {},
   "outputs": [
    {
     "data": {
      "text/plain": [
       "['hi3', 'bye3', 'melon3', 'book3']"
      ]
     },
     "execution_count": 96,
     "metadata": {},
     "output_type": "execute_result"
    }
   ],
   "source": [
    "list(map(lambda word: word+'3',string))"
   ]
  },
  {
   "cell_type": "code",
   "execution_count": 94,
   "id": "3c588ae6",
   "metadata": {},
   "outputs": [
    {
     "data": {
      "text/plain": [
       "['bye', 'melon', 'book']"
      ]
     },
     "execution_count": 94,
     "metadata": {},
     "output_type": "execute_result"
    }
   ],
   "source": [
    "list(filter(lambda word: len(word)>2, string))"
   ]
  },
  {
   "cell_type": "code",
   "execution_count": 97,
   "id": "b8adf81f",
   "metadata": {},
   "outputs": [
    {
     "data": {
      "text/plain": [
       "[False, True, True, True]"
      ]
     },
     "execution_count": 97,
     "metadata": {},
     "output_type": "execute_result"
    }
   ],
   "source": [
    "list(map(lambda word: len(word)>2, string))"
   ]
  },
  {
   "cell_type": "code",
   "execution_count": 100,
   "id": "55473530",
   "metadata": {},
   "outputs": [
    {
     "data": {
      "text/plain": [
       "[0, 0, 1, 1, 2, 2]"
      ]
     },
     "execution_count": 100,
     "metadata": {},
     "output_type": "execute_result"
    }
   ],
   "source": [
    "nums = [2,0,2,1,1,0]\n",
    "result = []\n",
    "for num in nums:\n",
    "    if num == 0:\n",
    "        result.append(num)\n",
    "for num in nums:\n",
    "    if num == 1:\n",
    "        result.append(num)\n",
    "for num in nums:\n",
    "    if num == 2:\n",
    "        result.append(num)\n",
    "        \n",
    "result"
   ]
  },
  {
   "cell_type": "code",
   "execution_count": 104,
   "id": "9d1a15fb",
   "metadata": {},
   "outputs": [
    {
     "data": {
      "text/plain": [
       "[0, 0, 1, 1, 2, 2]"
      ]
     },
     "execution_count": 104,
     "metadata": {},
     "output_type": "execute_result"
    }
   ],
   "source": [
    "zero = []\n",
    "one = []\n",
    "two = []\n",
    "result = []\n",
    "for num in nums:\n",
    "    if num == 0:\n",
    "        zero.append(num)\n",
    "    elif num == 1:\n",
    "        one.append(num)\n",
    "    elif num == 2:\n",
    "        two.append(num)\n",
    "result = zero + one + two\n",
    "\n",
    "# Update nums in place\n",
    "for i in range(len(nums)):\n",
    "    nums[i] = result[i]\n",
    "    \n",
    "nums"
   ]
  },
  {
   "cell_type": "code",
   "execution_count": 7,
   "id": "10d5a292",
   "metadata": {},
   "outputs": [
    {
     "name": "stdout",
     "output_type": "stream",
     "text": [
      "olleh\n",
      "dlrow\n",
      "Input must be a string\n"
     ]
    }
   ],
   "source": [
    "def reverse_string(s):\n",
    "    \"\"\"\n",
    "    Reverses a given string.\n",
    "    \n",
    "    Args:\n",
    "    s (str): The string to reverse.\n",
    "    \n",
    "    Returns:\n",
    "    str: The reversed string.\n",
    "    \n",
    "    Raises:\n",
    "    TypeError: If input is not a string.\n",
    "    \"\"\"\n",
    "    if not isinstance(s, str):\n",
    "        raise TypeError(\"Input must be a string\")\n",
    "    return s[::-1]\n",
    "\n",
    "# Example usage\n",
    "print(reverse_string(\"hello\"))  # Expected output: \"olleh\"\n",
    "print(reverse_string(\"world\"))  # Expected output: \"dlrow\"\n",
    "try:\n",
    "    print(reverse_string(123))  # Expected behavior: Raises TypeError\n",
    "except TypeError as e:\n",
    "    print(e)"
   ]
  },
  {
   "cell_type": "code",
   "execution_count": 12,
   "id": "6643d83b",
   "metadata": {},
   "outputs": [
    {
     "data": {
      "text/plain": [
       "[2, 4]"
      ]
     },
     "execution_count": 12,
     "metadata": {},
     "output_type": "execute_result"
    }
   ],
   "source": [
    "numbers = [1, 2, 3, 4, 5]\n",
    "even_numbers = [x for x in numbers if x % 2 == 0]\n",
    "# even_numbers will be [2, 4]\n",
    "even_numbers"
   ]
  },
  {
   "cell_type": "code",
   "execution_count": 13,
   "id": "8d588294",
   "metadata": {},
   "outputs": [
    {
     "data": {
      "text/plain": [
       "[5, 5, 6]"
      ]
     },
     "execution_count": 13,
     "metadata": {},
     "output_type": "execute_result"
    }
   ],
   "source": [
    "words = [\"hello\", \"world\", \"python\"]\n",
    "lengths = [len(word) for word in words]\n",
    "# lengths will be [5, 5, 6]\n",
    "lengths"
   ]
  },
  {
   "cell_type": "code",
   "execution_count": 14,
   "id": "66172d72",
   "metadata": {},
   "outputs": [
    {
     "data": {
      "text/plain": [
       "['odd', 'even', 'odd', 'even', 'odd']"
      ]
     },
     "execution_count": 14,
     "metadata": {},
     "output_type": "execute_result"
    }
   ],
   "source": [
    "numbers = [1, 2, 3, 4, 5]\n",
    "new_numbers = [\"even\" if x % 2 == 0 else \"odd\" for x in numbers]\n",
    "# new_numbers will be ['odd', 'even', 'odd', 'even', 'odd']\n",
    "new_numbers"
   ]
  },
  {
   "cell_type": "code",
   "execution_count": 15,
   "id": "df95e727",
   "metadata": {},
   "outputs": [
    {
     "data": {
      "text/plain": [
       "[1, 2, 3, 4, 5, 6, 7, 8, 9]"
      ]
     },
     "execution_count": 15,
     "metadata": {},
     "output_type": "execute_result"
    }
   ],
   "source": [
    "matrix = [[1, 2, 3], [4, 5, 6], [7, 8, 9]]\n",
    "flattened_matrix = [x for row in matrix for x in row]\n",
    "# flattened_matrix will be [1, 2, 3, 4, 5, 6, 7, 8, 9]\n",
    "flattened_matrix"
   ]
  },
  {
   "cell_type": "code",
   "execution_count": 26,
   "id": "c09437b7",
   "metadata": {},
   "outputs": [
    {
     "name": "stdout",
     "output_type": "stream",
     "text": [
      "2\n",
      "0\n"
     ]
    }
   ],
   "source": [
    "from typing import List\n",
    "\n",
    "class Solution:\n",
    "    def minPatches(self, nums: List[int], n: int) -> int:\n",
    "        miss = 1\n",
    "        result = 0\n",
    "        i = 0\n",
    "\n",
    "        while miss <= n:\n",
    "            if i < len(nums) and nums[i] <= miss:\n",
    "                miss += nums[i]\n",
    "                i += 1\n",
    "            else:\n",
    "                miss += miss\n",
    "                result += 1\n",
    "\n",
    "        return result\n",
    "    \n",
    "        \n",
    "# Example usage\n",
    "solution = Solution()\n",
    "nums = [1,5,10] \n",
    "n = 20\n",
    "print(solution.minPatches(nums, n))\n",
    "# ouput 2\n",
    "nums = [1,2,2]\n",
    "n = 5\n",
    "print(solution.minPatches(nums, n))\n",
    "# output 0"
   ]
  },
  {
   "cell_type": "code",
   "execution_count": null,
   "id": "de3f70be",
   "metadata": {},
   "outputs": [],
   "source": [
    "from typing import List\n",
    "\n",
    "class Solution:\n",
    "    def minPatches(self, nums: List[int], n: int) -> int:\n",
    "        \n",
    "        \n",
    "# Example usage\n",
    "solution = Solution()\n",
    "nums = [1,5,10], n = 20\n",
    "print(solution.minPatches(nums, n))\n",
    "nums = [1,2,2], n = 5\n",
    "print(solution.minPatches(nums, n))"
   ]
  },
  {
   "cell_type": "code",
   "execution_count": 28,
   "id": "f130198f",
   "metadata": {
    "scrolled": true
   },
   "outputs": [
    {
     "ename": "ValueError",
     "evalue": "too many values to unpack (expected 2)",
     "output_type": "error",
     "traceback": [
      "\u001b[1;31m---------------------------------------------------------------------------\u001b[0m",
      "\u001b[1;31mValueError\u001b[0m                                Traceback (most recent call last)",
      "Cell \u001b[1;32mIn[28], line 34\u001b[0m\n\u001b[0;32m     31\u001b[0m \u001b[38;5;66;03m# Create a list of word frequencies using list comprehension.\u001b[39;00m\n\u001b[0;32m     32\u001b[0m word_freq \u001b[38;5;241m=\u001b[39m [word_list\u001b[38;5;241m.\u001b[39mcount(n) \u001b[38;5;28;01mfor\u001b[39;00m n \u001b[38;5;129;01min\u001b[39;00m word_list]\n\u001b[1;32m---> 34\u001b[0m word_freq \u001b[38;5;241m=\u001b[39m {word: freq \u001b[38;5;28;01mfor\u001b[39;00m word, freq \u001b[38;5;129;01min\u001b[39;00m word_list}\n\u001b[0;32m     36\u001b[0m \u001b[38;5;66;03m# Print the original string, the list of words, and pairs of words along with their frequencies.\u001b[39;00m\n\u001b[0;32m     37\u001b[0m \u001b[38;5;28mprint\u001b[39m(\u001b[38;5;124m\"\u001b[39m\u001b[38;5;124mString:\u001b[39m\u001b[38;5;130;01m\\n\u001b[39;00m\u001b[38;5;124m \u001b[39m\u001b[38;5;132;01m{}\u001b[39;00m\u001b[38;5;124m \u001b[39m\u001b[38;5;130;01m\\n\u001b[39;00m\u001b[38;5;124m\"\u001b[39m\u001b[38;5;241m.\u001b[39mformat(string_words))\n",
      "Cell \u001b[1;32mIn[28], line 34\u001b[0m, in \u001b[0;36m<dictcomp>\u001b[1;34m(.0)\u001b[0m\n\u001b[0;32m     31\u001b[0m \u001b[38;5;66;03m# Create a list of word frequencies using list comprehension.\u001b[39;00m\n\u001b[0;32m     32\u001b[0m word_freq \u001b[38;5;241m=\u001b[39m [word_list\u001b[38;5;241m.\u001b[39mcount(n) \u001b[38;5;28;01mfor\u001b[39;00m n \u001b[38;5;129;01min\u001b[39;00m word_list]\n\u001b[1;32m---> 34\u001b[0m word_freq \u001b[38;5;241m=\u001b[39m {word: freq \u001b[38;5;28;01mfor\u001b[39;00m word, freq \u001b[38;5;129;01min\u001b[39;00m word_list}\n\u001b[0;32m     36\u001b[0m \u001b[38;5;66;03m# Print the original string, the list of words, and pairs of words along with their frequencies.\u001b[39;00m\n\u001b[0;32m     37\u001b[0m \u001b[38;5;28mprint\u001b[39m(\u001b[38;5;124m\"\u001b[39m\u001b[38;5;124mString:\u001b[39m\u001b[38;5;130;01m\\n\u001b[39;00m\u001b[38;5;124m \u001b[39m\u001b[38;5;132;01m{}\u001b[39;00m\u001b[38;5;124m \u001b[39m\u001b[38;5;130;01m\\n\u001b[39;00m\u001b[38;5;124m\"\u001b[39m\u001b[38;5;241m.\u001b[39mformat(string_words))\n",
      "\u001b[1;31mValueError\u001b[0m: too many values to unpack (expected 2)"
     ]
    }
   ],
   "source": [
    "# Define a multiline string containing a passage about the United States Declaration of Independence.\n",
    "string_words = '''United States Declaration of Independence\n",
    "From Wikipedia, the free encyclopedia\n",
    "... (omitting the rest for brevity) ... \n",
    "... much scholarly inquiry.\n",
    "The Declaration justified the independence of the United States by listing colonial grievances against\n",
    "King George III, and by asserting certain natural and legal rights, including a right of revolution.\n",
    "Having served its original purpose in announcing independence, references to the text of the\n",
    "Declaration were few in the following years. Abraham Lincoln made it the centerpiece of his rhetoric\n",
    "(as in the Gettysburg Address of 1863) and his policies. Since then, it has become a well-known statement\n",
    "on human rights, particularly its second sentence:\n",
    "\n",
    "We hold these truths to be self-evident, that all men are created equal, that they are endowed by their\n",
    "Creator with certain unalienable Rights, that among these are Life, Liberty and the pursuit of Happiness.\n",
    "\n",
    "This has been called \"one of the best-known sentences in the English language\", containing \"the most potent\n",
    "and consequential words in American history\". The passage came to represent a moral standard to which\n",
    "the United States should strive. This view was notably promoted by Abraham Lincoln, who considered the\n",
    "Declaration to be the foundation of his political philosophy and argued that it is a statement of principles\n",
    "through which the United States Constitution should be interpreted.\n",
    "\n",
    "The U.S. Declaration of Independence inspired many other similar documents in other countries, the first\n",
    "being the 1789 Declaration of Flanders issued during the Brabant Revolution in the Austrian Netherlands\n",
    "(modern-day Belgium). It also served as the primary model for numerous declarations of independence across\n",
    "Europe and Latin America, as well as Africa (Liberia) and Oceania (New Zealand) during the first half of the\n",
    "19th century.'''\n",
    "\n",
    "# Split the string into a list of words.\n",
    "word_list = string_words.split()\n",
    "\n",
    "# Create a list of word frequencies using list comprehension.\n",
    "word_freq = [word_list.count(n) for n in word_list]\n",
    "\n",
    "# Print the original string, the list of words, and pairs of words along with their frequencies.\n",
    "print(\"String:\\n {} \\n\".format(string_words))\n",
    "print(\"List:\\n {} \\n\".format(str(word_list)))\n",
    "print(\"Pairs (Words and Frequencies:\\n {}\".format(str(list(zip(word_list, word_freq)))))\n"
   ]
  },
  {
   "cell_type": "code",
   "execution_count": 29,
   "id": "cf9533cd",
   "metadata": {},
   "outputs": [
    {
     "name": "stdout",
     "output_type": "stream",
     "text": [
      "[(1, 'a'), (2, 'b'), (3, 'c')]\n"
     ]
    }
   ],
   "source": [
    "# Define two lists\n",
    "list1 = [1, 2, 3]\n",
    "list2 = ['a', 'b', 'c']\n",
    "\n",
    "# Use zip to combine the lists\n",
    "zipped = zip(list1, list2)\n",
    "\n",
    "# Convert the zipped object to a list and print it\n",
    "zipped_list = list(zipped)\n",
    "print(zipped_list)\n"
   ]
  },
  {
   "cell_type": "code",
   "execution_count": 32,
   "id": "010015d0",
   "metadata": {},
   "outputs": [
    {
     "name": "stdout",
     "output_type": "stream",
     "text": [
      "Biden delivers stark warnings about potential second Trump term at star-studded fundraiser - CNN\n",
      "https://news.google.com/rss/articles/CBMibGh0dHBzOi8vd3d3LmNubi5jb20vMjAyNC8wNi8xNi9wb2xpdGljcy9qb2UtYmlkZW4tc3VwcmVtZS1jb3VydC13YXJuaW5nLWJhcmFjay1vYmFtYS1qaW1teS1raW1tZWwvaW5kZXguaHRtbNIBAA?oc=5\n",
      "Sun, 16 Jun 2024 15:03:00 GMT\n",
      "------------------------------------------------------------\n",
      "Peace talks 'tomorrow' if Russia leaves Ukraine - Zelensky - BBC.com\n",
      "https://news.google.com/rss/articles/CBMiLmh0dHBzOi8vd3d3LmJiYy5jb20vbmV3cy9hcnRpY2xlcy9jeHJyMWt5cDA0ZW_SATJodHRwczovL3d3dy5iYmMuY29tL25ld3MvYXJ0aWNsZXMvY3hycjFreXAwNGVvLmFtcA?oc=5\n",
      "Sun, 16 Jun 2024 15:12:58 GMT\n",
      "------------------------------------------------------------\n",
      "Israeli military announces 'tactical pause' to try to increase aid flow into Gaza - NBC News\n",
      "https://news.google.com/rss/articles/CBMicmh0dHBzOi8vd3d3Lm5iY25ld3MuY29tL25ld3Mvd29ybGQvaXNyYWVsaS1taWxpdGFyeS1hbm5vdW5jZXMtdGFjdGljYWwtcGF1c2UtdHJ5LWluY3JlYXNlLWFpZC1mbG93LWdhemEtcmNuYTE1NzM4M9IBAA?oc=5\n",
      "Sun, 16 Jun 2024 11:13:00 GMT\n",
      "------------------------------------------------------------\n",
      "Body of American tourist found on scenic Greek island, latest in a string of missing or dead foreigners - ABC News\n",
      "https://news.google.com/rss/articles/CBMiY2h0dHBzOi8vYWJjbmV3cy5nby5jb20vVVMvYm9keS1hbWVyaWNhbi10b3VyaXN0LWZvdW5kLXNjZW5pYy1ncmVlay1pc2xhbmQtbGF0ZXN0L3N0b3J5P2lkPTExMTE2NjE2NdIBAA?oc=5\n",
      "Sun, 16 Jun 2024 16:22:46 GMT\n",
      "------------------------------------------------------------\n",
      "Rochester Hills splash pad shooting suspect identified by Oakland County Sheriff's Office - Detroit Free Press\n",
      "https://news.google.com/rss/articles/CBMihQFodHRwczovL3d3dy5mcmVlcC5jb20vc3RvcnkvbmV3cy9sb2NhbC9taWNoaWdhbi9vYWtsYW5kLzIwMjQvMDYvMTYvcm9jaGVzdGVyLWhpbGxzLXNob290aW5nLXN1c3BlY3QtbWljaGFlbC13aWxsaWFtLW5hc2gvNzQxMTcwMzUwMDcv0gEA?oc=5\n",
      "Sun, 16 Jun 2024 14:30:13 GMT\n",
      "------------------------------------------------------------\n",
      "Fast-burning fire prompts evacuations, freeway closure near Gorman - Los Angeles Times\n",
      "https://news.google.com/rss/articles/CBMidWh0dHBzOi8vd3d3LmxhdGltZXMuY29tL2NhbGlmb3JuaWEvc3RvcnkvMjAyNC0wNi0xNS9mYXN0LWJ1cm5pbmctZmlyZS1wcm9tcHRzLWV2YWN1YXRpb25zLWZyZWV3YXktY2xvc3VyZS1uZWFyLWdvcm1vbtIBAA?oc=5\n",
      "Sun, 16 Jun 2024 16:05:00 GMT\n",
      "------------------------------------------------------------\n",
      "Two people killed, multiple wounded in shooting at Juneteenth celebration in Round Rock - Austin American-Statesman\n",
      "https://news.google.com/rss/articles/CBMijwFodHRwczovL3d3dy5zdGF0ZXNtYW4uY29tL3N0b3J5L25ld3MvY3JpbWUvMjAyNC8wNi8xNi9yb3VuZC1yb2NrLXBvbGljZS1zaG9vdGluZy1qdW5ldGVlbnRoLW9sZC1zZXR0bGVycy1wYXJrLWtpbGxlZC1mYXRhbC13b3VuZGVkLzc0MTE2MTYyMDA3L9IBAA?oc=5\n",
      "Sun, 16 Jun 2024 15:30:43 GMT\n",
      "------------------------------------------------------------\n",
      "US braces for ‘dangerous’ conditions as heatwave to hit midwest and north-east - The Guardian\n",
      "https://news.google.com/rss/articles/CBMiWmh0dHBzOi8vd3d3LnRoZWd1YXJkaWFuLmNvbS9lbnZpcm9ubWVudC9hcnRpY2xlLzIwMjQvanVuLzE2L3VzLWhlYXR3YXZlLW1pZHdlc3Qtbm9ydGgtZWFzdNIBWmh0dHBzOi8vYW1wLnRoZWd1YXJkaWFuLmNvbS9lbnZpcm9ubWVudC9hcnRpY2xlLzIwMjQvanVuLzE2L3VzLWhlYXR3YXZlLW1pZHdlc3Qtbm9ydGgtZWFzdA?oc=5\n",
      "Sun, 16 Jun 2024 14:40:00 GMT\n",
      "------------------------------------------------------------\n",
      "Why not them? Key Republicans didn't make Trump's veep list - POLITICO\n",
      "https://news.google.com/rss/articles/CBMiSGh0dHBzOi8vd3d3LnBvbGl0aWNvLmNvbS9uZXdzLzIwMjQvMDYvMTYvcmVwdWJsaWNhbnMtdHJ1bXAtdmVlcC0wMDE2MzU5NNIBAA?oc=5\n",
      "Sun, 16 Jun 2024 11:00:00 GMT\n",
      "------------------------------------------------------------\n",
      "Yellen on Trump's tariffs-taxes idea: It would 'make life unaffordable' - POLITICO\n",
      "https://news.google.com/rss/articles/CBMiWWh0dHBzOi8vd3d3LnBvbGl0aWNvLmNvbS9uZXdzLzIwMjQvMDYvMTYvamFuZXQteWVsbGVuLWRvbmFsZC10cnVtcC10YXJpZmZzLXRheGVzLTAwMTYzNjA10gEA?oc=5\n",
      "Sun, 16 Jun 2024 15:10:39 GMT\n",
      "------------------------------------------------------------\n",
      "Two reservists killed in north Gaza, as soldiers slain in Rafah blast named - The Times of Israel\n",
      "https://news.google.com/rss/articles/CBMiaWh0dHBzOi8vd3d3LnRpbWVzb2Zpc3JhZWwuY29tL3R3by1yZXNlcnZpc3RzLWtpbGxlZC1pbi1ub3J0aC1nYXphLWFzLXNvbGRpZXJzLXNsYWluLWluLXJhZmFoLWJsYXN0LW5hbWVkL9IBbWh0dHBzOi8vd3d3LnRpbWVzb2Zpc3JhZWwuY29tL3R3by1yZXNlcnZpc3RzLWtpbGxlZC1pbi1ub3J0aC1nYXphLWFzLXNvbGRpZXJzLXNsYWluLWluLXJhZmFoLWJsYXN0LW5hbWVkL2FtcC8?oc=5\n",
      "Sun, 16 Jun 2024 09:22:30 GMT\n",
      "------------------------------------------------------------\n",
      "Hajj 2024: At least 14 pilgrims die from sunstroke - The Associated Press\n",
      "https://news.google.com/rss/articles/CBMiZWh0dHBzOi8vYXBuZXdzLmNvbS9hcnRpY2xlL2hhamotbWVjY2Etc2F1ZGktYXJhYmlhLW11c2xpbS1waWxncmltYWdlLTAyNzhjNmUxMDQwZWFjNWYwYjgzNGY3NjJmNDFkYjI30gEA?oc=5\n",
      "Sun, 16 Jun 2024 16:12:00 GMT\n",
      "------------------------------------------------------------\n",
      "School for Men in Colombia teaches diapering, ponytail-making and more : Goats and Soda - NPR\n",
      "https://news.google.com/rss/articles/CBMifmh0dHBzOi8vd3d3Lm5wci5vcmcvc2VjdGlvbnMvZ29hdHMtYW5kLXNvZGEvMjAyNC8wNi8xNi9nLXMxLTQ1ODUvZmF0aGVycy1kYXktZ29vZC1kYWQtc2Nob29sLWZvci1tZW4tZGlhcGVyaW5nLXBvbnl0YWlsLW1ha2luZ9IBAA?oc=5\n",
      "Sun, 16 Jun 2024 11:19:52 GMT\n",
      "------------------------------------------------------------\n",
      "Parties quizzed on the future of social care - BBC.com\n",
      "https://news.google.com/rss/articles/CBMiLmh0dHBzOi8vd3d3LmJiYy5jb20vbmV3cy9hcnRpY2xlcy9jemRkMjg1OHBkOG_SATJodHRwczovL3d3dy5iYmMuY29tL25ld3MvYXJ0aWNsZXMvY3pkZDI4NThwZDhvLmFtcA?oc=5\n",
      "Sun, 16 Jun 2024 08:38:29 GMT\n",
      "------------------------------------------------------------\n",
      "Stocks are sexy, but these market gurus see a generational opportunity in bonds - Fortune\n",
      "https://news.google.com/rss/articles/CBMiY2h0dHBzOi8vZm9ydHVuZS5jb20vMjAyNC8wNi8xNi9zdG9ja3MtYXJlLXNleHktYnV0LW1hcmtldC1ndXJ1cy1zZWUtZ2VuZXJhdGlvbmFsLW9wcG9ydHVuaXR5LWJvbmRzL9IBAA?oc=5\n",
      "Sun, 16 Jun 2024 10:00:00 GMT\n",
      "------------------------------------------------------------\n",
      "US executive pay rises at fastest rate in 14 years - Financial Times\n",
      "https://news.google.com/rss/articles/CBMiP2h0dHBzOi8vd3d3LmZ0LmNvbS9jb250ZW50L2EwMTc5YTBhLTgwYmYtNGJmYy04ZGVhLTFhMjllNmM3ZDEwY9IBAA?oc=5\n",
      "Sun, 16 Jun 2024 10:00:07 GMT\n",
      "------------------------------------------------------------\n",
      "The EU has just put its car industry on the road to destruction - The Telegraph\n",
      "https://news.google.com/rss/articles/CBMibGh0dHBzOi8vd3d3LnRlbGVncmFwaC5jby51ay9idXNpbmVzcy8yMDI0LzA2LzE2L2V1LXdhci1jaGluZXNlLWVsZWN0cmljLWNhcnMtc2luay1vbmNlLW1pZ2h0eS1hdXRvLWluZHVzdHJ5L9IBAA?oc=5\n",
      "Sun, 16 Jun 2024 10:00:00 GMT\n",
      "------------------------------------------------------------\n",
      "Cucumber Recall Update As FDA Sets Highest Risk Level - Newsweek\n",
      "https://news.google.com/rss/articles/CBMiRmh0dHBzOi8vd3d3Lm5ld3N3ZWVrLmNvbS9jdWN1bWJlci1yZWNhbGwtdXBkYXRlLWZkYS1yaXNrLWxldmVsLTE5MTMzNzHSAQA?oc=5\n",
      "Sun, 16 Jun 2024 08:57:02 GMT\n",
      "------------------------------------------------------------\n",
      "Apple Is the First Giant Tech Company to Make Useful AI Products - Business Insider\n",
      "https://news.google.com/rss/articles/CBMic2h0dHBzOi8vd3d3LmJ1c2luZXNzaW5zaWRlci5jb20vYXBwbGUtd2lubmVyLWJpZy10ZWNoLWNvbXBhbnktYXJ0aWZpY2FsLWludGVsbGlnZW5jZS1nb29nbGUtbWljcm9zb2Z0LW9wZW5haS0yMDI0LTbSAQA?oc=5\n",
      "Sun, 16 Jun 2024 09:57:00 GMT\n",
      "------------------------------------------------------------\n",
      "Watch Apple BRUTALLY roast Microsoft's spectacular Windows Recall AI failure - Windows Central\n",
      "https://news.google.com/rss/articles/CBMijQFodHRwczovL3d3dy53aW5kb3dzY2VudHJhbC5jb20vc29mdHdhcmUtYXBwcy93aW5kb3dzLTExL2xpc3Rlbi10by1hcHBsZXMtbW9ja2luZy1yZXNwb25zZS10by1taWNyb3NvZnRzLXNwZWN0YWN1bGFyLXdpbmRvd3MtcmVjYWxsLWFpLWZhaWx1cmXSAQA?oc=5\n",
      "Sat, 15 Jun 2024 18:54:20 GMT\n",
      "------------------------------------------------------------\n",
      "Official Galaxy Z Flip 6 spec sheet leaks - SamMobile - Samsung news\n",
      "https://news.google.com/rss/articles/CBMiSWh0dHBzOi8vd3d3LnNhbW1vYmlsZS5jb20vbmV3cy9vZmZpY2lhbC1nYWxheHktei1mbGlwLTYtc3BlYy1zaGVldC1sZWFrcy_SAQA?oc=5\n",
      "Sat, 15 Jun 2024 08:21:00 GMT\n",
      "------------------------------------------------------------\n",
      "Today only: Beats Studio Buds are down to $80 from $150 - Digital Trends\n",
      "https://news.google.com/rss/articles/CBMiVWh0dHBzOi8vd3d3LmRpZ2l0YWx0cmVuZHMuY29tL2hvbWUtdGhlYXRlci9iZWF0cy1zdHVkaW8tYnVkcy1kZWFsLWJlc3QtYnV5LWp1bmUtMjAyNC_SAVlodHRwczovL3d3dy5kaWdpdGFsdHJlbmRzLmNvbS9ob21lLXRoZWF0ZXIvYmVhdHMtc3R1ZGlvLWJ1ZHMtZGVhbC1iZXN0LWJ1eS1qdW5lLTIwMjQvP2FtcA?oc=5\n",
      "Sat, 15 Jun 2024 16:00:11 GMT\n",
      "------------------------------------------------------------\n",
      "Box Office: ‘Inside Out 2’ Delivers Historic $155M U.S. Opening and $295M Globally in Huge Pixar Comeback - Hollywood Reporter\n",
      "https://news.google.com/rss/articles/CBMibmh0dHBzOi8vd3d3LmhvbGx5d29vZHJlcG9ydGVyLmNvbS9tb3ZpZXMvbW92aWUtbmV3cy9pbnNpZGUtb3V0LTItYm94LW9mZmljZS1oaXN0b3JpYy1waXhhci1vcGVuaW5nLTEyMzU5MjM1OTgv0gFyaHR0cHM6Ly93d3cuaG9sbHl3b29kcmVwb3J0ZXIuY29tL21vdmllcy9tb3ZpZS1uZXdzL2luc2lkZS1vdXQtMi1ib3gtb2ZmaWNlLWhpc3RvcmljLXBpeGFyLW9wZW5pbmctMTIzNTkyMzU5OC9hbXAv?oc=5\n",
      "Sun, 16 Jun 2024 16:15:28 GMT\n",
      "------------------------------------------------------------\n",
      "Taylor Swift's ex Joe Alwyn breaks silence on split, says relationship was 'long, loving, fully committed' - Fox News\n",
      "https://news.google.com/rss/articles/CBMigwFodHRwczovL3d3dy5mb3huZXdzLmNvbS9lbnRlcnRhaW5tZW50L3RheWxvci1zd2lmdHMtZXgtam9lLWFsd3luLWJyZWFrcy1zaWxlbmNlLXNwbGl0LXNheXMtcmVsYXRpb25zaGlwLWxvbmctbG92aW5nLWZ1bGx5LWNvbW1pdHRlZNIBhwFodHRwczovL3d3dy5mb3huZXdzLmNvbS9lbnRlcnRhaW5tZW50L3RheWxvci1zd2lmdHMtZXgtam9lLWFsd3luLWJyZWFrcy1zaWxlbmNlLXNwbGl0LXNheXMtcmVsYXRpb25zaGlwLWxvbmctbG92aW5nLWZ1bGx5LWNvbW1pdHRlZC5hbXA?oc=5\n",
      "Sun, 16 Jun 2024 06:42:00 GMT\n",
      "------------------------------------------------------------\n",
      "Nick Jonas and Adrienne Warren to Star in 'Last Five Years' on Broadway - The New York Times\n",
      "https://news.google.com/rss/articles/CBMiU2h0dHBzOi8vd3d3Lm55dGltZXMuY29tLzIwMjQvMDYvMTYvdGhlYXRlci9uaWNrLWpvbmFzLWFkcmllbm5lLXdhcnJlbi1icm9hZHdheS5odG1s0gEA?oc=5\n",
      "Sun, 16 Jun 2024 12:00:07 GMT\n",
      "------------------------------------------------------------\n",
      "Princess Kates balcony appearance decided at very last minute - The News International\n",
      "https://news.google.com/rss/articles/CBMiZ2h0dHBzOi8vd3d3LnRoZW5ld3MuY29tLnBrL2xhdGVzdC8xMjAxMDg5LXByaW5jZXNzLWthdGVzLWJhbGNvbnktYXBwZWFyYW5jZS1kZWNpZGVkLWF0LXZlcnktbGFzdC1taW51dGXSAWRodHRwczovL3d3dy50aGVuZXdzLmNvbS5way9hbXAvMTIwMTA4OS1wcmluY2Vzcy1rYXRlcy1iYWxjb255LWFwcGVhcmFuY2UtZGVjaWRlZC1hdC12ZXJ5LWxhc3QtbWludXRl?oc=5\n",
      "Sun, 16 Jun 2024 15:26:27 GMT\n",
      "------------------------------------------------------------\n",
      "Fever vs. Sky: Live updates, score, highlights and more as Indiana, Caitlin Clark take on Chicago, Angel Reese - Yahoo Sports\n",
      "https://news.google.com/rss/articles/CBMilQFodHRwczovL3Nwb3J0cy55YWhvby5jb20vbGl2ZS9mZXZlci12cy1za3ktbGl2ZS11cGRhdGVzLXNjb3JlLWhpZ2hsaWdodHMtYW5kLW1vcmUtYXMtaW5kaWFuYS1jYWl0bGluLWNsYXJrLXRha2Utb24tY2hpY2Fnby1hbmdlbC1yZWVzZS0xNTAwMDgzMjYuaHRtbNIBAA?oc=5\n",
      "Sun, 16 Jun 2024 16:46:48 GMT\n",
      "------------------------------------------------------------\n",
      "US Open live updates: Leaderboard, Sunday tee times for final round at Pinehurst - USA TODAY\n",
      "https://news.google.com/rss/articles/CBMif2h0dHBzOi8vd3d3LnVzYXRvZGF5LmNvbS9zdG9yeS9zcG9ydHMvZ29sZi8yMDI0LzA2LzE2L3VzLW9wZW4tbGl2ZS1sZWFkZXJib2FyZC10ZWUtdGltZXMtc2NvcmVzLXN1bmRheS1maW5hbC1yb3VuZC83NDExNDc1MDAwNy_SAQA?oc=5\n",
      "Sun, 16 Jun 2024 15:45:00 GMT\n",
      "------------------------------------------------------------\n",
      "Connor McDavid Breaks Wayne Gretzky's NHL Record for Assists in Single Playoff Run - Bleacher Report\n",
      "https://news.google.com/rss/articles/CBMifmh0dHBzOi8vYmxlYWNoZXJyZXBvcnQuY29tL2FydGljbGVzLzEwMTI0OTg2LWNvbm5vci1tY2RhdmlkLWJyZWFrcy13YXluZS1ncmV0emt5cy1uaGwtcmVjb3JkLWZvci1hc3Npc3RzLWluLXNpbmdsZS1wbGF5b2ZmLXJ1btIBjgFodHRwczovL3N5bmRpY2F0aW9uLmJsZWFjaGVycmVwb3J0LmNvbS9hbXAvMTAxMjQ5ODYtY29ubm9yLW1jZGF2aWQtYnJlYWtzLXdheW5lLWdyZXR6a3lzLW5obC1yZWNvcmQtZm9yLWFzc2lzdHMtaW4tc2luZ2xlLXBsYXlvZmYtcnVuLmFtcC5odG1s?oc=5\n",
      "Sun, 16 Jun 2024 03:10:37 GMT\n",
      "------------------------------------------------------------\n",
      "Charles Barkley Offers Celtics No Leeway After ‘Embarrassing’ Finals Loss - NESN\n",
      "https://news.google.com/rss/articles/CBMiYWh0dHBzOi8vbmVzbi5jb20vMjAyNC8wNi9jaGFybGVzLWJhcmtsZXktb2ZmZXJzLWNlbHRpY3Mtbm8tbGVld2F5LWFmdGVyLWVtYmFycmFzc2luZy1maW5hbHMtbG9zcy_SAWVodHRwczovL25lc24uY29tLzIwMjQvMDYvY2hhcmxlcy1iYXJrbGV5LW9mZmVycy1jZWx0aWNzLW5vLWxlZXdheS1hZnRlci1lbWJhcnJhc3NpbmctZmluYWxzLWxvc3MvYW1wLw?oc=5\n",
      "Sat, 15 Jun 2024 19:34:58 GMT\n",
      "------------------------------------------------------------\n",
      "Nova explosion of nearby star will soon light up Earth's skies - Earth.com\n",
      "https://news.google.com/rss/articles/CBMiX2h0dHBzOi8vd3d3LmVhcnRoLmNvbS9uZXdzL3QtY29yb25hZS1ib3JlYWxpcy1ub3ZhLWV4cGxvc2lvbi1uZWFyYnktc3Rhci1saWdodC11cC1lYXJ0aHMtc2tpZXMv0gEA?oc=5\n",
      "Sun, 16 Jun 2024 00:49:55 GMT\n",
      "------------------------------------------------------------\n",
      "NASA rover discovers mysterious Mars boulder unlike any others - Mashable\n",
      "https://news.google.com/rss/articles/CBMiPmh0dHBzOi8vbWFzaGFibGUuY29tL2FydGljbGUvbmFzYS1tYXJzLXJvdmVyLWJvdWxkZXItZGlzY292ZXJ50gEA?oc=5\n",
      "Sat, 15 Jun 2024 09:00:00 GMT\n",
      "------------------------------------------------------------\n",
      "NASA announces a new return date for the Starliner spacecraft - WESH 2 News\n",
      "https://news.google.com/rss/articles/CCAiCzhYZGVWTE41NjJNmAEB?oc=5\n",
      "Fri, 14 Jun 2024 22:41:51 GMT\n",
      "------------------------------------------------------------\n",
      "Flares and Echoes: Unveiling the Supermassive Black Hole at the Milky Way's Core - The Daily Galaxy --Great Discoveries Channel\n",
      "https://news.google.com/rss/articles/CBMiRWh0dHBzOi8vZGFpbHlnYWxheHkuY29tLzIwMjQvMDYvZmxhcmVzLWFuZC1lY2hvZXMtbW9uc3Rlci1ibGFjay1ob2xlL9IBAA?oc=5\n",
      "Sat, 15 Jun 2024 20:00:06 GMT\n",
      "------------------------------------------------------------\n",
      "As bird flu runs rampant through dairy farms, concern grows - USA TODAY\n",
      "https://news.google.com/rss/articles/CBMiY2h0dHBzOi8vd3d3LnVzYXRvZGF5LmNvbS9zdG9yeS9uZXdzL25hdGlvbi8yMDI0LzA2LzE2L2JpcmQtZmx1LXNwcmVhZGluZy1jb25jZXJucy1ncm93Lzc0MDkwNzQ1MDA3L9IBAA?oc=5\n",
      "Sun, 16 Jun 2024 09:12:55 GMT\n",
      "------------------------------------------------------------\n",
      "Rare drug-resistant flu variant identified in the US, CDC says - CNN\n",
      "https://news.google.com/rss/articles/CBMiV2h0dHBzOi8vd3d3LmNubi5jb20vMjAyNC8wNi8xNC9oZWFsdGgvZHVhbC1tdXRhbnQtZHJ1Zy1yZXNpc3RhbnQtZmx1LXZhcmlhbnQvaW5kZXguaHRtbNIBUGh0dHBzOi8vYW1wLmNubi5jb20vY25uLzIwMjQvMDYvMTQvaGVhbHRoL2R1YWwtbXV0YW50LWRydWctcmVzaXN0YW50LWZsdS12YXJpYW50?oc=5\n",
      "Fri, 14 Jun 2024 21:11:00 GMT\n",
      "------------------------------------------------------------\n",
      "A rare flesh-eating bacteria with a 'terrifying' mortality rate that can kill people in 48 hours is spreading in Japan - Fortune\n",
      "https://news.google.com/rss/articles/CBMiemh0dHBzOi8vZm9ydHVuZS5jb20vMjAyNC8wNi8xNS9mbGVzaC1lYXRpbmctYmFjdGVyaWEtdGVycmlmeWluZy1tb3J0YWxpdHktcmF0ZS1ncm91cC1hLXN0cmVwdG9jb2NjdXMtc2hvY2stc3luZHJvbWUtamFwYW4v0gEA?oc=5\n",
      "Sat, 15 Jun 2024 22:51:00 GMT\n",
      "------------------------------------------------------------\n",
      "Older women are at risk because of their low representation in research - The Washington Post\n",
      "https://news.google.com/rss/articles/CBMiX2h0dHBzOi8vd3d3Lndhc2hpbmd0b25wb3N0LmNvbS9oZWFsdGgvMjAyNC8wNi8xNi9hZ2luZy13b21lbi11bmRlcnJlcHJlc2VudGVkLW1lZGljYWwtcmVzZWFyY2gv0gEA?oc=5\n",
      "Sun, 16 Jun 2024 11:01:37 GMT\n",
      "------------------------------------------------------------\n"
     ]
    }
   ],
   "source": [
    "# 8 web scraping\n",
    "# Import the 'bs4' module for web scraping and 'urlopen' function for opening URLs.\n",
    "import bs4\n",
    "from bs4 import BeautifulSoup as soup\n",
    "from urllib.request import urlopen\n",
    "\n",
    "# URL of the news RSS feed\n",
    "news_url = \"https://news.google.com/news/rss\"\n",
    "\n",
    "# Open the URL using 'urlopen' and read the content of the webpage.\n",
    "Client = urlopen(news_url)\n",
    "xml_page = Client.read()\n",
    "Client.close()\n",
    "\n",
    "# Create a BeautifulSoup object to parse the XML content of the webpage.\n",
    "soup_page = soup(xml_page, \"xml\")\n",
    "\n",
    "# Find all XML tags with the name \"item\" to extract news items.\n",
    "news_list = soup_page.findAll(\"item\")\n",
    "\n",
    "# Print news title, URL, and publish date for each news item.\n",
    "for news in news_list:\n",
    "    print(news.title.text)\n",
    "    print(news.link.text)\n",
    "    print(news.pubDate.text)\n",
    "    print(\"-\" * 60)\n"
   ]
  },
  {
   "cell_type": "code",
   "execution_count": 33,
   "id": "141ebbea",
   "metadata": {},
   "outputs": [
    {
     "name": "stdout",
     "output_type": "stream",
     "text": [
      "absl-py==2.1.0\n",
      "aext-assistant-server==0.4.0\n",
      "aext-assistant==0.4.0\n",
      "aext-core-server==0.4.0\n",
      "aext-core==0.4.0\n",
      "aext-shared==0.4.0\n",
      "aiobotocore==2.7.0\n",
      "aiofiles==22.1.0\n",
      "aiohttp==3.9.3\n",
      "aioitertools==0.7.1\n",
      "aiosignal==1.2.0\n",
      "aiosqlite==0.18.0\n",
      "alabaster==0.7.12\n",
      "altair==5.0.1\n",
      "anaconda-anon-usage==0.4.3\n",
      "anaconda-catalogs==0.2.0\n",
      "anaconda-client==1.12.3\n",
      "anaconda-cloud-auth==0.5.1\n",
      "anaconda-navigator==2.6.0\n",
      "anaconda-project==0.11.1\n",
      "anyio==4.2.0\n",
      "appdirs==1.4.4\n",
      "archspec==0.2.3\n",
      "argon2-cffi-bindings==21.2.0\n",
      "argon2-cffi==21.3.0\n",
      "arrow==1.2.3\n",
      "astroid==2.14.2\n",
      "astropy==5.3.4\n",
      "asttokens==2.0.5\n",
      "astunparse==1.6.3\n",
      "async-lru==2.0.4\n",
      "atomicwrites==1.4.0\n",
      "attrs==23.1.0\n",
      "automat==20.2.0\n",
      "autopep8==1.6.0\n",
      "babel==2.11.0\n",
      "backports.functools-lru-cache==1.6.4\n",
      "backports.tempfile==1.0\n",
      "backports.weakref==1.0.post1\n",
      "bcrypt==3.2.0\n",
      "beautifulsoup4==4.12.2\n",
      "binaryornot==0.4.4\n",
      "black==23.11.0\n",
      "bleach==4.1.0\n",
      "blinker==1.6.2\n",
      "bokeh==3.3.4\n",
      "boltons==23.0.0\n",
      "botocore==1.31.64\n",
      "bottleneck==1.3.7\n",
      "brotli==1.0.9\n",
      "cachetools==4.2.2\n",
      "certifi==2024.2.2\n",
      "cffi==1.16.0\n",
      "chardet==4.0.0\n",
      "charset-normalizer==2.0.4\n",
      "click==8.1.7\n",
      "cloudpickle==2.2.1\n",
      "clyent==1.2.2\n",
      "colorama==0.4.6\n",
      "colorcet==3.0.1\n",
      "comm==0.1.2\n",
      "conda-build==24.1.2\n",
      "conda-content-trust==0.2.0\n",
      "conda-index==0.4.0\n",
      "conda-libmamba-solver==24.1.0\n",
      "conda-pack==0.6.0\n",
      "conda-package-handling==2.2.0\n",
      "conda-package-streaming==0.9.0\n",
      "conda-repo-cli==1.0.75\n",
      "conda-token==0.4.0\n",
      "conda-verify==3.4.2\n",
      "conda==24.5.0\n",
      "constantly==23.10.4\n",
      "contourpy==1.2.0\n",
      "cookiecutter==2.5.0\n",
      "cryptography==42.0.2\n",
      "cssselect==1.2.0\n",
      "cycler==0.11.0\n",
      "cytoolz==0.12.2\n",
      "dask==2023.11.0\n",
      "datashader==0.16.0\n",
      "debugpy==1.6.7\n",
      "decorator==5.1.1\n",
      "defusedxml==0.7.1\n",
      "diff-match-patch==20200713\n",
      "dill==0.3.7\n",
      "distributed==2023.11.0\n",
      "distro==1.8.0\n",
      "docstring-to-markdown==0.11\n",
      "docutils==0.18.1\n",
      "entrypoints==0.4\n",
      "et-xmlfile==1.1.0\n",
      "executing==0.8.3\n",
      "fastjsonschema==2.16.2\n",
      "filelock==3.13.1\n",
      "flake8==6.0.0\n",
      "flask==2.2.5\n",
      "flatbuffers==24.3.25\n",
      "fonttools==4.25.0\n",
      "frozendict==2.4.2\n",
      "frozenlist==1.4.0\n",
      "fsspec==2023.10.0\n",
      "fst-pso==1.8.1\n",
      "future==0.18.3\n",
      "fuzzytm==2.0.9\n",
      "gast==0.5.4\n",
      "gensim==4.3.0\n",
      "gitdb==4.0.7\n",
      "gitpython==3.1.37\n",
      "gmpy2==2.1.2\n",
      "google-pasta==0.2.0\n",
      "graphviz==0.20.3\n",
      "greenlet==3.0.1\n",
      "grpcio==1.64.0\n",
      "h11==0.14.0\n",
      "h5py==3.11.0\n",
      "heapdict==1.0.1\n",
      "holoviews==1.18.3\n",
      "httpcore==1.0.2\n",
      "httpx==0.26.0\n",
      "hvplot==0.9.2\n",
      "hyperlink==21.0.0\n",
      "idna==3.4\n",
      "imagecodecs==2023.1.23\n",
      "imageio==2.33.1\n",
      "imagesize==1.4.1\n",
      "imbalanced-learn==0.11.0\n",
      "importlib-metadata==7.0.1\n",
      "incremental==22.10.0\n",
      "inflection==0.5.1\n",
      "iniconfig==1.1.1\n",
      "intake==0.6.8\n",
      "intervaltree==3.1.0\n",
      "ipykernel==6.28.0\n",
      "ipython-genutils==0.2.0\n",
      "ipython==8.20.0\n",
      "ipywidgets==7.6.5\n",
      "isort==5.9.3\n",
      "itemadapter==0.3.0\n",
      "itemloaders==1.1.0\n",
      "itsdangerous==2.0.1\n",
      "jaraco.classes==3.2.1\n",
      "jedi==0.18.1\n",
      "jellyfish==1.0.1\n",
      "jinja2==3.1.3\n",
      "jmespath==1.0.1\n",
      "joblib==1.2.0\n",
      "json5==0.9.6\n",
      "jsonpatch==1.32\n",
      "jsonpointer==2.1\n",
      "jsonschema-specifications==2023.7.1\n",
      "jsonschema==4.19.2\n",
      "jupyter-client==7.4.9\n",
      "jupyter-console==6.6.3\n",
      "jupyter-core==5.5.0\n",
      "jupyter-events==0.8.0\n",
      "jupyter-lsp==2.2.0\n",
      "jupyter-server-fileid==0.9.0\n",
      "jupyter-server-terminals==0.4.4\n",
      "jupyter-server-ydoc==0.8.0\n",
      "jupyter-server==2.10.0\n",
      "jupyter-ydoc==0.2.4\n",
      "jupyter==1.0.0\n",
      "jupyterlab-pygments==0.1.2\n",
      "jupyterlab-server==2.25.1\n",
      "jupyterlab-widgets==3.0.9\n",
      "jupyterlab==3.6.7\n",
      "keras==3.3.3\n",
      "keyring==23.13.1\n",
      "kiwisolver==1.4.4\n",
      "lazy-loader==0.3\n",
      "lazy-object-proxy==1.6.0\n",
      "lckr-jupyterlab-variableinspector==3.1.0\n",
      "libarchive-c==2.9\n",
      "libclang==18.1.1\n",
      "libmambapy==1.5.6\n",
      "linkify-it-py==2.0.0\n",
      "llvmlite==0.42.0\n",
      "lmdb==1.4.1\n",
      "locket==1.0.0\n",
      "lxml==4.9.3\n",
      "lz4==4.3.2\n",
      "markdown-it-py==2.2.0\n",
      "markdown==3.4.1\n",
      "markupsafe==2.1.3\n",
      "matplotlib-inline==0.1.6\n",
      "matplotlib==3.6.0\n",
      "mccabe==0.7.0\n",
      "mdit-py-plugins==0.3.0\n",
      "mdurl==0.1.0\n",
      "menuinst==2.0.2\n",
      "miniful==0.0.6\n",
      "mistune==2.0.4\n",
      "mkl-fft==1.3.8\n",
      "mkl-random==1.2.4\n",
      "mkl-service==2.4.0\n",
      "ml-dtypes==0.3.2\n",
      "more-itertools==10.1.0\n",
      "mpmath==1.3.0\n",
      "msgpack==1.0.3\n",
      "multidict==6.0.4\n",
      "multipledispatch==0.6.0\n",
      "munkres==1.1.4\n",
      "mypy-extensions==1.0.0\n",
      "mypy==1.8.0\n",
      "namex==0.0.8\n",
      "navigator-updater==0.4.0\n",
      "nbclassic==1.0.0\n",
      "nbclient==0.8.0\n",
      "nbconvert==7.10.0\n",
      "nbformat==5.9.2\n",
      "nest-asyncio==1.6.0\n",
      "networkx==3.1\n",
      "nltk==3.8.1\n",
      "notebook-shim==0.2.3\n",
      "notebook==6.5.4\n",
      "numba==0.59.0\n",
      "numexpr==2.8.7\n",
      "numpy==1.26.4\n",
      "numpydoc==1.5.0\n",
      "openpyxl==3.0.10\n",
      "opt-einsum==3.3.0\n",
      "optree==0.11.0\n",
      "overrides==7.4.0\n",
      "packaging==23.1\n",
      "pandas==1.5.3\n",
      "pandocfilters==1.5.0\n",
      "panel==1.3.8\n",
      "param==2.0.2\n",
      "paramiko==2.8.1\n",
      "parsel==1.8.1\n",
      "parso==0.8.3\n",
      "partd==1.4.1\n",
      "pathlib==1.0.1\n",
      "pathspec==0.10.3\n",
      "patsy==0.5.3\n",
      "pexpect==4.8.0\n",
      "pickleshare==0.7.5\n",
      "pillow==10.2.0\n",
      "pip==23.3.1\n",
      "pkce==1.0.3\n",
      "pkginfo==1.9.6\n",
      "platformdirs==3.10.0\n",
      "plotly==5.9.0\n",
      "pluggy==1.0.0\n",
      "ply==3.11\n",
      "prometheus-client==0.14.1\n",
      "prompt-toolkit==3.0.43\n",
      "protego==0.1.16\n",
      "protobuf==3.20.3\n",
      "psutil==5.9.0\n",
      "ptyprocess==0.7.0\n",
      "pure-eval==0.2.2\n",
      "py-cpuinfo==9.0.0\n",
      "pyarrow==14.0.2\n",
      "pyasn1-modules==0.2.8\n",
      "pyasn1==0.4.8\n",
      "pycodestyle==2.10.0\n",
      "pycosat==0.6.6\n",
      "pycparser==2.21\n",
      "pyct==0.5.0\n",
      "pycurl==7.45.2\n",
      "pydantic==1.10.12\n",
      "pydeck==0.8.0\n",
      "pydispatcher==2.0.5\n",
      "pydocstyle==6.3.0\n",
      "pyerfa==2.0.0\n",
      "pyflakes==3.0.1\n",
      "pyfume==0.3.4\n",
      "pygments==2.15.1\n",
      "pyjwt==2.4.0\n",
      "pylint-venv==2.3.0\n",
      "pylint==2.16.2\n",
      "pyls-spyder==0.4.0\n",
      "pynacl==1.5.0\n",
      "pyodbc==5.0.1\n",
      "pyopenssl==24.0.0\n",
      "pyparsing==3.0.9\n",
      "pyqt5-sip==12.13.0\n",
      "pyqt5==5.15.10\n",
      "pyqtwebengine==5.15.6\n",
      "pysocks==1.7.1\n",
      "pytest==7.4.0\n",
      "python-dateutil==2.8.2\n",
      "python-dotenv==0.21.0\n",
      "python-json-logger==2.0.7\n",
      "python-lsp-black==1.2.1\n",
      "python-lsp-jsonrpc==1.0.0\n",
      "python-lsp-server==1.7.2\n",
      "python-slugify==5.0.2\n",
      "python-snappy==0.6.1\n",
      "pytoolconfig==1.2.6\n",
      "pytz==2023.3.post1\n",
      "pyviz-comms==2.3.0\n",
      "pywavelets==1.5.0\n",
      "pywin32-ctypes==0.2.0\n",
      "pywin32==305.1\n",
      "pywinpty==2.0.10\n",
      "pyyaml==6.0.1\n",
      "pyzmq==24.0.1\n",
      "qdarkstyle==3.0.2\n",
      "qstylizer==0.2.2\n",
      "qtawesome==1.2.2\n",
      "qtconsole==5.4.2\n",
      "qtpy==2.4.1\n",
      "queuelib==1.6.2\n",
      "referencing==0.30.2\n",
      "regex==2023.10.3\n",
      "requests-file==1.5.1\n",
      "requests-toolbelt==1.0.0\n",
      "requests==2.31.0\n",
      "rfc3339-validator==0.1.4\n",
      "rfc3986-validator==0.1.1\n",
      "rich==13.3.5\n",
      "rope==1.7.0\n",
      "rpds-py==0.10.6\n",
      "rtree==1.0.1\n",
      "ruamel-yaml-conda==0.17.21\n",
      "ruamel.yaml==0.17.21\n",
      "s3fs==2023.10.0\n",
      "scikit-image==0.22.0\n",
      "scikit-learn==1.5.0\n",
      "scipy==1.10.1\n",
      "scrapy==2.8.0\n",
      "seaborn==0.13.2\n",
      "semver==2.13.0\n",
      "send2trash==1.8.2\n",
      "service-identity==18.1.0\n",
      "setuptools==68.2.2\n",
      "simpful==2.12.0\n",
      "sip==6.7.12\n",
      "six==1.16.0\n",
      "sklearn-pandas==2.2.0\n",
      "smart-open==5.2.1\n",
      "smmap==4.0.0\n",
      "sniffio==1.3.0\n",
      "snowballstemmer==2.2.0\n",
      "sortedcontainers==2.4.0\n",
      "soupsieve==2.5\n",
      "sphinx==5.0.2\n",
      "sphinxcontrib-applehelp==1.0.2\n",
      "sphinxcontrib-devhelp==1.0.2\n",
      "sphinxcontrib-htmlhelp==2.0.0\n",
      "sphinxcontrib-jsmath==1.0.1\n",
      "sphinxcontrib-qthelp==1.0.3\n",
      "sphinxcontrib-serializinghtml==1.1.5\n",
      "spyder-kernels==2.4.4\n",
      "spyder==5.4.3\n",
      "sqlalchemy==2.0.25\n",
      "stack-data==0.2.0\n",
      "statsmodels==0.14.0\n",
      "streamlit==1.30.0\n",
      "sympy==1.12\n",
      "tables==3.9.2\n",
      "tabulate==0.9.0\n",
      "tblib==1.7.0\n",
      "tenacity==8.2.2\n",
      "tensorboard-data-server==0.7.2\n",
      "tensorboard==2.16.2\n",
      "tensorflow-intel==2.16.1\n",
      "tensorflow-io-gcs-filesystem==0.31.0\n",
      "tensorflow==2.16.1\n",
      "termcolor==2.4.0\n",
      "terminado==0.17.1\n",
      "text-unidecode==1.3\n",
      "textdistance==4.2.1\n",
      "threadpoolctl==3.5.0\n",
      "three-merge==0.1.1\n",
      "tifffile==2023.4.12\n",
      "tinycss2==1.2.1\n",
      "tldextract==3.2.0\n",
      "toml==0.10.2\n",
      "tomlkit==0.11.1\n",
      "toolz==0.12.0\n",
      "tornado==6.3.3\n",
      "tqdm==4.65.0\n",
      "traitlets==5.7.1\n",
      "truststore==0.8.0\n",
      "twisted-iocpsupport==1.0.2\n",
      "twisted==23.10.0\n",
      "typing-extensions==4.9.0\n",
      "tzdata==2023.3\n",
      "tzlocal==2.1\n",
      "uc-micro-py==1.0.1\n",
      "ujson==5.4.0\n",
      "unidecode==1.2.0\n",
      "urllib3==2.0.7\n",
      "validators==0.18.2\n",
      "w3lib==2.1.2\n",
      "watchdog==2.1.6\n",
      "wcwidth==0.2.5\n",
      "webencodings==0.5.1\n",
      "websocket-client==0.58.0\n",
      "werkzeug==2.2.3\n",
      "whatthepatch==1.0.2\n",
      "wheel==0.41.2\n",
      "widgetsnbextension==3.5.2\n",
      "win-inet-pton==1.1.0\n",
      "wrapt==1.14.1\n",
      "xarray==2023.6.0\n",
      "xlwings==0.29.1\n",
      "xyzservices==2022.9.0\n",
      "y-py==0.5.9\n",
      "yapf==0.31.0\n",
      "yarl==1.9.3\n",
      "ypy-websocket==0.8.2\n",
      "zict==3.0.0\n",
      "zipp==3.17.0\n",
      "zope.interface==5.4.0\n",
      "zstandard==0.19.0\n"
     ]
    }
   ],
   "source": [
    "# Import the 'pkg_resources' module for working with Python packages.\n",
    "import pkg_resources\n",
    "\n",
    "# Get the list of installed packages using 'pkg_resources.working_set'.\n",
    "installed_packages = pkg_resources.working_set\n",
    "\n",
    "# Create a sorted list of strings representing installed packages and their versions.\n",
    "installed_packages_list = sorted([\"%s==%s\" % (i.key, i.version) for i in installed_packages])\n",
    "\n",
    "# Print each package and its version in the sorted list.\n",
    "for m in installed_packages_list:\n",
    "    print(m)"
   ]
  },
  {
   "cell_type": "code",
   "execution_count": 44,
   "id": "c54e4921",
   "metadata": {},
   "outputs": [
    {
     "name": "stdout",
     "output_type": "stream",
     "text": [
      "[[10, 20, 40], [10, 30, 30], [10, 40, 20], [20, 10, 40], [20, 20, 30], [20, 30, 20], [20, 40, 10], [20, 10, 40], [20, 20, 30], [20, 30, 20], [20, 40, 10], [20, 10, 40], [20, 20, 30], [20, 30, 20], [20, 40, 10]]\n"
     ]
    }
   ],
   "source": [
    "X = [10, 20, 20, 20]\n",
    "Y = [10, 20, 30, 40]\n",
    "Z = [10, 30, 40, 20]\n",
    "target = 70\n",
    "\n",
    "class Solution:\n",
    "    def combination(self, X, Y, Z, target):\n",
    "        save = []  # Initialize save inside the method\n",
    "        for numX in X:\n",
    "            for numY in Y:\n",
    "                for numZ in Z:\n",
    "                    total = numX + numY + numZ\n",
    "                    if total == target:\n",
    "                        save.append([numX, numY, numZ])\n",
    "        return save\n",
    "\n",
    "solution = Solution()\n",
    "result = solution.combination(X, Y, Z, target)\n",
    "print(result)\n"
   ]
  },
  {
   "cell_type": "code",
   "execution_count": 64,
   "id": "c81f3125",
   "metadata": {},
   "outputs": [
    {
     "name": "stdout",
     "output_type": "stream",
     "text": [
      "['dg', 'dh', 'di', 'eg', 'eh', 'ei', 'fg', 'fh', 'fi']\n"
     ]
    }
   ],
   "source": [
    "class Solution:\n",
    "    def combstr(self, value):\n",
    "        string_maps = {\n",
    "            \"1\": \"abc\",\n",
    "            \"2\": \"def\",\n",
    "            \"3\": \"ghi\",\n",
    "            \"4\": \"jkl\",\n",
    "            \"5\": \"mno\",\n",
    "            \"6\": \"pqrs\",\n",
    "            \"7\": \"tuv\",\n",
    "            \"8\": \"wxy\",\n",
    "            \"9\": \"z\"\n",
    "        }\n",
    "        combmap = []\n",
    "        value = str(value)\n",
    "        if len(value) != 2:\n",
    "            raise ValueError(\"The input should be a two-digit number.\")\n",
    "        alpha1 = string_maps[value[0]]\n",
    "        alpha2 = string_maps[value[1]]\n",
    "        combmap = [x + y for x in alpha1 for y in alpha2]\n",
    "        return combmap\n",
    "            \n",
    "solution = Solution()\n",
    "print(solution.combstr(23))\n"
   ]
  },
  {
   "cell_type": "code",
   "execution_count": 55,
   "id": "aae7e17c",
   "metadata": {},
   "outputs": [
    {
     "data": {
      "text/plain": [
       "'3'"
      ]
     },
     "execution_count": 55,
     "metadata": {},
     "output_type": "execute_result"
    }
   ],
   "source": [
    "value = 23\n",
    "str(value)[1:2]"
   ]
  },
  {
   "cell_type": "code",
   "execution_count": 70,
   "id": "6a291576",
   "metadata": {},
   "outputs": [
    {
     "ename": "TypeError",
     "evalue": "Both arguments must be numbers",
     "output_type": "error",
     "traceback": [
      "\u001b[1;31m---------------------------------------------------------------------------\u001b[0m",
      "\u001b[1;31mTypeError\u001b[0m                                 Traceback (most recent call last)",
      "Cell \u001b[1;32mIn[70], line 5\u001b[0m\n\u001b[0;32m      3\u001b[0m         \u001b[38;5;28;01mraise\u001b[39;00m \u001b[38;5;167;01mTypeError\u001b[39;00m(\u001b[38;5;124m\"\u001b[39m\u001b[38;5;124mBoth arguments must be numbers\u001b[39m\u001b[38;5;124m\"\u001b[39m)\n\u001b[0;32m      4\u001b[0m add_numbers(\u001b[38;5;241m2\u001b[39m,\u001b[38;5;241m2\u001b[39m)\n\u001b[1;32m----> 5\u001b[0m add_numbers(\u001b[38;5;241m2\u001b[39m,\u001b[38;5;124m'\u001b[39m\u001b[38;5;124mb\u001b[39m\u001b[38;5;124m'\u001b[39m)\n",
      "Cell \u001b[1;32mIn[70], line 3\u001b[0m, in \u001b[0;36madd_numbers\u001b[1;34m(a, b)\u001b[0m\n\u001b[0;32m      1\u001b[0m \u001b[38;5;28;01mdef\u001b[39;00m \u001b[38;5;21madd_numbers\u001b[39m(a, b):\n\u001b[0;32m      2\u001b[0m     \u001b[38;5;28;01mif\u001b[39;00m \u001b[38;5;129;01mnot\u001b[39;00m \u001b[38;5;28misinstance\u001b[39m(a, (\u001b[38;5;28mint\u001b[39m, \u001b[38;5;28mfloat\u001b[39m)) \u001b[38;5;129;01mor\u001b[39;00m \u001b[38;5;129;01mnot\u001b[39;00m \u001b[38;5;28misinstance\u001b[39m(b, (\u001b[38;5;28mint\u001b[39m, \u001b[38;5;28mfloat\u001b[39m)):\n\u001b[1;32m----> 3\u001b[0m         \u001b[38;5;28;01mraise\u001b[39;00m \u001b[38;5;167;01mTypeError\u001b[39;00m(\u001b[38;5;124m\"\u001b[39m\u001b[38;5;124mBoth arguments must be numbers\u001b[39m\u001b[38;5;124m\"\u001b[39m)\n",
      "\u001b[1;31mTypeError\u001b[0m: Both arguments must be numbers"
     ]
    }
   ],
   "source": [
    "def add_numbers(a, b):\n",
    "    if not isinstance(a, (int, float)) or not isinstance(b, (int, float)):\n",
    "        raise TypeError(\"Both arguments must be numbers\")\n",
    "add_numbers(2,2)\n",
    "add_numbers(2,'b')"
   ]
  },
  {
   "cell_type": "code",
   "execution_count": 73,
   "id": "e1e7ce97",
   "metadata": {},
   "outputs": [],
   "source": [
    "def get_element(lst, index):\n",
    "    if index >= len(lst) or index < 0:\n",
    "        raise IndexError(\"Index out of range\")\n",
    "#get_element([5,3,2,1,], 19)\n",
    "get_element([5,3,2,1,], 1)"
   ]
  },
  {
   "cell_type": "code",
   "execution_count": 86,
   "id": "bcffe102",
   "metadata": {},
   "outputs": [
    {
     "name": "stdout",
     "output_type": "stream",
     "text": [
      "happy function does indeed have 'not happy' \n"
     ]
    }
   ],
   "source": [
    "def happy(isit):\n",
    "    if isit not in ['happy','not happy']:\n",
    "        raise AttributeError(f\"happy function does not have '{isit}' attribute\")\n",
    "    else:\n",
    "        print(f\"happy function does indeed have '{isit}' \")\n",
    "happy('not happy')"
   ]
  },
  {
   "cell_type": "code",
   "execution_count": 105,
   "id": "07c5e8e5",
   "metadata": {},
   "outputs": [
    {
     "ename": "TypeError",
     "evalue": "Both arguments must be either int or float",
     "output_type": "error",
     "traceback": [
      "\u001b[1;31m---------------------------------------------------------------------------\u001b[0m",
      "\u001b[1;31mTypeError\u001b[0m                                 Traceback (most recent call last)",
      "Cell \u001b[1;32mIn[105], line 5\u001b[0m\n\u001b[0;32m      3\u001b[0m         \u001b[38;5;28;01mraise\u001b[39;00m \u001b[38;5;167;01mTypeError\u001b[39;00m(\u001b[38;5;124m'\u001b[39m\u001b[38;5;124mBoth arguments must be either int or float\u001b[39m\u001b[38;5;124m'\u001b[39m)\n\u001b[0;32m      4\u001b[0m divide(\u001b[38;5;241m2.212\u001b[39m,\u001b[38;5;241m3\u001b[39m)\n\u001b[1;32m----> 5\u001b[0m divide(\u001b[38;5;241m2.212\u001b[39m,\u001b[38;5;124m'\u001b[39m\u001b[38;5;124ma\u001b[39m\u001b[38;5;124m'\u001b[39m)\n",
      "Cell \u001b[1;32mIn[105], line 3\u001b[0m, in \u001b[0;36mdivide\u001b[1;34m(a, b)\u001b[0m\n\u001b[0;32m      1\u001b[0m \u001b[38;5;28;01mdef\u001b[39;00m \u001b[38;5;21mdivide\u001b[39m(a,b):\n\u001b[0;32m      2\u001b[0m     \u001b[38;5;28;01mif\u001b[39;00m \u001b[38;5;129;01mnot\u001b[39;00m \u001b[38;5;28misinstance\u001b[39m(a,(\u001b[38;5;28mint\u001b[39m,\u001b[38;5;28mfloat\u001b[39m)) \u001b[38;5;129;01mor\u001b[39;00m \u001b[38;5;129;01mnot\u001b[39;00m \u001b[38;5;28misinstance\u001b[39m(b,(\u001b[38;5;28mint\u001b[39m,\u001b[38;5;28mfloat\u001b[39m)):\n\u001b[1;32m----> 3\u001b[0m         \u001b[38;5;28;01mraise\u001b[39;00m \u001b[38;5;167;01mTypeError\u001b[39;00m(\u001b[38;5;124m'\u001b[39m\u001b[38;5;124mBoth arguments must be either int or float\u001b[39m\u001b[38;5;124m'\u001b[39m)\n",
      "\u001b[1;31mTypeError\u001b[0m: Both arguments must be either int or float"
     ]
    }
   ],
   "source": [
    "def divide(a,b):\n",
    "    if not isinstance(a,(int,float)) or not isinstance(b,(int,float)):\n",
    "        raise TypeError('Both arguments must be either int or float')\n",
    "divide(2.212,3)\n",
    "divide(2.212,'a')"
   ]
  },
  {
   "cell_type": "code",
   "execution_count": 111,
   "id": "18b59f1a",
   "metadata": {},
   "outputs": [
    {
     "name": "stdout",
     "output_type": "stream",
     "text": [
      "<class 'int'>\n",
      "3221\n",
      "<class 'int'>\n",
      "123456789\n"
     ]
    }
   ],
   "source": [
    "def reverse_number(num):\n",
    "    # Reverse the number\n",
    "    reverse = int(str(num)[::-1])\n",
    "    # Return the number\n",
    "    print(type(reverse))\n",
    "    return reverse\n",
    "\n",
    "## Example usage:\n",
    "print(reverse_number(1223)) # Output: 3221\n",
    "print(reverse_number(987654321)) # Output: 123456789\n"
   ]
  },
  {
   "cell_type": "raw",
   "id": "74fdcc15",
   "metadata": {},
   "source": [
    "to 13 w3resource and #330 leetcode has been done as of 6/16/24\n",
    "learned error handling: raise ___Errors('explain')"
   ]
  },
  {
   "cell_type": "code",
   "execution_count": 1,
   "id": "58aa1e09",
   "metadata": {},
   "outputs": [
    {
     "name": "stdout",
     "output_type": "stream",
     "text": [
      "True\n",
      "False\n"
     ]
    }
   ],
   "source": [
    "def is_palindrome(s):\n",
    "    return s == s[::-1]\n",
    "\n",
    "# Example usage:\n",
    "print(is_palindrome(\"racecar\"))  # Output: True\n",
    "print(is_palindrome(\"hello\"))    # Output: False\n"
   ]
  },
  {
   "cell_type": "code",
   "execution_count": 2,
   "id": "97270027",
   "metadata": {},
   "outputs": [
    {
     "name": "stdout",
     "output_type": "stream",
     "text": [
      "True\n",
      "False\n"
     ]
    }
   ],
   "source": [
    "def is_palindrome(s):\n",
    "    return s == s[::-1]\n",
    "\n",
    "# Example usage:\n",
    "print(is_palindrome(\"racecar\"))  # Output: True\n",
    "print(is_palindrome(\"hello\"))    # Output: False\n"
   ]
  },
  {
   "cell_type": "code",
   "execution_count": 3,
   "id": "c9bb30c8",
   "metadata": {},
   "outputs": [
    {
     "name": "stdout",
     "output_type": "stream",
     "text": [
      "[0, 1, 1, 2, 3, 5, 8, 13, 21, 34]\n"
     ]
    }
   ],
   "source": [
    "def fibonacci(n):\n",
    "    fib_sequence = [0, 1]\n",
    "    while len(fib_sequence) < n:\n",
    "        fib_sequence.append(fib_sequence[-1] + fib_sequence[-2])\n",
    "    return fib_sequence[:n]\n",
    "\n",
    "# Example usage:\n",
    "print(fibonacci(10))  # Output: [0, 1, 1, 2, 3, 5, 8, 13, 21, 34]\n"
   ]
  },
  {
   "cell_type": "code",
   "execution_count": 4,
   "id": "d2250d0b",
   "metadata": {},
   "outputs": [
    {
     "name": "stdout",
     "output_type": "stream",
     "text": [
      "120\n",
      "1\n"
     ]
    }
   ],
   "source": [
    "def factorial(n):\n",
    "    if n == 0:\n",
    "        return 1\n",
    "    return n * factorial(n - 1)\n",
    "\n",
    "# Example usage:\n",
    "print(factorial(5))  # Output: 120\n",
    "print(factorial(0))  # Output: 1\n"
   ]
  },
  {
   "cell_type": "code",
   "execution_count": 5,
   "id": "d2da5cc4",
   "metadata": {},
   "outputs": [
    {
     "name": "stdout",
     "output_type": "stream",
     "text": [
      "8\n",
      "-1\n"
     ]
    }
   ],
   "source": [
    "def find_largest(nums):\n",
    "    return max(nums)\n",
    "\n",
    "# Example usage:\n",
    "print(find_largest([3, 5, 7, 2, 8]))  # Output: 8\n",
    "print(find_largest([-1, -4, -3, -10]))  # Output: -1\n"
   ]
  },
  {
   "cell_type": "code",
   "execution_count": 6,
   "id": "d7a3cf47",
   "metadata": {},
   "outputs": [
    {
     "name": "stdout",
     "output_type": "stream",
     "text": [
      "3\n",
      "5\n"
     ]
    }
   ],
   "source": [
    "def count_vowels(s):\n",
    "    vowels = \"aeiouAEIOU\"\n",
    "    return sum(1 for char in s if char in vowels)\n",
    "\n",
    "# Example usage:\n",
    "print(count_vowels(\"hello world\"))  # Output: 3\n",
    "print(count_vowels(\"AEIOU\"))        # Output: 5\n"
   ]
  },
  {
   "cell_type": "code",
   "execution_count": 7,
   "id": "48bfbfaa",
   "metadata": {},
   "outputs": [
    {
     "name": "stdout",
     "output_type": "stream",
     "text": [
      "[1, 2, 3, 4, 5, 6]\n",
      "[0, 5, 10, 15]\n"
     ]
    }
   ],
   "source": [
    "def merge_sorted_lists(list1, list2):\n",
    "    sorted_list = []\n",
    "    i = j = 0\n",
    "\n",
    "    while i < len(list1) and j < len(list2):\n",
    "        if list1[i] < list2[j]:\n",
    "            sorted_list.append(list1[i])\n",
    "            i += 1\n",
    "        else:\n",
    "            sorted_list.append(list2[j])\n",
    "            j += 1\n",
    "\n",
    "    sorted_list.extend(list1[i:])\n",
    "    sorted_list.extend(list2[j:])\n",
    "    return sorted_list\n",
    "\n",
    "# Example usage:\n",
    "print(merge_sorted_lists([1, 3, 5], [2, 4, 6]))  # Output: [1, 2, 3, 4, 5, 6]\n",
    "print(merge_sorted_lists([0, 10], [5, 15]))      # Output: [0, 5, 10, 15]\n"
   ]
  },
  {
   "cell_type": "code",
   "execution_count": 8,
   "id": "97686a5e",
   "metadata": {},
   "outputs": [
    {
     "name": "stdout",
     "output_type": "stream",
     "text": [
      "[1, 2, 3, 4, 5]\n",
      "[10, 20, 30]\n"
     ]
    }
   ],
   "source": [
    "def remove_duplicates(nums):\n",
    "    return list(set(nums))\n",
    "\n",
    "# Example usage:\n",
    "print(remove_duplicates([1, 2, 2, 3, 4, 4, 5]))  # Output: [1, 2, 3, 4, 5]\n",
    "print(remove_duplicates([10, 20, 20, 10, 30]))  # Output: [10, 20, 30]\n"
   ]
  },
  {
   "cell_type": "code",
   "execution_count": 9,
   "id": "4cd1b9e9",
   "metadata": {},
   "outputs": [
    {
     "name": "stdout",
     "output_type": "stream",
     "text": [
      "True\n",
      "False\n"
     ]
    }
   ],
   "source": [
    "def is_prime(n):\n",
    "    if n <= 1:\n",
    "        return False\n",
    "    for i in range(2, int(n**0.5) + 1):\n",
    "        if n % i == 0:\n",
    "            return False\n",
    "    return True\n",
    "\n",
    "# Example usage:\n",
    "print(is_prime(7))  # Output: True\n",
    "print(is_prime(10)) # Output: False\n"
   ]
  },
  {
   "cell_type": "code",
   "execution_count": 2,
   "id": "0271347c",
   "metadata": {},
   "outputs": [
    {
     "name": "stdout",
     "output_type": "stream",
     "text": [
      "[1, 3, 6, 10]\n"
     ]
    }
   ],
   "source": [
    "from typing import List\n",
    "\n",
    "class Solution:\n",
    "    def runningSum(self, nums: List[int]) -> List[int]:\n",
    "        total = 0\n",
    "        tot = []\n",
    "        for num in nums:\n",
    "            total += num\n",
    "            tot.append(total)\n",
    "        return tot\n",
    "\n",
    "sol = Solution()\n",
    "print(sol.runningSum([1, 2, 3, 4]))  # Output: [1, 3, 6, 10]\n"
   ]
  },
  {
   "cell_type": "code",
   "execution_count": 3,
   "id": "5486be9a",
   "metadata": {},
   "outputs": [
    {
     "name": "stdout",
     "output_type": "stream",
     "text": [
      "[1, 3, 6, 10]\n"
     ]
    }
   ],
   "source": [
    "from typing import List\n",
    "\n",
    "class Solution:\n",
    "    def runningSum(self, nums: List[int]) -> List[int]:\n",
    "        for i, num in enumerate(nums):\n",
    "            if i == 0:\n",
    "                nums[i] = num\n",
    "            else:\n",
    "                nums[i]= nums[i-1]+nums[i]  \n",
    "        return nums\n",
    "    \n",
    "sol = Solution()\n",
    "print(sol.runningSum([1, 2, 3, 4]))  # Output: [1, 3, 6, 10]    "
   ]
  },
  {
   "cell_type": "code",
   "execution_count": 6,
   "id": "ab0d07f8",
   "metadata": {},
   "outputs": [
    {
     "name": "stdout",
     "output_type": "stream",
     "text": [
      "17\n"
     ]
    }
   ],
   "source": [
    "from typing import List\n",
    "\n",
    "class Solution:\n",
    "    def maximumWealth(self, accounts: List[List[int]]) -> int:\n",
    "        return max(map(sum, accounts))\n",
    "\n",
    "sol = Solution()\n",
    "print(sol.maximumWealth([[2,8,7],[7,1,3],[1,9,5]]))"
   ]
  },
  {
   "cell_type": "code",
   "execution_count": 5,
   "id": "38bce9ab",
   "metadata": {},
   "outputs": [
    {
     "name": "stdout",
     "output_type": "stream",
     "text": [
      "17\n"
     ]
    }
   ],
   "source": [
    "from typing import List\n",
    "\n",
    "class Solution:\n",
    "    def maximumWealth(self, accounts: List[List[int]]) -> int:\n",
    "        total = 0\n",
    "        for customer in accounts:\n",
    "            if sum(customer) > total:\n",
    "                total = sum(customer)\n",
    "        return total\n",
    "   \n",
    "sol = Solution()\n",
    "print(sol.maximumWealth([[2,8,7],[7,1,3],[1,9,5]]))"
   ]
  },
  {
   "cell_type": "code",
   "execution_count": 12,
   "id": "c824cfa1",
   "metadata": {},
   "outputs": [
    {
     "name": "stdout",
     "output_type": "stream",
     "text": [
      "[17, 11, 15]\n"
     ]
    }
   ],
   "source": [
    "print(list(map(sum, [[2,8,7],[7,1,3],[1,9,5]])))"
   ]
  },
  {
   "cell_type": "code",
   "execution_count": 32,
   "id": "7cef5d92",
   "metadata": {},
   "outputs": [
    {
     "data": {
      "text/plain": [
       "[1, 8, 6, 9]"
      ]
     },
     "execution_count": 32,
     "metadata": {},
     "output_type": "execute_result"
    }
   ],
   "source": [
    "# if number is flippable then it's strobogram\n",
    "\n",
    "def strobogram (num_list):\n",
    "    num_list = (num_list)\n",
    "    strobo = []\n",
    "    for num in num_list:\n",
    "        if num in [1,6,8,9]:\n",
    "            if num == 6:\n",
    "                strobo.append(9)\n",
    "            elif num == 9:\n",
    "                strobo.append(6)\n",
    "            else:\n",
    "                strobo.append(num)\n",
    "        else:\n",
    "            return -1\n",
    "    return strobo\n",
    "    \n",
    "num_list = [1,8,9,6]\n",
    "strobogram(num_list)"
   ]
  },
  {
   "cell_type": "code",
   "execution_count": 2,
   "id": "491a60fa",
   "metadata": {},
   "outputs": [
    {
     "data": {
      "text/plain": [
       "17"
      ]
     },
     "execution_count": 2,
     "metadata": {},
     "output_type": "execute_result"
    }
   ],
   "source": [
    "from typing import List\n",
    "\n",
    "class Solution:\n",
    "    def richest_wealth(self, accounts: List[List[int]]) -> int:\n",
    "        return max(map(sum, accounts))\n",
    "    \n",
    "accounts = [[2,8,7],[7,1,3],[1,9,5]]\n",
    "Sol = Solution()\n",
    "Sol.richest_wealth(accounts)"
   ]
  },
  {
   "cell_type": "code",
   "execution_count": 23,
   "id": "31bbe6c5",
   "metadata": {},
   "outputs": [
    {
     "data": {
      "text/plain": [
       "['1',\n",
       " '2',\n",
       " 'Fizz',\n",
       " '4',\n",
       " 'Buzz',\n",
       " 'Fizz',\n",
       " '7',\n",
       " '8',\n",
       " 'Fizz',\n",
       " 'Buzz',\n",
       " '11',\n",
       " 'Fizz',\n",
       " '13',\n",
       " '14',\n",
       " 'FizzBuzz']"
      ]
     },
     "execution_count": 23,
     "metadata": {},
     "output_type": "execute_result"
    }
   ],
   "source": [
    "from typing import List\n",
    "\n",
    "class Solution:\n",
    "    def fizzBuzz(self, n: int) -> List[str]:\n",
    "        fizzing = []\n",
    "        for num in range(1,n+1):\n",
    "            if num % 3 == 0 and num % 5 == 0:\n",
    "                fizzing.append('FizzBuzz')\n",
    "            elif num % 3 == 0:\n",
    "                fizzing.append('Fizz')\n",
    "            elif num % 5 == 0:\n",
    "                fizzing.append('Buzz')\n",
    "            else:\n",
    "                fizzing.append(str(num))\n",
    "        return fizzing\n",
    "    \n",
    "Sol = Solution()\n",
    "Sol.fizzBuzz(15)\n",
    "                \n",
    "            "
   ]
  },
  {
   "cell_type": "code",
   "execution_count": 17,
   "id": "30f90e94",
   "metadata": {},
   "outputs": [
    {
     "name": "stdout",
     "output_type": "stream",
     "text": [
      "5\n",
      "6\n",
      "7\n",
      "8\n",
      "9\n",
      "10\n"
     ]
    }
   ],
   "source": [
    "for i in range (5,10+1):\n",
    "    print(i)"
   ]
  },
  {
   "cell_type": "code",
   "execution_count": null,
   "id": "8e90a176",
   "metadata": {},
   "outputs": [],
   "source": []
  }
 ],
 "metadata": {
  "kernelspec": {
   "display_name": "Python 3 (ipykernel)",
   "language": "python",
   "name": "python3"
  },
  "language_info": {
   "codemirror_mode": {
    "name": "ipython",
    "version": 3
   },
   "file_extension": ".py",
   "mimetype": "text/x-python",
   "name": "python",
   "nbconvert_exporter": "python",
   "pygments_lexer": "ipython3",
   "version": "3.11.7"
  }
 },
 "nbformat": 4,
 "nbformat_minor": 5
}
