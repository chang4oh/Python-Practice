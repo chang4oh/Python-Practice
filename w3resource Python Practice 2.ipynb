{
 "cells": [
  {
   "cell_type": "code",
   "execution_count": 8,
   "id": "ca0350a3",
   "metadata": {},
   "outputs": [
    {
     "data": {
      "text/plain": [
       "8.5"
      ]
     },
     "execution_count": 8,
     "metadata": {},
     "output_type": "execute_result"
    }
   ],
   "source": [
    "#1 Python: Function that takes a sequence of numbers and determines whether all are different from each other \n",
    "# list can take in float, int, str\n",
    "\n",
    "def numsecutive(numbers):\n",
    "    for i, num in enumerate(numbers):\n",
    "        if i+1 == len(numbers):\n",
    "            return print('No consecutive')\n",
    "        if num == numbers[i+1]:\n",
    "            return num\n",
    "        \n",
    "numbers = [3,4,6,7,8,5,4,3,2,]\n",
    "numbers = [3,4,6,7,8.5,8.5,5,4,3,2,]\n",
    "numsecutive(numbers)"
   ]
  },
  {
   "cell_type": "code",
   "execution_count": 46,
   "id": "6c5148a8",
   "metadata": {},
   "outputs": [
    {
     "name": "stdout",
     "output_type": "stream",
     "text": [
      "eoiau\n"
     ]
    }
   ],
   "source": [
    "# 2. Write a Python program that creates all possible strings using the letters 'a', 'e', 'i', 'o', and 'I'. Ensure that each character is used only once.\n",
    "cur_vowel = ['a','e','i','o','u']\n",
    "used_vowel = []\n",
    "#from random import randint\n",
    "import random\n",
    "\n",
    "def combinations(vowels):\n",
    "    # x = [randint(0, 9) for p in range(0, 10)] # random values within the range\n",
    "    range_vowel = len(vowels)\n",
    "    x = random.sample(range(range_vowel), range_vowel) # within the range create unique samples\n",
    "    \n",
    "    for num in x:\n",
    "        used_vowel.append(vowels[num])\n",
    "    return print(''.join(used_vowel))\n",
    "\n",
    "combinations(cur_vowel)\n",
    "# outputs 'aeiou' without print; aeiou with print"
   ]
  },
  {
   "cell_type": "code",
   "execution_count": 37,
   "id": "870e04f0",
   "metadata": {},
   "outputs": [
    {
     "name": "stdout",
     "output_type": "stream",
     "text": [
      "aoieu\n"
     ]
    }
   ],
   "source": [
    "# Import the 'random' module to shuffle elements in a list randomly.\n",
    "import random\n",
    "\n",
    "# Create a list of characters containing vowels.\n",
    "char_list = ['a', 'e', 'i', 'o', 'u']\n",
    "\n",
    "# Shuffle the elements in the 'char_list' randomly.\n",
    "random.shuffle(char_list)\n",
    "\n",
    "# Print the shuffled list of characters as a string.\n",
    "print(''.join(char_list))"
   ]
  },
  {
   "cell_type": "code",
   "execution_count": 53,
   "id": "d00fd1be",
   "metadata": {},
   "outputs": [
    {
     "name": "stdout",
     "output_type": "stream",
     "text": [
      "30\n",
      "60\n",
      "90\n",
      "40\n",
      "80\n",
      "50\n",
      "20\n",
      "70\n",
      "10\n"
     ]
    }
   ],
   "source": [
    "# 3. Write a Python program that removes and prints every third number from a list of numbers until the list is empty.\n",
    "# Define a function named 'remove_nums' that takes a list 'int_list' as a parameter.\n",
    "def remove_nums(int_list):\n",
    "    # Set the starting position for removal to the 3rd element (0-based index).\n",
    "    position = 3 - 1\n",
    "    # Initialize the index variable to 0.\n",
    "    idx = 0\n",
    "    # Get the length of the input list.\n",
    "    len_list = len(int_list)\n",
    "    \n",
    "    # Continue removing elements until the list is empty.\n",
    "    while len_list > 0:\n",
    "        # Calculate the new index based on the starting position and current index.\n",
    "        idx = (position + idx) % len_list\n",
    "        # Print and remove the element at the calculated index.\n",
    "        print(int_list.pop(idx))\n",
    "        # Decrement the length of the list.\n",
    "        len_list -= 1\n",
    "\n",
    "# Create a list of numbers.\n",
    "nums = [10, 20, 30, 40, 50, 60, 70, 80, 90]\n",
    "\n",
    "# Call the 'remove_nums' function with the list of numbers.\n",
    "remove_nums(nums)\n"
   ]
  },
  {
   "cell_type": "code",
   "execution_count": 54,
   "id": "aba1dc02",
   "metadata": {},
   "outputs": [
    {
     "name": "stdout",
     "output_type": "stream",
     "text": [
      "[(-6, 2, 4), (-2, 0, 2), (-1, 0, 1)]\n"
     ]
    }
   ],
   "source": [
    "# 4. Write a Python program to identify unique triplets whose three elements sum to zero from an array of n integers.\n",
    "\n",
    "# Define a function named 'three_sum' that takes a list of numbers 'nums' as a parameter.\n",
    "def three_sum(nums):\n",
    "    # Initialize an empty list to store the results.\n",
    "    result = []\n",
    "    # Sort the input list in ascending order.\n",
    "    nums.sort()\n",
    "    \n",
    "    # Iterate through the list up to the third-to-last element.\n",
    "    for i in range(len(nums) - 2):\n",
    "        # Skip duplicate values at the current position.\n",
    "        if i > 0 and nums[i] == nums[i - 1]:\n",
    "            continue\n",
    "        \n",
    "        # Set two pointers, 'l' and 'r', to find the other two elements in the triplet.\n",
    "        l, r = i + 1, len(nums) - 1\n",
    "        \n",
    "        # Perform a two-pointer search to find triplets with the sum equal to zero.\n",
    "        while l < r:\n",
    "            s = nums[i] + nums[l] + nums[r]\n",
    "            \n",
    "            if s > 0:\n",
    "                r -= 1\n",
    "            elif s < 0:\n",
    "                l += 1\n",
    "            else:\n",
    "                # Found a triplet with the sum equal to zero, add it to the result.\n",
    "                result.append((nums[i], nums[l], nums[r]))\n",
    "                \n",
    "                # Remove duplicates in the left and right pointers.\n",
    "                while l < r and nums[l] == nums[l + 1]:\n",
    "                    l += 1\n",
    "                while l < r and nums[r] == nums[r - 1]:\n",
    "                    r -= 1\n",
    "                \n",
    "                # Move the pointers towards the center.\n",
    "                l += 1\n",
    "                r -= 1\n",
    "    \n",
    "    # Return the final result containing unique triplets.\n",
    "    return result\n",
    "\n",
    "# Create a list of numbers.\n",
    "x = [1, -6, 4, 2, -1, 2, 0, -2, 0]\n",
    "\n",
    "# Call the 'three_sum' function with the list and print the result.\n",
    "print(three_sum(x))\n"
   ]
  },
  {
   "cell_type": "code",
   "execution_count": 56,
   "id": "082cad21",
   "metadata": {},
   "outputs": [
    {
     "name": "stdout",
     "output_type": "stream",
     "text": [
      "999\n"
     ]
    }
   ],
   "source": [
    "# 5. Write a Python program to make combinations of 3 digits.\n",
    "# Create an empty list to store formatted numbers.\n",
    "numbers = []\n",
    "\n",
    "# Iterate through numbers from 0 to 999 (exclusive).\n",
    "for num in range(1000):\n",
    "    # Convert the number to a string and fill with zeros to make it three digits long.\n",
    "    num = str(num).zfill(3)\n",
    "\n",
    "# Print the last formatted number (outside the loop, indentation issue).\n",
    "print(num)\n",
    "\n",
    "# Append the last formatted number to the 'numbers' list.\n",
    "numbers.append(num)\n"
   ]
  },
  {
   "cell_type": "code",
   "execution_count": 77,
   "id": "c6cb62cc",
   "metadata": {},
   "outputs": [
    {
     "name": "stdout",
     "output_type": "stream",
     "text": [
      "[2, 2, 2, 1, 4, 3, 3, 9, 6, 7, 19]\n"
     ]
    }
   ],
   "source": [
    "from typing import List\n",
    "\n",
    "class Solution:\n",
    "    def relativeSortArray(self, arr1: List[int], arr2: List[int]) -> List[int]:\n",
    "        result = []\n",
    "        outside = []\n",
    "        \n",
    "        # Creating a dictionary to count occurrences of elements in arr2\n",
    "        count = {num: 0 for num in arr2}\n",
    "        \n",
    "        # Populate result with elements from arr1 that are in arr2 and count their occurrences\n",
    "        for num in arr1:\n",
    "            if num in arr2:\n",
    "                count[num] += 1\n",
    "            else:\n",
    "                outside.append(num)\n",
    "        \n",
    "        # Append elements from arr2 in the order and count they appear\n",
    "        for num in arr2:\n",
    "            result.extend([num] * count[num])\n",
    "        \n",
    "        # Sort and append elements that are not in arr2\n",
    "        outside.sort()\n",
    "        result.extend(outside)\n",
    "        \n",
    "        return result\n",
    "\n",
    "# Example usage\n",
    "solution = Solution()\n",
    "arr1 = [2, 3, 1, 3, 2, 4, 6, 7, 9, 2, 19]\n",
    "arr2 = [2, 1, 4, 3, 9, 6]\n",
    "print(solution.relativeSortArray(arr1, arr2))\n"
   ]
  },
  {
   "cell_type": "code",
   "execution_count": 78,
   "id": "c5b49628",
   "metadata": {},
   "outputs": [],
   "source": [
    "class Solution:\n",
    "    def relativeSortArray(self, arr1: List[int], arr2: List[int]) -> List[int]:\n",
    "        result = []\n",
    "        outside = []\n",
    "        for i, num in enumerate(arr1):\n",
    "            if num in arr2:\n",
    "                result.append(num)\n",
    "            else:\n",
    "                outside.append(num)\n",
    "        result.sort(key=lambda x: (arr2.index(x), x))\n",
    "        outside.sort()\n",
    "        for num in outside:\n",
    "            result.append(num)\n",
    "        return result\n",
    "    \n"
   ]
  },
  {
   "cell_type": "code",
   "execution_count": 84,
   "id": "d2ff462d",
   "metadata": {},
   "outputs": [
    {
     "data": {
      "text/plain": [
       "{3: 'hi', 4: 'bye', 6: 'melon', 2: 'book'}"
      ]
     },
     "execution_count": 84,
     "metadata": {},
     "output_type": "execute_result"
    }
   ],
   "source": [
    "number = [3,4,6,2,6,74,]\n",
    "string = ['hi','bye','melon','book']\n",
    "makedict = lambda num,word: {num[i]: word[i] \n",
    "                             for i in range(min(len(num),len(word)))}\n",
    "makedict(number,string)"
   ]
  },
  {
   "cell_type": "code",
   "execution_count": 96,
   "id": "0705cfff",
   "metadata": {},
   "outputs": [
    {
     "data": {
      "text/plain": [
       "['hi3', 'bye3', 'melon3', 'book3']"
      ]
     },
     "execution_count": 96,
     "metadata": {},
     "output_type": "execute_result"
    }
   ],
   "source": [
    "list(map(lambda word: word+'3',string))"
   ]
  },
  {
   "cell_type": "code",
   "execution_count": 94,
   "id": "3c588ae6",
   "metadata": {},
   "outputs": [
    {
     "data": {
      "text/plain": [
       "['bye', 'melon', 'book']"
      ]
     },
     "execution_count": 94,
     "metadata": {},
     "output_type": "execute_result"
    }
   ],
   "source": [
    "list(filter(lambda word: len(word)>2, string))"
   ]
  },
  {
   "cell_type": "code",
   "execution_count": 97,
   "id": "b8adf81f",
   "metadata": {},
   "outputs": [
    {
     "data": {
      "text/plain": [
       "[False, True, True, True]"
      ]
     },
     "execution_count": 97,
     "metadata": {},
     "output_type": "execute_result"
    }
   ],
   "source": [
    "list(map(lambda word: len(word)>2, string))"
   ]
  },
  {
   "cell_type": "code",
   "execution_count": 100,
   "id": "55473530",
   "metadata": {},
   "outputs": [
    {
     "data": {
      "text/plain": [
       "[0, 0, 1, 1, 2, 2]"
      ]
     },
     "execution_count": 100,
     "metadata": {},
     "output_type": "execute_result"
    }
   ],
   "source": [
    "nums = [2,0,2,1,1,0]\n",
    "result = []\n",
    "for num in nums:\n",
    "    if num == 0:\n",
    "        result.append(num)\n",
    "for num in nums:\n",
    "    if num == 1:\n",
    "        result.append(num)\n",
    "for num in nums:\n",
    "    if num == 2:\n",
    "        result.append(num)\n",
    "        \n",
    "result"
   ]
  },
  {
   "cell_type": "code",
   "execution_count": 104,
   "id": "9d1a15fb",
   "metadata": {},
   "outputs": [
    {
     "data": {
      "text/plain": [
       "[0, 0, 1, 1, 2, 2]"
      ]
     },
     "execution_count": 104,
     "metadata": {},
     "output_type": "execute_result"
    }
   ],
   "source": [
    "zero = []\n",
    "one = []\n",
    "two = []\n",
    "result = []\n",
    "for num in nums:\n",
    "    if num == 0:\n",
    "        zero.append(num)\n",
    "    elif num == 1:\n",
    "        one.append(num)\n",
    "    elif num == 2:\n",
    "        two.append(num)\n",
    "result = zero + one + two\n",
    "\n",
    "# Update nums in place\n",
    "for i in range(len(nums)):\n",
    "    nums[i] = result[i]\n",
    "    \n",
    "nums"
   ]
  },
  {
   "cell_type": "code",
   "execution_count": null,
   "id": "10d5a292",
   "metadata": {},
   "outputs": [],
   "source": []
  }
 ],
 "metadata": {
  "kernelspec": {
   "display_name": "Python 3 (ipykernel)",
   "language": "python",
   "name": "python3"
  },
  "language_info": {
   "codemirror_mode": {
    "name": "ipython",
    "version": 3
   },
   "file_extension": ".py",
   "mimetype": "text/x-python",
   "name": "python",
   "nbconvert_exporter": "python",
   "pygments_lexer": "ipython3",
   "version": "3.11.7"
  }
 },
 "nbformat": 4,
 "nbformat_minor": 5
}
