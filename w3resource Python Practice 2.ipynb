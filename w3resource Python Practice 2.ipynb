{
 "cells": [
  {
   "cell_type": "code",
   "execution_count": 8,
   "id": "ca0350a3",
   "metadata": {},
   "outputs": [
    {
     "data": {
      "text/plain": [
       "8.5"
      ]
     },
     "execution_count": 8,
     "metadata": {},
     "output_type": "execute_result"
    }
   ],
   "source": [
    "#1 Python: Function that takes a sequence of numbers and determines whether all are different from each other \n",
    "# list can take in float, int, str\n",
    "\n",
    "def numsecutive(numbers):\n",
    "    for i, num in enumerate(numbers):\n",
    "        if i+1 == len(numbers):\n",
    "            return print('No consecutive')\n",
    "        if num == numbers[i+1]:\n",
    "            return num\n",
    "        \n",
    "numbers = [3,4,6,7,8,5,4,3,2,]\n",
    "numbers = [3,4,6,7,8.5,8.5,5,4,3,2,]\n",
    "numsecutive(numbers)"
   ]
  },
  {
   "cell_type": "code",
   "execution_count": 46,
   "id": "ffc5ee65",
   "metadata": {},
   "outputs": [
    {
     "name": "stdout",
     "output_type": "stream",
     "text": [
      "eoiau\n"
     ]
    }
   ],
   "source": [
    "# 2. Write a Python program that creates all possible strings using the letters 'a', 'e', 'i', 'o', and 'I'. Ensure that each character is used only once.\n",
    "cur_vowel = ['a','e','i','o','u']\n",
    "used_vowel = []\n",
    "#from random import randint\n",
    "import random\n",
    "\n",
    "def combinations(vowels):\n",
    "    # x = [randint(0, 9) for p in range(0, 10)] # random values within the range\n",
    "    range_vowel = len(vowels)\n",
    "    x = random.sample(range(range_vowel), range_vowel) # within the range create unique samples\n",
    "    \n",
    "    for num in x:\n",
    "        used_vowel.append(vowels[num])\n",
    "    return print(''.join(used_vowel))\n",
    "\n",
    "combinations(cur_vowel)\n",
    "# outputs 'aeiou' without print; aeiou with print"
   ]
  },
  {
   "cell_type": "code",
   "execution_count": 37,
   "id": "c22f463f",
   "metadata": {},
   "outputs": [
    {
     "name": "stdout",
     "output_type": "stream",
     "text": [
      "aoieu\n"
     ]
    }
   ],
   "source": [
    "# Import the 'random' module to shuffle elements in a list randomly.\n",
    "import random\n",
    "\n",
    "# Create a list of characters containing vowels.\n",
    "char_list = ['a', 'e', 'i', 'o', 'u']\n",
    "\n",
    "# Shuffle the elements in the 'char_list' randomly.\n",
    "random.shuffle(char_list)\n",
    "\n",
    "# Print the shuffled list of characters as a string.\n",
    "print(''.join(char_list))"
   ]
  },
  {
   "cell_type": "code",
   "execution_count": 53,
   "id": "748d799f",
   "metadata": {},
   "outputs": [
    {
     "name": "stdout",
     "output_type": "stream",
     "text": [
      "30\n",
      "60\n",
      "90\n",
      "40\n",
      "80\n",
      "50\n",
      "20\n",
      "70\n",
      "10\n"
     ]
    }
   ],
   "source": [
    "# 3. Write a Python program that removes and prints every third number from a list of numbers until the list is empty.\n",
    "# Define a function named 'remove_nums' that takes a list 'int_list' as a parameter.\n",
    "def remove_nums(int_list):\n",
    "    # Set the starting position for removal to the 3rd element (0-based index).\n",
    "    position = 3 - 1\n",
    "    # Initialize the index variable to 0.\n",
    "    idx = 0\n",
    "    # Get the length of the input list.\n",
    "    len_list = len(int_list)\n",
    "    \n",
    "    # Continue removing elements until the list is empty.\n",
    "    while len_list > 0:\n",
    "        # Calculate the new index based on the starting position and current index.\n",
    "        idx = (position + idx) % len_list\n",
    "        # Print and remove the element at the calculated index.\n",
    "        print(int_list.pop(idx))\n",
    "        # Decrement the length of the list.\n",
    "        len_list -= 1\n",
    "\n",
    "# Create a list of numbers.\n",
    "nums = [10, 20, 30, 40, 50, 60, 70, 80, 90]\n",
    "\n",
    "# Call the 'remove_nums' function with the list of numbers.\n",
    "remove_nums(nums)\n"
   ]
  },
  {
   "cell_type": "code",
   "execution_count": 54,
   "id": "7b3e4cdd",
   "metadata": {},
   "outputs": [
    {
     "name": "stdout",
     "output_type": "stream",
     "text": [
      "[(-6, 2, 4), (-2, 0, 2), (-1, 0, 1)]\n"
     ]
    }
   ],
   "source": [
    "# 4. Write a Python program to identify unique triplets whose three elements sum to zero from an array of n integers.\n",
    "\n",
    "# Define a function named 'three_sum' that takes a list of numbers 'nums' as a parameter.\n",
    "def three_sum(nums):\n",
    "    # Initialize an empty list to store the results.\n",
    "    result = []\n",
    "    # Sort the input list in ascending order.\n",
    "    nums.sort()\n",
    "    \n",
    "    # Iterate through the list up to the third-to-last element.\n",
    "    for i in range(len(nums) - 2):\n",
    "        # Skip duplicate values at the current position.\n",
    "        if i > 0 and nums[i] == nums[i - 1]:\n",
    "            continue\n",
    "        \n",
    "        # Set two pointers, 'l' and 'r', to find the other two elements in the triplet.\n",
    "        l, r = i + 1, len(nums) - 1\n",
    "        \n",
    "        # Perform a two-pointer search to find triplets with the sum equal to zero.\n",
    "        while l < r:\n",
    "            s = nums[i] + nums[l] + nums[r]\n",
    "            \n",
    "            if s > 0:\n",
    "                r -= 1\n",
    "            elif s < 0:\n",
    "                l += 1\n",
    "            else:\n",
    "                # Found a triplet with the sum equal to zero, add it to the result.\n",
    "                result.append((nums[i], nums[l], nums[r]))\n",
    "                \n",
    "                # Remove duplicates in the left and right pointers.\n",
    "                while l < r and nums[l] == nums[l + 1]:\n",
    "                    l += 1\n",
    "                while l < r and nums[r] == nums[r - 1]:\n",
    "                    r -= 1\n",
    "                \n",
    "                # Move the pointers towards the center.\n",
    "                l += 1\n",
    "                r -= 1\n",
    "    \n",
    "    # Return the final result containing unique triplets.\n",
    "    return result\n",
    "\n",
    "# Create a list of numbers.\n",
    "x = [1, -6, 4, 2, -1, 2, 0, -2, 0]\n",
    "\n",
    "# Call the 'three_sum' function with the list and print the result.\n",
    "print(three_sum(x))\n"
   ]
  },
  {
   "cell_type": "code",
   "execution_count": 55,
   "id": "33e67d30",
   "metadata": {},
   "outputs": [
    {
     "name": "stdout",
     "output_type": "stream",
     "text": [
      "999\n"
     ]
    }
   ],
   "source": [
    "# 5. Write a Python program to make combinations of 3 digits.\n",
    "# Create an empty list to store formatted numbers.\n",
    "numbers = []\n",
    "\n",
    "# Iterate through numbers from 0 to 999 (exclusive).\n",
    "for num in range(1000):\n",
    "    # Convert the number to a string and fill with zeros to make it three digits long.\n",
    "    num = str(num).zfill(3)\n",
    "\n",
    "# Print the last formatted number (outside the loop, indentation issue).\n",
    "print(num)\n",
    "\n",
    "# Append the last formatted number to the 'numbers' list.\n",
    "numbers.append(num)\n"
   ]
  },
  {
   "cell_type": "code",
   "execution_count": null,
   "id": "c0cda4de",
   "metadata": {},
   "outputs": [],
   "source": []
  }
 ],
 "metadata": {
  "kernelspec": {
   "display_name": "Python 3 (ipykernel)",
   "language": "python",
   "name": "python3"
  },
  "language_info": {
   "codemirror_mode": {
    "name": "ipython",
    "version": 3
   },
   "file_extension": ".py",
   "mimetype": "text/x-python",
   "name": "python",
   "nbconvert_exporter": "python",
   "pygments_lexer": "ipython3",
   "version": "3.11.7"
  }
 },
 "nbformat": 4,
 "nbformat_minor": 5
}
