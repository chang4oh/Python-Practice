{
 "cells": [
  {
   "cell_type": "code",
   "execution_count": 9,
   "id": "4cd2cf63",
   "metadata": {},
   "outputs": [
    {
     "data": {
      "text/plain": [
       "2"
      ]
     },
     "execution_count": 9,
     "metadata": {},
     "output_type": "execute_result"
    }
   ],
   "source": [
    "#22\n",
    "a_list=[1,4,6,7,4]\n",
    "\n",
    "def toSearch(searchlist):\n",
    "    count = 0\n",
    "    for num in searchlist:\n",
    "        if num == 4:\n",
    "            count +=1\n",
    "    return count\n",
    "\n",
    "toSearch(a_list)\n"
   ]
  },
  {
   "cell_type": "code",
   "execution_count": 22,
   "id": "447603ea",
   "metadata": {},
   "outputs": [
    {
     "name": "stdout",
     "output_type": "stream",
     "text": [
      "cococococo\n"
     ]
    }
   ],
   "source": [
    "# 23\n",
    "string = 'coke'\n",
    "n = 5\n",
    "\n",
    "def copies (string, n):\n",
    "    string.split()\n",
    "    print (string[:2] * n)\n",
    "\n",
    "copies(string,n)"
   ]
  },
  {
   "cell_type": "code",
   "execution_count": 52,
   "id": "d399363b",
   "metadata": {},
   "outputs": [
    {
     "name": "stdout",
     "output_type": "stream",
     "text": [
      "No, c is not a vowel\n",
      "Yes, a is a vowel\n",
      "No, t is not a vowel\n",
      "Yes, a is a vowel\n",
      "No, p is not a vowel\n",
      "Yes, u is a vowel\n",
      "No, l is not a vowel\n",
      "No, t is not a vowel\n",
      "consonantvowelconsonantconsonantvowelconsonant\n",
      "catpul\n",
      "[(0, 'c'), (1, 'a'), (2, 't'), (3, 'p'), (4, 'u'), (5, 'l')]\n"
     ]
    }
   ],
   "source": [
    "# 24\n",
    "vowel = 'aeiou'\n",
    "word = 'catapult'\n",
    "\n",
    "def check_vowel(word):\n",
    "    alphabet = {}\n",
    "    word.split()\n",
    "    for i, letter in enumerate(word):\n",
    "        if word[i] in vowel:\n",
    "            print(f\"Yes, {letter} is a vowel\")\n",
    "            alphabet[word[i]]='vowel'\n",
    "        else:\n",
    "            print(f\"No, {letter} is not a vowel\")\n",
    "            alphabet[word[i]]='consonant'\n",
    "    return alphabet\n",
    "\n",
    "word = check_vowel(word)\n",
    "print(''.join(word.values()))\n",
    "print(''.join(word))\n",
    "print (list(enumerate(word)))\n",
    "# catpul because key t can't have two\n"
   ]
  },
  {
   "cell_type": "code",
   "execution_count": 56,
   "id": "758cde9b",
   "metadata": {},
   "outputs": [
    {
     "data": {
      "text/plain": [
       "{3: True, -1: False}"
      ]
     },
     "execution_count": 56,
     "metadata": {},
     "output_type": "execute_result"
    }
   ],
   "source": [
    "test = [3,-1]\n",
    "group = [1,5,8,3]\n",
    "result = {}\n",
    "def testgroup(group,test):\n",
    "    for i, num in enumerate(test):\n",
    "        if test[i] in group:\n",
    "            result[test[i]]=True\n",
    "        else:\n",
    "            result[test[i]]=False\n",
    "    return result\n",
    "# return (result[test[i]]: boolean, ...)\n",
    "# returns test value and if there is/not\n",
    "testgroup(group,test)"
   ]
  },
  {
   "cell_type": "code",
   "execution_count": 70,
   "id": "9b8b9589",
   "metadata": {},
   "outputs": [
    {
     "name": "stdout",
     "output_type": "stream",
     "text": [
      "@@\n",
      "@@@\n",
      "@@@@@@\n",
      "@@@@@\n"
     ]
    }
   ],
   "source": [
    "number = 2365\n",
    "number = str(number)\n",
    "def histogram(number):\n",
    "    for i, num in enumerate(number):\n",
    "        print('@' * int(num))\n",
    "        \n",
    "histogram(number)"
   ]
  },
  {
   "cell_type": "code",
   "execution_count": 79,
   "id": "d4e5d894",
   "metadata": {},
   "outputs": [
    {
     "data": {
      "text/plain": [
       "'15122'"
      ]
     },
     "execution_count": 79,
     "metadata": {},
     "output_type": "execute_result"
    }
   ],
   "source": [
    "# 27\n",
    "alist = [1,5,12,2]\n",
    "def concatenate(alist):\n",
    "    net = ''\n",
    "    for i in alist:\n",
    "        net += str(i)\n",
    "    return net\n",
    "\n",
    "concatenate(alist)\n"
   ]
  },
  {
   "cell_type": "code",
   "execution_count": 81,
   "id": "b028b425",
   "metadata": {},
   "outputs": [
    {
     "name": "stdout",
     "output_type": "stream",
     "text": [
      "[386, 462, 418, 344, 236, 566, 978, 328, 162, 758, 918]\n"
     ]
    }
   ],
   "source": [
    "numbers = [    \n",
    "    386, 462, 47, 418, 907, 344, 236, 375, 823, 566, 597, 978, 328, 615, 953, 345, \n",
    "    399, 162, 758, 219, 918, 237, 412, 566, 826, 248, 866, 950, 626, 949, 687, 217, \n",
    "    815, 67, 104, 58, 512, 24, 892, 894, 767, 553, 81, 379, 843, 831, 445, 742, 717, \n",
    "    958,743, 527\n",
    "    ]\n",
    "def evens(numbers):\n",
    "    even = []\n",
    "    for i, num in enumerate(numbers):\n",
    "        if num == 237:\n",
    "            break\n",
    "        elif num % 2 == 0:\n",
    "            even.append(num)\n",
    "    return even\n",
    "\n",
    "print(evens(numbers))"
   ]
  },
  {
   "cell_type": "code",
   "execution_count": 88,
   "id": "6c8694c3",
   "metadata": {},
   "outputs": [
    {
     "name": "stdout",
     "output_type": "stream",
     "text": [
      "['Black', 'Teal', 'White']\n",
      "\n",
      "Difference of color_list_1 and color_list_2:\n",
      "{'Black', 'Teal', 'White'}\n",
      "\n",
      "Difference of color_list_2 and color_list_1:\n",
      "{'Green', 'Orange'}\n"
     ]
    }
   ],
   "source": [
    "color_list_1 = set([\"White\", \"Black\", \"Red\", \"Teal\"])\n",
    "color_list_2 = set([\"Red\", \"Green\", \"Orange\"])\n",
    "unique_1 = []\n",
    "def dif_color(colorlist1, colorlist2):\n",
    "    for color1 in colorlist1:\n",
    "        if color1 not in colorlist2:\n",
    "            unique_1.append(color1)\n",
    "            \n",
    "    return unique_1\n",
    "\n",
    "print(dif_color(color_list_1, color_list_2))\n",
    "#                  #\n",
    "# OR DO THIS BELOW # \n",
    "#                  #\n",
    "\n",
    "# Calculate and print the difference of color_list_1 and color_list_2.\n",
    "print(\"\\nDifference of color_list_1 and color_list_2:\")\n",
    "print(color_list_1.difference(color_list_2))\n",
    "\n",
    "# Calculate and print the difference of color_list_2 and color_list_1.\n",
    "print(\"\\nDifference of color_list_2 and color_list_1:\")\n",
    "print(color_list_2.difference(color_list_1))"
   ]
  },
  {
   "cell_type": "code",
   "execution_count": 89,
   "id": "8e51bd0a",
   "metadata": {},
   "outputs": [
    {
     "name": "stdout",
     "output_type": "stream",
     "text": [
      "10.0\n"
     ]
    }
   ],
   "source": [
    "#30 area of triangle\n",
    "b = 5\n",
    "h = 4\n",
    "def area_triangle(b,h):\n",
    "    return b * h * 1/2\n",
    "print(area_triangle(b,h))"
   ]
  },
  {
   "cell_type": "code",
   "execution_count": 100,
   "id": "2139da0d",
   "metadata": {},
   "outputs": [
    {
     "name": "stdout",
     "output_type": "stream",
     "text": [
      "GCD of 12 & 17 = 1\n",
      "GCD of 4 & 6 = 2\n",
      "GCD of 336 & 360 = 24\n"
     ]
    }
   ],
   "source": [
    "def gcd(x, y):\n",
    "    # If y is a divisor of x, return y as the GCD.\n",
    "    if x % y == 0:\n",
    "        return y\n",
    "    \n",
    "    # Iterate from half of y down to 1 to find the highest common divisor.\n",
    "    for k in range(y // 2, 0, -1):\n",
    "        if x % k == 0 and y % k == 0:\n",
    "            return k\n",
    "    \n",
    "    # If no common divisor is found other than 1, return 1.\n",
    "    return 1\n",
    "\n",
    "# Test the gcd function with example pairs of numbers.\n",
    "print(\"GCD of 12 & 17 =\", gcd(12, 17))  # Should return 1\n",
    "print(\"GCD of 4 & 6 =\", gcd(4, 6))      # Should return 2\n",
    "print(\"GCD of 336 & 360 =\", gcd(336, 360))  # Should return 24"
   ]
  },
  {
   "cell_type": "code",
   "execution_count": 107,
   "id": "6d2f6f3a",
   "metadata": {},
   "outputs": [
    {
     "name": "stdout",
     "output_type": "stream",
     "text": [
      "GCD of 12 & 17 = 1\n",
      "GCD of 4 & 6 = 2\n",
      "GCD of 336 & 360 = 24\n"
     ]
    }
   ],
   "source": [
    "def gcd (x,y):\n",
    "    if x % y ==0:\n",
    "        return y\n",
    "    \n",
    "    for k in range(x//2,0,-1):\n",
    "        if x % k == 0 and y % k == 0:\n",
    "            return k\n",
    "    \n",
    "    return 1\n",
    "    \n",
    "print(\"GCD of 12 & 17 =\", gcd(12, 17))  # Should return 1\n",
    "print(\"GCD of 4 & 6 =\", gcd(4, 6))      # Should return 2\n",
    "print(\"GCD of 336 & 360 =\", gcd(336, 360))  # Should return 24"
   ]
  },
  {
   "cell_type": "code",
   "execution_count": 109,
   "id": "cdc397ea",
   "metadata": {},
   "outputs": [
    {
     "name": "stdout",
     "output_type": "stream",
     "text": [
      "12\n",
      "255\n"
     ]
    }
   ],
   "source": [
    "# Define a function 'lcm' that calculates the least common multiple (LCM) of two numbers, 'x' and 'y'.\n",
    "def lcm(x, y):\n",
    "    # Compare 'x' and 'y' to determine the larger number and store it in 'z'.\n",
    "    if x > y:\n",
    "        z = x\n",
    "    else:\n",
    "        z = y\n",
    "    \n",
    "    # Use a 'while' loop to find the LCM.\n",
    "    while True:\n",
    "        # Check if 'z' is divisible by both 'x' and 'y' with no remainder.\n",
    "        if (z % x == 0) and (z % y == 0):\n",
    "            # If both conditions are met, 'z' is the LCM, so store it in 'lcm' and break the loop.\n",
    "            lcm = z\n",
    "            break\n",
    "        # If the conditions are not met, increment 'z' and continue checking.\n",
    "        z += 1\n",
    "    \n",
    "    # Return the calculated LCM.\n",
    "    return lcm\n",
    "\n",
    "# Calculate and print the LCM of 4 and 6.\n",
    "print(lcm(4, 6))\n",
    "# Calculate and print the LCM of 15 and 17.\n",
    "print(lcm(15, 17))"
   ]
  },
  {
   "cell_type": "code",
   "execution_count": 119,
   "id": "e74ac704",
   "metadata": {},
   "outputs": [
    {
     "name": "stdout",
     "output_type": "stream",
     "text": [
      "LCM of 12 & 17 = 204\n",
      "LCM of 4 & 6 = 12\n",
      "LCM of 336 & 360 = 5040\n",
      "LCM of 43 & 88 = 3784\n",
      "GCD of 12 & 17 = 1\n",
      "GCD of 4 & 6 = 2\n",
      "GCD of 336 & 360 = 24\n",
      "GCD of 43 & 88 = 1\n"
     ]
    }
   ],
   "source": [
    "def gcd(x, y):\n",
    "    while y:\n",
    "        x, y = y, x % y\n",
    "    return x\n",
    "\n",
    "def lcm(x, y):\n",
    "    return abs(x * y) // gcd(x, y)\n",
    "\n",
    "# Test the lcm function with example pairs of numbers.\n",
    "print(\"LCM of 12 & 17 =\", lcm(12, 17))  # Should return 204\n",
    "print(\"LCM of 4 & 6 =\", lcm(4, 6))      # Should return 12\n",
    "print(\"LCM of 336 & 360 =\", lcm(336, 360))  # Should return 5040\n",
    "print(\"LCM of 43 & 88 =\", lcm(43, 88))  # Should return 3784\n",
    "print(\"GCD of 12 & 17 =\", gcd(12, 17))  # Should return 204\n",
    "print(\"GCD of 4 & 6 =\", gcd(4, 6))      # Should return 12\n",
    "print(\"GCD of 336 & 360 =\", gcd(336, 360))  # Should return 5040\n",
    "print(\"GCD of 43 & 88 =\", gcd(43, 88))  # Should return 3784"
   ]
  },
  {
   "cell_type": "code",
   "execution_count": 138,
   "id": "f1d6e373",
   "metadata": {},
   "outputs": [
    {
     "name": "stdout",
     "output_type": "stream",
     "text": [
      "3   3\n",
      "3   2\n"
     ]
    },
    {
     "data": {
      "text/plain": [
       "0"
      ]
     },
     "execution_count": 138,
     "metadata": {},
     "output_type": "execute_result"
    }
   ],
   "source": [
    "# set can't have duplicate value\n",
    "# dictionary/hash-table can't have duplicate key\n",
    "\n",
    "\n",
    "#33 sum three given integers\n",
    "def sumthree(listnum):\n",
    "    if len(listnum) != len(set(listnum)):\n",
    "        return 0\n",
    "    else:\n",
    "        return sum(listnum)\n",
    "    \n",
    "num1 = [5,45,23]\n",
    "num2 = [23,45,23]\n",
    "\n",
    "print(len(num1),' ', len(set(num1)))\n",
    "print(len(num2),' ', len(set(num2)))\n",
    "sumthree(num2)\n"
   ]
  },
  {
   "cell_type": "code",
   "execution_count": 152,
   "id": "20079cb0",
   "metadata": {},
   "outputs": [
    {
     "name": "stdout",
     "output_type": "stream",
     "text": [
      "listnum: 105 and listnum1: 20\n"
     ]
    }
   ],
   "source": [
    "#34 sum of two numbers, return 20 if result 15 to 20\n",
    "\n",
    "def sumtwo(listnum):\n",
    "    #if 15 <= listnum[0] + listnum[1] <= 20:\n",
    "    if sum(listnum) in range(15,20):\n",
    "        return 20\n",
    "    else:\n",
    "        return sum(listnum)\n",
    "    \n",
    "listnum = [35,70]\n",
    "listnum1 = [5,10]\n",
    "\n",
    "print(f'listnum: {sumtwo(listnum)} and listnum1: {sumtwo(listnum1)}')\n"
   ]
  },
  {
   "cell_type": "code",
   "execution_count": 158,
   "id": "ef58eef3",
   "metadata": {},
   "outputs": [
    {
     "data": {
      "text/plain": [
       "True"
      ]
     },
     "execution_count": 158,
     "metadata": {},
     "output_type": "execute_result"
    }
   ],
   "source": [
    "#35 return true if two int values equals, sum or difference equals 5\n",
    "def equal(num1,num2):\n",
    "    if num1 == num2 or num1 + num2 == 5 or abs(num1 - num2) == 5:\n",
    "        return True\n",
    "    else:\n",
    "        return False\n",
    "    \n",
    "num1 = 6\n",
    "num2 = 6\n",
    "equal(num1,num2)"
   ]
  },
  {
   "cell_type": "code",
   "execution_count": 161,
   "id": "bc6f44ce",
   "metadata": {},
   "outputs": [
    {
     "name": "stdout",
     "output_type": "stream",
     "text": [
      "<class 'int'>   <class 'int'>\n"
     ]
    },
    {
     "data": {
      "text/plain": [
       "30"
      ]
     },
     "execution_count": 161,
     "metadata": {},
     "output_type": "execute_result"
    }
   ],
   "source": [
    "#36 add two objects if both objects are int\n",
    "def objornum(val1,val2):\n",
    "    if isinstance(val1, int) and isinstance(val2, int):\n",
    "        print(type(val1), ' ', type(val2))\n",
    "        return val1+val2\n",
    "    return\n",
    "val1 = 4\n",
    "val2 = 26\n",
    "objornum(val1, val2)"
   ]
  },
  {
   "cell_type": "code",
   "execution_count": 182,
   "id": "c96419d4",
   "metadata": {},
   "outputs": [
    {
     "name": "stdout",
     "output_type": "stream",
     "text": [
      "Name: Simon\n",
      "Age: 19\n",
      "Address: Bangalore, Karnataka, India\n",
      "19\n",
      "Bangalore, Karnataka, India\n",
      "Simon\n"
     ]
    }
   ],
   "source": [
    "# Define a function 'personal_details'.\n",
    "def personal_details():\n",
    "    # Define variables 'name' and 'age' and assign values to them.\n",
    "    name, age = \"Simon\", 19\n",
    "    # Define a variable 'address' and assign a value to it.\n",
    "    address = \"Bangalore, Karnataka, India\"\n",
    "    # Print the personal details using string formatting.\n",
    "    print(\"Name: {}\\nAge: {}\\nAddress: {}\".format(name, age, address))\n",
    "    print(f'{age}\\n{address}\\n{name}')\n",
    "    \n",
    "# Call the 'personal_details' function to display the details.\n",
    "personal_details()"
   ]
  },
  {
   "cell_type": "code",
   "execution_count": 194,
   "id": "8332a1d1",
   "metadata": {},
   "outputs": [
    {
     "name": "stdout",
     "output_type": "stream",
     "text": [
      "400\n"
     ]
    }
   ],
   "source": [
    "#38 solve (x+y) * (x+y)\n",
    "# lambda can assign default value like\n",
    "# result = lambda x = 5, y = 6: (x+y) * (x+y)\n",
    "result = lambda x = 5, y = 6: (x+y) * (x+y)\n",
    "print(result(10,10))"
   ]
  },
  {
   "cell_type": "code",
   "execution_count": 216,
   "id": "04ca81d4",
   "metadata": {},
   "outputs": [
    {
     "data": {
      "text/plain": [
       "12723"
      ]
     },
     "execution_count": 216,
     "metadata": {},
     "output_type": "execute_result"
    }
   ],
   "source": [
    "# 39\n",
    "future = lambda amt=10000, ints=3.5, years=7 : amt * ((1 + (0.01 * int)) ** years)\n",
    "round(future())"
   ]
  },
  {
   "cell_type": "code",
   "execution_count": 212,
   "id": "7a1fe11e",
   "metadata": {},
   "outputs": [
    {
     "name": "stdout",
     "output_type": "stream",
     "text": [
      "12722.79\n"
     ]
    }
   ],
   "source": [
    "# Define the principal amount (initial investment).\n",
    "amt = 10000\n",
    "# Define the annual interest rate as a percentage.\n",
    "int = 3.5\n",
    "# Define the number of years.\n",
    "years = 7\n",
    "# Calculate the future value of the investment using the compound interest formula.\n",
    "future_value = amt * ((1 + (0.01 * int)) ** years)\n",
    "# Round the future value to two decimal places and print it.\n",
    "print(round(future_value, 2))"
   ]
  },
  {
   "cell_type": "code",
   "execution_count": 201,
   "id": "0dfc1c4e",
   "metadata": {},
   "outputs": [
    {
     "name": "stdout",
     "output_type": "stream",
     "text": [
      "7.0710678118654755\n"
     ]
    }
   ],
   "source": [
    "# 40 \n",
    "distance = lambda x1, x2, y1, y2: ((y2-y1)**2 + (x2-x1)**2)**.5\n",
    "x1, x2, y1, y2 = 10, 15, 5, 10\n",
    "print(distance(x1, x2, y1, y2))"
   ]
  },
  {
   "cell_type": "code",
   "execution_count": 217,
   "id": "7faa1c89",
   "metadata": {},
   "outputs": [
    {
     "name": "stdout",
     "output_type": "stream",
     "text": [
      "7.0710678118654755\n"
     ]
    }
   ],
   "source": [
    "# Import the math module to use the square root function.\n",
    "import math\n",
    "\n",
    "# Define the coordinates of the first point (p1) as a list.\n",
    "p1 = [10, 5]\n",
    "\n",
    "# Define the coordinates of the second point (p2) as a list.\n",
    "p2 = [15, 10]\n",
    "\n",
    "# Calculate the distance between the two points using the distance formula.\n",
    "# The formula computes the Euclidean distance in a 2D space.\n",
    "distance = math.sqrt(((p1[0] - p2[0]) ** 2) + ((p1[1] - p2[1]) ** 2))\n",
    "\n",
    "# Print the calculated distance.\n",
    "print(distance)"
   ]
  },
  {
   "cell_type": "code",
   "execution_count": null,
   "id": "182cc975",
   "metadata": {},
   "outputs": [],
   "source": [
    "# 41 check if file exists\n"
   ]
  },
  {
   "cell_type": "code",
   "execution_count": null,
   "id": "7ff7554d",
   "metadata": {},
   "outputs": [],
   "source": []
  },
  {
   "cell_type": "code",
   "execution_count": null,
   "id": "614144cc",
   "metadata": {},
   "outputs": [],
   "source": []
  },
  {
   "cell_type": "code",
   "execution_count": null,
   "id": "19cc14ec",
   "metadata": {},
   "outputs": [],
   "source": []
  }
 ],
 "metadata": {
  "kernelspec": {
   "display_name": "Python 3 (ipykernel)",
   "language": "python",
   "name": "python3"
  },
  "language_info": {
   "codemirror_mode": {
    "name": "ipython",
    "version": 3
   },
   "file_extension": ".py",
   "mimetype": "text/x-python",
   "name": "python",
   "nbconvert_exporter": "python",
   "pygments_lexer": "ipython3",
   "version": "3.11.7"
  }
 },
 "nbformat": 4,
 "nbformat_minor": 5
}
