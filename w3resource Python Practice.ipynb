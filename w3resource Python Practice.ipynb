{
 "cells": [
  {
   "cell_type": "code",
   "execution_count": 224,
   "id": "4cd2cf63",
   "metadata": {},
   "outputs": [
    {
     "name": "stdout",
     "output_type": "stream",
     "text": [
      "Twinkle, twinkle, little, star\n",
      "\t How I wonder what you are!\n",
      "\t\t Up above the wrold so high,\n",
      "\t\t Like a diamond in the sky.\n",
      " Twinkle, twinkle, little star,\n",
      "\t How I wonder what you are\n"
     ]
    }
   ],
   "source": [
    "def result():\n",
    "    print(\"Twinkle, twinkle, little, star\\n\\t\",\n",
    "          \"How I wonder what you are!\\n\\t\\t\",\n",
    "          \"Up above the wrold so high,\\n\\t\\t\",\n",
    "          \"Like a diamond in the sky.\\n\",\n",
    "          \"Twinkle, twinkle, little star,\\n\\t\",\n",
    "          \"How I wonder what you are\")\n",
    "result()"
   ]
  },
  {
   "cell_type": "code",
   "execution_count": 225,
   "id": "ff126319",
   "metadata": {},
   "outputs": [
    {
     "name": "stdout",
     "output_type": "stream",
     "text": [
      "3.11.7 | packaged by Anaconda, Inc. | (main, Dec 15 2023, 18:05:47) [MSC v.1916 64 bit (AMD64)]\n",
      "sys.version_info(major=3, minor=11, micro=7, releaselevel='final', serial=0)\n"
     ]
    }
   ],
   "source": [
    "import sys  # Import the sys module to access system-specific parameters and functions\n",
    "print(sys.version)\n",
    "print(sys.version_info)"
   ]
  },
  {
   "cell_type": "code",
   "execution_count": 228,
   "id": "f3ec1420",
   "metadata": {},
   "outputs": [
    {
     "name": "stdout",
     "output_type": "stream",
     "text": [
      "Current date and time : \n",
      "2024-05-30 09:29:36\n"
     ]
    }
   ],
   "source": [
    "# Import the 'datetime' module to work with date and time\n",
    "import datetime\n",
    "\n",
    "# Get the current date and time\n",
    "now = datetime.datetime.now()\n",
    "\n",
    "# Display a message indicating what is being printed\n",
    "print(\"Current date and time : \")\n",
    "\n",
    "# Print the current date and time in a specific format\n",
    "print(now.strftime(\"%Y-%m-%d %H:%M:%S\"))"
   ]
  },
  {
   "cell_type": "code",
   "execution_count": 229,
   "id": "985986de",
   "metadata": {},
   "outputs": [
    {
     "name": "stdout",
     "output_type": "stream",
     "text": [
      "13.854423602330987\n"
     ]
    }
   ],
   "source": [
    "from math import pi\n",
    "\n",
    "def circle(shape: str, radius: float) -> float:\n",
    "    if shape.lower() == 'circle':\n",
    "        area = pi * radius ** 2\n",
    "        return area\n",
    "    else:\n",
    "        print(\"Not a circle\")\n",
    "        return None\n",
    "\n",
    "# Example usage:\n",
    "print(circle('CIRCle', 2.1))"
   ]
  },
  {
   "cell_type": "code",
   "execution_count": null,
   "id": "0f185cc3",
   "metadata": {},
   "outputs": [],
   "source": [
    "def name(list) -> (str, str):\n",
    "    first = input(\"Input your first name: \")\n",
    "    last = input(\"Input your last name: \")\n",
    "    list.append(first), list.append(last)\n",
    "    return first, last\n",
    "degu = []\n",
    "print('returns: ',name(degu))\n",
    "print('appended: ',degu)"
   ]
  },
  {
   "cell_type": "code",
   "execution_count": 230,
   "id": "6ab9824b",
   "metadata": {},
   "outputs": [
    {
     "name": "stdout",
     "output_type": "stream",
     "text": [
      "What is your file name? mariobros.ntd\n",
      "file type is:  ntd\n"
     ]
    }
   ],
   "source": [
    "def filename ():\n",
    "    filename1 = input('What is your file name? ')\n",
    "    \n",
    "    fileext = filename1.split('.')\n",
    "    \n",
    "    return print('file type is: ',fileext[-1])\n",
    "    \n",
    "filename()"
   ]
  },
  {
   "cell_type": "code",
   "execution_count": 3,
   "id": "611daf69",
   "metadata": {},
   "outputs": [
    {
     "name": "stdout",
     "output_type": "stream",
     "text": [
      "Input numer then a comma121212, 151         ,       21\n",
      "list:  [121212, 151, 21]\n",
      "tuple:  (121212, 151, 21)\n",
      "set:  {121212, 21, 151}\n"
     ]
    }
   ],
   "source": [
    "#                                                   #\n",
    "#       NOTE: Restart Kernel if error pops up       #\n",
    "#                                                   #\n",
    "\n",
    "def stringtonumtolistandtuple():\n",
    "    string = input('Input numer then a comma')\n",
    "    listed = []\n",
    "    tupled = ()\n",
    "    seted = {}\n",
    "    string = string.replace(\" \", \"\")\n",
    "    string = string.split(',')\n",
    "    for i in string:\n",
    "        i = int(i)\n",
    "        listed.append(i)\n",
    "    \n",
    "    tupled = tuple(listed)\n",
    "    seted = set(listed)\n",
    "    return listed, tupled, seted\n",
    "\n",
    "listed, tupled, seted = stringtonumtolistandtuple()\n",
    "print('list: ', listed)\n",
    "print('tuple: ', tupled)\n",
    "print('set: ', seted)"
   ]
  },
  {
   "cell_type": "code",
   "execution_count": 236,
   "id": "59d8c0ab",
   "metadata": {},
   "outputs": [
    {
     "name": "stdout",
     "output_type": "stream",
     "text": [
      "first: red\n",
      " last: purple\n"
     ]
    }
   ],
   "source": [
    "def firstandlast(color:str):\n",
    "    color = color.replace(' ','')\n",
    "    color = color.split(',')\n",
    "    first = color[0]\n",
    "    last = color[-1]\n",
    "    return print(f'first: {first}\\n last: {last}')\n",
    "\n",
    "firstandlast('red, yellow, green, blue, purple')"
   ]
  },
  {
   "cell_type": "code",
   "execution_count": 246,
   "id": "4da588f7",
   "metadata": {},
   "outputs": [
    {
     "data": {
      "text/plain": [
       "'11/12/2014'"
      ]
     },
     "execution_count": 246,
     "metadata": {},
     "output_type": "execute_result"
    }
   ],
   "source": [
    "exam_st_date = (11, 12, 2014)\n",
    "\n",
    "def rewritedate(date):\n",
    "    return '/'.join(map(str, date))\n",
    "\n",
    "rewritedate(exam_st_date)"
   ]
  },
  {
   "cell_type": "code",
   "execution_count": 1,
   "id": "231d5d0a",
   "metadata": {},
   "outputs": [
    {
     "name": "stdout",
     "output_type": "stream",
     "text": [
      "[1, 2, 3, 4, 5]\n",
      "Element: 1, Type: <class 'int'>\n",
      "Element: 2, Type: <class 'int'>\n",
      "Element: 3, Type: <class 'int'>\n",
      "Element: 4, Type: <class 'int'>\n",
      "Element: 5, Type: <class 'int'>\n"
     ]
    }
   ],
   "source": [
    "my_number = 12345\n",
    "mapped_numbers = list(map(int, str(my_number)))\n",
    "print(mapped_numbers)\n",
    "\n",
    "for num in mapped_numbers:\n",
    "    print(f\"Element: {num}, Type: {type(num)}\")"
   ]
  },
  {
   "cell_type": "code",
   "execution_count": 4,
   "id": "bcad6113",
   "metadata": {},
   "outputs": [
    {
     "name": "stdout",
     "output_type": "stream",
     "text": [
      "The examination will start from : 11 / 12 / 2014\n",
      "The examination will start from : Nov / 12 / 2014\n"
     ]
    }
   ],
   "source": [
    "# Define a tuple called 'exam_st_date' containing the exam start date in the format (day, month, year)\n",
    "exam_st_date = (11, 12, 2014)\n",
    "exam_date = ('Nov', 12, 2014)\n",
    "\n",
    "# Print the exam start date using string formatting\n",
    "# The '%i' placeholders are filled with the values from the 'exam_st_date' tuple\n",
    "print(\"The examination will start from : %i / %i / %i\" % exam_st_date)\n",
    "print(\"The examination will start from : %s / %i / %i\" % exam_date)"
   ]
  },
  {
   "cell_type": "code",
   "execution_count": 7,
   "id": "b6b1b959",
   "metadata": {},
   "outputs": [
    {
     "name": "stdout",
     "output_type": "stream",
     "text": [
      "Input an integer: 5\n",
      "615\n"
     ]
    }
   ],
   "source": [
    "# Prompt the user to input an integer and store it in the variable 'a'\n",
    "a = int(input(\"Input an integer: \"))\n",
    "\n",
    "# Create new integers 'n1', 'n2', and 'n3' by concatenating 'a' with itself one, two, and three times, respectively\n",
    "n1 = int(\"%s\" % a)          # Convert 'a' to an integer\n",
    "n2 = int(\"%s%s\" % (a, a))   # Concatenate 'a' with itself and convert to an integer\n",
    "n3 = int(\"%s%s%s\" % (a, a, a))  # Concatenate 'a' with itself twice and convert to an integer\n",
    "\n",
    "# Calculate the sum of 'n1', 'n2', and 'n3' and print the result\n",
    "print(n1 + n2 + n3)"
   ]
  },
  {
   "cell_type": "code",
   "execution_count": 6,
   "id": "52ba95a8",
   "metadata": {},
   "outputs": [
    {
     "name": "stdout",
     "output_type": "stream",
     "text": [
      "Input an integer: 5\n",
      "615\n"
     ]
    }
   ],
   "source": [
    "# Prompt the user to input an integer and store it in the variable 'a'\n",
    "a = int(input(\"Input an integer: \"))\n",
    "\n",
    "# Create new integers 'n1', 'n2', and 'n3' by concatenating 'a' with itself one, two, and three times, respectively\n",
    "n1 = int(str(a))          # Convert 'a' to an integer (not necessary, but included for consistency)\n",
    "n2 = int(str(a) * 2)      # Concatenate 'a' with itself and convert to an integer\n",
    "n3 = int(str(a) * 3)      # Concatenate 'a' with itself twice and convert to an integer\n",
    "\n",
    "# Calculate the sum of 'n1', 'n2', and 'n3' and print the result\n",
    "print(n1 + n2 + n3)"
   ]
  },
  {
   "cell_type": "code",
   "execution_count": 8,
   "id": "8ba7d488",
   "metadata": {},
   "outputs": [
    {
     "name": "stdout",
     "output_type": "stream",
     "text": [
      "place a number: -454\n",
      "454\n"
     ]
    }
   ],
   "source": [
    "print(abs(int(input(\"place a number: \"))))"
   ]
  },
  {
   "cell_type": "code",
   "execution_count": 9,
   "id": "712132ec",
   "metadata": {},
   "outputs": [
    {
     "name": "stdout",
     "output_type": "stream",
     "text": [
      "Return the absolute value of the argument.\n"
     ]
    }
   ],
   "source": [
    "# Print the docstring (documentation) of the 'abs' function\n",
    "print(abs.__doc__)"
   ]
  },
  {
   "cell_type": "code",
   "execution_count": 10,
   "id": "ba329418",
   "metadata": {},
   "outputs": [
    {
     "name": "stdout",
     "output_type": "stream",
     "text": [
      "input year: 2024\n",
      "input month: 5\n",
      "input day: 30\n",
      "      May 2024\n",
      "Mo Tu We Th Fr Sa Su\n",
      "       1  2  3  4  5\n",
      " 6  7  8  9 10 11 12\n",
      "13 14 15 16 17 18 19\n",
      "20 21 22 23 24 25 26\n",
      "27 28 29 30 31\n",
      "\n"
     ]
    }
   ],
   "source": [
    "# may need to install : pip install calender\n",
    "import calendar\n",
    "y = int(input('input year: '))\n",
    "m = int(input('input month: '))\n",
    "d = int(input('input day: '))\n",
    "\n",
    "print(calendar.month(y, m))"
   ]
  },
  {
   "cell_type": "code",
   "execution_count": 11,
   "id": "7c341ded",
   "metadata": {},
   "outputs": [
    {
     "name": "stdout",
     "output_type": "stream",
     "text": [
      "a string that you \"don't\" have to escape\n",
      "This \n",
      "is a ...... multi-line\n",
      "heredoc string ------> example\n",
      "\n"
     ]
    }
   ],
   "source": [
    "print(\"\"\"a string that you \"don't\" have to escape\n",
    "This \n",
    "is a ...... multi-line\n",
    "heredoc string ------> example\n",
    "\"\"\")"
   ]
  },
  {
   "cell_type": "code",
   "execution_count": 12,
   "id": "c752f516",
   "metadata": {},
   "outputs": [
    {
     "name": "stdout",
     "output_type": "stream",
     "text": [
      "9\n",
      "9 days, 0:00:00\n"
     ]
    },
    {
     "data": {
      "text/plain": [
       "datetime.timedelta(days=9)"
      ]
     },
     "execution_count": 12,
     "metadata": {},
     "output_type": "execute_result"
    }
   ],
   "source": [
    "from datetime import date\n",
    "\n",
    "date1 = date(2014, 7, 2)\n",
    "date2 = date(2014, 7, 11)\n",
    "difference = abs(date1 - date2)\n",
    "print(difference.days)\n",
    "print(difference)\n",
    "difference"
   ]
  },
  {
   "cell_type": "code",
   "execution_count": 13,
   "id": "341568de",
   "metadata": {},
   "outputs": [
    {
     "data": {
      "text/plain": [
       "4.1887902047863905"
      ]
     },
     "execution_count": 13,
     "metadata": {},
     "output_type": "execute_result"
    }
   ],
   "source": [
    "from math import pi\n",
    "# without parenthesis, the formula still works properly\n",
    "r = 1\n",
    "sphere =  pi * 4/3 * r ** 3\n",
    "sphere"
   ]
  },
  {
   "cell_type": "code",
   "execution_count": 14,
   "id": "3a2bd445",
   "metadata": {},
   "outputs": [
    {
     "name": "stdout",
     "output_type": "stream",
     "text": [
      "input a number: 121\n",
      "104\n"
     ]
    }
   ],
   "source": [
    "notgiven = int(input(\"input a number: \"))\n",
    "given = 17\n",
    "difference = abs(notgiven - given)\n",
    "if (given > notgiven):\n",
    "    print('before: ', difference)\n",
    "    print('after: ', difference*2)\n",
    "else:\n",
    "    print(difference)"
   ]
  },
  {
   "cell_type": "code",
   "execution_count": 15,
   "id": "b3fea7d4",
   "metadata": {},
   "outputs": [
    {
     "name": "stdout",
     "output_type": "stream",
     "text": [
      "input the target number: 1099\n",
      "the target is within 1000\n"
     ]
    }
   ],
   "source": [
    "target = abs(int(input('input the target number: ')))\n",
    "if abs(1000 - target) <= 100:\n",
    "    print('the target is within 1000')\n",
    "elif abs(2000 - target) <= 100:\n",
    "    print('the target is within 2000')\n",
    "else:\n",
    "    print('not within range')"
   ]
  },
  {
   "cell_type": "code",
   "execution_count": 16,
   "id": "5445e757",
   "metadata": {},
   "outputs": [
    {
     "name": "stdout",
     "output_type": "stream",
     "text": [
      "True\n",
      "True\n",
      "False\n",
      "False\n"
     ]
    }
   ],
   "source": [
    "# Define a function named \"near_thousand\" that takes an integer parameter \"n\"\n",
    "def near_thousand(n):\n",
    "    # Check if the absolute difference between 1000 and n is less than or equal to 100\n",
    "    # OR check if the absolute difference between 2000 and n is less than or equal to 100\n",
    "    return ((abs(1000 - n) <= 100) or (abs(2000 - n) <= 100))\n",
    "\n",
    "# Call the \"near_thousand\" function with various arguments and print the results\n",
    "print(near_thousand(1000))  # Expected output: True (1000 is exactly 1000)\n",
    "print(near_thousand(900))   # Expected output: True (900 is within 100 units of 1000)\n",
    "print(near_thousand(800))   # Expected output: False (800 is more than 100 units away from 1000)\n",
    "print(near_thousand(2200))  # Expected output: False (2200 is more than 100 units away from 2000)"
   ]
  },
  {
   "cell_type": "code",
   "execution_count": 17,
   "id": "32745b9e",
   "metadata": {},
   "outputs": [
    {
     "name": "stdout",
     "output_type": "stream",
     "text": [
      "True True\n"
     ]
    }
   ],
   "source": [
    "# Define the lambda function\n",
    "near_target = lambda n: (abs(1000 - n) <= 100) or (abs(2000 - n) <= 100)\n",
    "print(near_target(998), near_target(2053))"
   ]
  },
  {
   "cell_type": "code",
   "execution_count": 18,
   "id": "822c7a93",
   "metadata": {},
   "outputs": [
    {
     "name": "stdout",
     "output_type": "stream",
     "text": [
      "81\n"
     ]
    }
   ],
   "source": [
    "num1 =9\n",
    "num2 =9\n",
    "num3 =9\n",
    "sum = num1 + num2 + num3 \n",
    "if num1 == num2 == num3:\n",
    "    sum = sum*3\n",
    "print(sum)"
   ]
  },
  {
   "cell_type": "code",
   "execution_count": 19,
   "id": "4750213c",
   "metadata": {},
   "outputs": [
    {
     "name": "stdout",
     "output_type": "stream",
     "text": [
      "Isnot a dog\n",
      "Is a dog\n"
     ]
    }
   ],
   "source": [
    "def sentence(sentence):\n",
    "    if 'Is' in sentence[:2]:\n",
    "        return sentence\n",
    "    else:\n",
    "        return 'Is' + sentence\n",
    "    return\n",
    "print(sentence('not a dog'))\n",
    "print(sentence('Is a dog'))\n"
   ]
  },
  {
   "cell_type": "code",
   "execution_count": 20,
   "id": "8585661c",
   "metadata": {},
   "outputs": [
    {
     "name": "stdout",
     "output_type": "stream",
     "text": [
      "IsArray\n",
      "IsEmpty\n"
     ]
    }
   ],
   "source": [
    "# Define a function named \"new_string\" that takes a string parameter called \"text\"\n",
    "def new_string(text):\n",
    "    # Check if the length of the \"text\" is greater than or equal to 2 and if the first two characters of \"text\" are \"Is\"\n",
    "    if len(text) >= 2 and text[:2] == \"Is\":\n",
    "        # If the conditions are met, return the original \"text\" unchanged\n",
    "        return text\n",
    "    else:\n",
    "        # If the conditions are not met, prepend \"Is\" to the \"text\" and return the modified string\n",
    "        return \"Is\" + text\n",
    "\n",
    "# Call the \"new_string\" function with the argument \"Array\" and print the result\n",
    "print(new_string(\"Array\"))\n",
    "\n",
    "# Call the \"new_string\" function with the argument \"IsEmpty\" and print the result\n",
    "print(new_string(\"IsEmpty\"))\n"
   ]
  },
  {
   "cell_type": "code",
   "execution_count": 21,
   "id": "1c69feaa",
   "metadata": {},
   "outputs": [
    {
     "name": "stdout",
     "output_type": "stream",
     "text": [
      "IsTest\n",
      "IsTest\n"
     ]
    }
   ],
   "source": [
    "def add_is(string):\n",
    "    # Check if the string already starts with 'Is'\n",
    "    if string.startswith('Is'):\n",
    "        return string\n",
    "    else:\n",
    "        # Add 'Is' to the front of the string\n",
    "        return 'Is' + string\n",
    "\n",
    "# Test cases\n",
    "print(add_is(\"Test\"))  # Expected output: \"IsTest\"\n",
    "print(add_is(\"IsTest\"))  # Expected output: \"IsTest\""
   ]
  },
  {
   "cell_type": "code",
   "execution_count": 22,
   "id": "dcf87219",
   "metadata": {},
   "outputs": [
    {
     "data": {
      "text/plain": [
       "'545354535453'"
      ]
     },
     "execution_count": 22,
     "metadata": {},
     "output_type": "execute_result"
    }
   ],
   "source": [
    "def stringduplicates (string, n):\n",
    "    dups = string * n\n",
    "    return dups\n",
    "stringduplicates('5453', 3)"
   ]
  },
  {
   "cell_type": "code",
   "execution_count": 23,
   "id": "52504179",
   "metadata": {},
   "outputs": [
    {
     "data": {
      "text/plain": [
       "'odd'"
      ]
     },
     "execution_count": 23,
     "metadata": {},
     "output_type": "execute_result"
    }
   ],
   "source": [
    "def oddeven(number):\n",
    "    if number % 2 == 1:\n",
    "        return 'odd'\n",
    "    elif number % 2 == 0:\n",
    "        return 'even'\n",
    "\n",
    "oddeven(55)"
   ]
  },
  {
   "cell_type": "code",
   "execution_count": null,
   "id": "d465f7c4",
   "metadata": {},
   "outputs": [],
   "source": [
    "#22\n",
    "a_list=[1,4,6,7,4]\n",
    "\n",
    "def toSearch(searchlist):\n",
    "    count = 0\n",
    "    for num in searchlist:\n",
    "        if num == 4:\n",
    "            count +=1\n",
    "    return count\n",
    "\n",
    "toSearch(a_list)"
   ]
  },
  {
   "cell_type": "code",
   "execution_count": 22,
   "id": "447603ea",
   "metadata": {},
   "outputs": [
    {
     "name": "stdout",
     "output_type": "stream",
     "text": [
      "cococococo\n"
     ]
    }
   ],
   "source": [
    "# 23\n",
    "string = 'coke'\n",
    "n = 5\n",
    "\n",
    "def copies (string, n):\n",
    "    string.split()\n",
    "    print (string[:2] * n)\n",
    "\n",
    "copies(string,n)"
   ]
  },
  {
   "cell_type": "code",
   "execution_count": 52,
   "id": "d399363b",
   "metadata": {},
   "outputs": [
    {
     "name": "stdout",
     "output_type": "stream",
     "text": [
      "No, c is not a vowel\n",
      "Yes, a is a vowel\n",
      "No, t is not a vowel\n",
      "Yes, a is a vowel\n",
      "No, p is not a vowel\n",
      "Yes, u is a vowel\n",
      "No, l is not a vowel\n",
      "No, t is not a vowel\n",
      "consonantvowelconsonantconsonantvowelconsonant\n",
      "catpul\n",
      "[(0, 'c'), (1, 'a'), (2, 't'), (3, 'p'), (4, 'u'), (5, 'l')]\n"
     ]
    }
   ],
   "source": [
    "# 24\n",
    "vowel = 'aeiou'\n",
    "word = 'catapult'\n",
    "\n",
    "def check_vowel(word):\n",
    "    alphabet = {}\n",
    "    word.split()\n",
    "    for i, letter in enumerate(word):\n",
    "        if word[i] in vowel:\n",
    "            print(f\"Yes, {letter} is a vowel\")\n",
    "            alphabet[word[i]]='vowel'\n",
    "        else:\n",
    "            print(f\"No, {letter} is not a vowel\")\n",
    "            alphabet[word[i]]='consonant'\n",
    "    return alphabet\n",
    "\n",
    "word = check_vowel(word)\n",
    "print(''.join(word.values()))\n",
    "print(''.join(word))\n",
    "print (list(enumerate(word)))\n",
    "# catpul because key t can't have two\n"
   ]
  },
  {
   "cell_type": "code",
   "execution_count": 56,
   "id": "758cde9b",
   "metadata": {},
   "outputs": [
    {
     "data": {
      "text/plain": [
       "{3: True, -1: False}"
      ]
     },
     "execution_count": 56,
     "metadata": {},
     "output_type": "execute_result"
    }
   ],
   "source": [
    "test = [3,-1]\n",
    "group = [1,5,8,3]\n",
    "result = {}\n",
    "def testgroup(group,test):\n",
    "    for i, num in enumerate(test):\n",
    "        if test[i] in group:\n",
    "            result[test[i]]=True\n",
    "        else:\n",
    "            result[test[i]]=False\n",
    "    return result\n",
    "# return (result[test[i]]: boolean, ...)\n",
    "# returns test value and if there is/not\n",
    "testgroup(group,test)"
   ]
  },
  {
   "cell_type": "code",
   "execution_count": 70,
   "id": "9b8b9589",
   "metadata": {},
   "outputs": [
    {
     "name": "stdout",
     "output_type": "stream",
     "text": [
      "@@\n",
      "@@@\n",
      "@@@@@@\n",
      "@@@@@\n"
     ]
    }
   ],
   "source": [
    "number = 2365\n",
    "number = str(number)\n",
    "def histogram(number):\n",
    "    for i, num in enumerate(number):\n",
    "        print('@' * int(num))\n",
    "        \n",
    "histogram(number)"
   ]
  },
  {
   "cell_type": "code",
   "execution_count": 79,
   "id": "d4e5d894",
   "metadata": {},
   "outputs": [
    {
     "data": {
      "text/plain": [
       "'15122'"
      ]
     },
     "execution_count": 79,
     "metadata": {},
     "output_type": "execute_result"
    }
   ],
   "source": [
    "# 27\n",
    "alist = [1,5,12,2]\n",
    "def concatenate(alist):\n",
    "    net = ''\n",
    "    for i in alist:\n",
    "        net += str(i)\n",
    "    return net\n",
    "\n",
    "concatenate(alist)\n"
   ]
  },
  {
   "cell_type": "code",
   "execution_count": 81,
   "id": "b028b425",
   "metadata": {},
   "outputs": [
    {
     "name": "stdout",
     "output_type": "stream",
     "text": [
      "[386, 462, 418, 344, 236, 566, 978, 328, 162, 758, 918]\n"
     ]
    }
   ],
   "source": [
    "numbers = [    \n",
    "    386, 462, 47, 418, 907, 344, 236, 375, 823, 566, 597, 978, 328, 615, 953, 345, \n",
    "    399, 162, 758, 219, 918, 237, 412, 566, 826, 248, 866, 950, 626, 949, 687, 217, \n",
    "    815, 67, 104, 58, 512, 24, 892, 894, 767, 553, 81, 379, 843, 831, 445, 742, 717, \n",
    "    958,743, 527\n",
    "    ]\n",
    "def evens(numbers):\n",
    "    even = []\n",
    "    for i, num in enumerate(numbers):\n",
    "        if num == 237:\n",
    "            break\n",
    "        elif num % 2 == 0:\n",
    "            even.append(num)\n",
    "    return even\n",
    "\n",
    "print(evens(numbers))"
   ]
  },
  {
   "cell_type": "code",
   "execution_count": 88,
   "id": "6c8694c3",
   "metadata": {},
   "outputs": [
    {
     "name": "stdout",
     "output_type": "stream",
     "text": [
      "['Black', 'Teal', 'White']\n",
      "\n",
      "Difference of color_list_1 and color_list_2:\n",
      "{'Black', 'Teal', 'White'}\n",
      "\n",
      "Difference of color_list_2 and color_list_1:\n",
      "{'Green', 'Orange'}\n"
     ]
    }
   ],
   "source": [
    "color_list_1 = set([\"White\", \"Black\", \"Red\", \"Teal\"])\n",
    "color_list_2 = set([\"Red\", \"Green\", \"Orange\"])\n",
    "unique_1 = []\n",
    "def dif_color(colorlist1, colorlist2):\n",
    "    for color1 in colorlist1:\n",
    "        if color1 not in colorlist2:\n",
    "            unique_1.append(color1)\n",
    "            \n",
    "    return unique_1\n",
    "\n",
    "print(dif_color(color_list_1, color_list_2))\n",
    "#                  #\n",
    "# OR DO THIS BELOW # \n",
    "#                  #\n",
    "\n",
    "# Calculate and print the difference of color_list_1 and color_list_2.\n",
    "print(\"\\nDifference of color_list_1 and color_list_2:\")\n",
    "print(color_list_1.difference(color_list_2))\n",
    "\n",
    "# Calculate and print the difference of color_list_2 and color_list_1.\n",
    "print(\"\\nDifference of color_list_2 and color_list_1:\")\n",
    "print(color_list_2.difference(color_list_1))"
   ]
  },
  {
   "cell_type": "code",
   "execution_count": 89,
   "id": "8e51bd0a",
   "metadata": {},
   "outputs": [
    {
     "name": "stdout",
     "output_type": "stream",
     "text": [
      "10.0\n"
     ]
    }
   ],
   "source": [
    "#30 area of triangle\n",
    "b = 5\n",
    "h = 4\n",
    "def area_triangle(b,h):\n",
    "    return b * h * 1/2\n",
    "print(area_triangle(b,h))"
   ]
  },
  {
   "cell_type": "code",
   "execution_count": 100,
   "id": "2139da0d",
   "metadata": {},
   "outputs": [
    {
     "name": "stdout",
     "output_type": "stream",
     "text": [
      "GCD of 12 & 17 = 1\n",
      "GCD of 4 & 6 = 2\n",
      "GCD of 336 & 360 = 24\n"
     ]
    }
   ],
   "source": [
    "def gcd(x, y):\n",
    "    # If y is a divisor of x, return y as the GCD.\n",
    "    if x % y == 0:\n",
    "        return y\n",
    "    \n",
    "    # Iterate from half of y down to 1 to find the highest common divisor.\n",
    "    for k in range(y // 2, 0, -1):\n",
    "        if x % k == 0 and y % k == 0:\n",
    "            return k\n",
    "    \n",
    "    # If no common divisor is found other than 1, return 1.\n",
    "    return 1\n",
    "\n",
    "# Test the gcd function with example pairs of numbers.\n",
    "print(\"GCD of 12 & 17 =\", gcd(12, 17))  # Should return 1\n",
    "print(\"GCD of 4 & 6 =\", gcd(4, 6))      # Should return 2\n",
    "print(\"GCD of 336 & 360 =\", gcd(336, 360))  # Should return 24"
   ]
  },
  {
   "cell_type": "code",
   "execution_count": 107,
   "id": "0310c6a2",
   "metadata": {},
   "outputs": [
    {
     "name": "stdout",
     "output_type": "stream",
     "text": [
      "GCD of 12 & 17 = 1\n",
      "GCD of 4 & 6 = 2\n",
      "GCD of 336 & 360 = 24\n"
     ]
    }
   ],
   "source": [
    "def gcd (x,y):\n",
    "    if x % y ==0:\n",
    "        return y\n",
    "    \n",
    "    for k in range(x//2,0,-1):\n",
    "        if x % k == 0 and y % k == 0:\n",
    "            return k\n",
    "    \n",
    "    return 1\n",
    "    \n",
    "print(\"GCD of 12 & 17 =\", gcd(12, 17))  # Should return 1\n",
    "print(\"GCD of 4 & 6 =\", gcd(4, 6))      # Should return 2\n",
    "print(\"GCD of 336 & 360 =\", gcd(336, 360))  # Should return 24"
   ]
  },
  {
   "cell_type": "code",
   "execution_count": 109,
   "id": "c203bb23",
   "metadata": {},
   "outputs": [
    {
     "name": "stdout",
     "output_type": "stream",
     "text": [
      "12\n",
      "255\n"
     ]
    }
   ],
   "source": [
    "# Define a function 'lcm' that calculates the least common multiple (LCM) of two numbers, 'x' and 'y'.\n",
    "def lcm(x, y):\n",
    "    # Compare 'x' and 'y' to determine the larger number and store it in 'z'.\n",
    "    if x > y:\n",
    "        z = x\n",
    "    else:\n",
    "        z = y\n",
    "    \n",
    "    # Use a 'while' loop to find the LCM.\n",
    "    while True:\n",
    "        # Check if 'z' is divisible by both 'x' and 'y' with no remainder.\n",
    "        if (z % x == 0) and (z % y == 0):\n",
    "            # If both conditions are met, 'z' is the LCM, so store it in 'lcm' and break the loop.\n",
    "            lcm = z\n",
    "            break\n",
    "        # If the conditions are not met, increment 'z' and continue checking.\n",
    "        z += 1\n",
    "    \n",
    "    # Return the calculated LCM.\n",
    "    return lcm\n",
    "\n",
    "# Calculate and print the LCM of 4 and 6.\n",
    "print(lcm(4, 6))\n",
    "# Calculate and print the LCM of 15 and 17.\n",
    "print(lcm(15, 17))"
   ]
  },
  {
   "cell_type": "code",
   "execution_count": 119,
   "id": "0dcddaff",
   "metadata": {},
   "outputs": [
    {
     "name": "stdout",
     "output_type": "stream",
     "text": [
      "LCM of 12 & 17 = 204\n",
      "LCM of 4 & 6 = 12\n",
      "LCM of 336 & 360 = 5040\n",
      "LCM of 43 & 88 = 3784\n",
      "GCD of 12 & 17 = 1\n",
      "GCD of 4 & 6 = 2\n",
      "GCD of 336 & 360 = 24\n",
      "GCD of 43 & 88 = 1\n"
     ]
    }
   ],
   "source": [
    "def gcd(x, y):\n",
    "    while y:\n",
    "        x, y = y, x % y\n",
    "    return x\n",
    "\n",
    "def lcm(x, y):\n",
    "    return abs(x * y) // gcd(x, y)\n",
    "\n",
    "# Test the lcm function with example pairs of numbers.\n",
    "print(\"LCM of 12 & 17 =\", lcm(12, 17))  # Should return 204\n",
    "print(\"LCM of 4 & 6 =\", lcm(4, 6))      # Should return 12\n",
    "print(\"LCM of 336 & 360 =\", lcm(336, 360))  # Should return 5040\n",
    "print(\"LCM of 43 & 88 =\", lcm(43, 88))  # Should return 3784\n",
    "print(\"GCD of 12 & 17 =\", gcd(12, 17))  # Should return 204\n",
    "print(\"GCD of 4 & 6 =\", gcd(4, 6))      # Should return 12\n",
    "print(\"GCD of 336 & 360 =\", gcd(336, 360))  # Should return 5040\n",
    "print(\"GCD of 43 & 88 =\", gcd(43, 88))  # Should return 3784"
   ]
  },
  {
   "cell_type": "code",
   "execution_count": 138,
   "id": "c79ff20f",
   "metadata": {},
   "outputs": [
    {
     "name": "stdout",
     "output_type": "stream",
     "text": [
      "3   3\n",
      "3   2\n"
     ]
    },
    {
     "data": {
      "text/plain": [
       "0"
      ]
     },
     "execution_count": 138,
     "metadata": {},
     "output_type": "execute_result"
    }
   ],
   "source": [
    "# set can't have duplicate value\n",
    "# dictionary/hash-table can't have duplicate key\n",
    "\n",
    "\n",
    "#33 sum three given integers\n",
    "def sumthree(listnum):\n",
    "    if len(listnum) != len(set(listnum)):\n",
    "        return 0\n",
    "    else:\n",
    "        return sum(listnum)\n",
    "    \n",
    "num1 = [5,45,23]\n",
    "num2 = [23,45,23]\n",
    "\n",
    "print(len(num1),' ', len(set(num1)))\n",
    "print(len(num2),' ', len(set(num2)))\n",
    "sumthree(num2)\n"
   ]
  },
  {
   "cell_type": "code",
   "execution_count": 152,
   "id": "f00f83ca",
   "metadata": {},
   "outputs": [
    {
     "name": "stdout",
     "output_type": "stream",
     "text": [
      "listnum: 105 and listnum1: 20\n"
     ]
    }
   ],
   "source": [
    "#34 sum of two numbers, return 20 if result 15 to 20\n",
    "\n",
    "def sumtwo(listnum):\n",
    "    #if 15 <= listnum[0] + listnum[1] <= 20:\n",
    "    if sum(listnum) in range(15,20):\n",
    "        return 20\n",
    "    else:\n",
    "        return sum(listnum)\n",
    "    \n",
    "listnum = [35,70]\n",
    "listnum1 = [5,10]\n",
    "\n",
    "print(f'listnum: {sumtwo(listnum)} and listnum1: {sumtwo(listnum1)}')\n"
   ]
  },
  {
   "cell_type": "code",
   "execution_count": 158,
   "id": "44d67438",
   "metadata": {},
   "outputs": [
    {
     "data": {
      "text/plain": [
       "True"
      ]
     },
     "execution_count": 158,
     "metadata": {},
     "output_type": "execute_result"
    }
   ],
   "source": [
    "#35 return true if two int values equals, sum or difference equals 5\n",
    "def equal(num1,num2):\n",
    "    if num1 == num2 or num1 + num2 == 5 or abs(num1 - num2) == 5:\n",
    "        return True\n",
    "    else:\n",
    "        return False\n",
    "    \n",
    "num1 = 6\n",
    "num2 = 6\n",
    "equal(num1,num2)"
   ]
  },
  {
   "cell_type": "code",
   "execution_count": 161,
   "id": "1e55e0a5",
   "metadata": {},
   "outputs": [
    {
     "name": "stdout",
     "output_type": "stream",
     "text": [
      "<class 'int'>   <class 'int'>\n"
     ]
    },
    {
     "data": {
      "text/plain": [
       "30"
      ]
     },
     "execution_count": 161,
     "metadata": {},
     "output_type": "execute_result"
    }
   ],
   "source": [
    "#36 add two objects if both objects are int\n",
    "def objornum(val1,val2):\n",
    "    if isinstance(val1, int) and isinstance(val2, int):\n",
    "        print(type(val1), ' ', type(val2))\n",
    "        return val1+val2\n",
    "    return\n",
    "val1 = 4\n",
    "val2 = 26\n",
    "objornum(val1, val2)"
   ]
  },
  {
   "cell_type": "code",
   "execution_count": 182,
   "id": "d54eb9c2",
   "metadata": {},
   "outputs": [
    {
     "name": "stdout",
     "output_type": "stream",
     "text": [
      "Name: Simon\n",
      "Age: 19\n",
      "Address: Bangalore, Karnataka, India\n",
      "19\n",
      "Bangalore, Karnataka, India\n",
      "Simon\n"
     ]
    }
   ],
   "source": [
    "# Define a function 'personal_details'.\n",
    "def personal_details():\n",
    "    # Define variables 'name' and 'age' and assign values to them.\n",
    "    name, age = \"Simon\", 19\n",
    "    # Define a variable 'address' and assign a value to it.\n",
    "    address = \"Bangalore, Karnataka, India\"\n",
    "    # Print the personal details using string formatting.\n",
    "    print(\"Name: {}\\nAge: {}\\nAddress: {}\".format(name, age, address))\n",
    "    print(f'{age}\\n{address}\\n{name}')\n",
    "    \n",
    "# Call the 'personal_details' function to display the details.\n",
    "personal_details()"
   ]
  },
  {
   "cell_type": "code",
   "execution_count": 194,
   "id": "d89f8575",
   "metadata": {},
   "outputs": [
    {
     "name": "stdout",
     "output_type": "stream",
     "text": [
      "400\n"
     ]
    }
   ],
   "source": [
    "#38 solve (x+y) * (x+y)\n",
    "# lambda can assign default value like\n",
    "# result = lambda x = 5, y = 6: (x+y) * (x+y)\n",
    "result = lambda x = 5, y = 6: (x+y) * (x+y)\n",
    "print(result(10,10))"
   ]
  },
  {
   "cell_type": "code",
   "execution_count": 216,
   "id": "b4fc8657",
   "metadata": {},
   "outputs": [
    {
     "data": {
      "text/plain": [
       "12723"
      ]
     },
     "execution_count": 216,
     "metadata": {},
     "output_type": "execute_result"
    }
   ],
   "source": [
    "# 39\n",
    "future = lambda amt=10000, ints=3.5, years=7 : amt * ((1 + (0.01 * int)) ** years)\n",
    "round(future())"
   ]
  },
  {
   "cell_type": "code",
   "execution_count": 212,
   "id": "7476e76b",
   "metadata": {},
   "outputs": [
    {
     "name": "stdout",
     "output_type": "stream",
     "text": [
      "12722.79\n"
     ]
    }
   ],
   "source": [
    "# Define the principal amount (initial investment).\n",
    "amt = 10000\n",
    "# Define the annual interest rate as a percentage.\n",
    "int = 3.5\n",
    "# Define the number of years.\n",
    "years = 7\n",
    "# Calculate the future value of the investment using the compound interest formula.\n",
    "future_value = amt * ((1 + (0.01 * int)) ** years)\n",
    "# Round the future value to two decimal places and print it.\n",
    "print(round(future_value, 2))"
   ]
  },
  {
   "cell_type": "code",
   "execution_count": 201,
   "id": "cd77fbe4",
   "metadata": {},
   "outputs": [
    {
     "name": "stdout",
     "output_type": "stream",
     "text": [
      "7.0710678118654755\n"
     ]
    }
   ],
   "source": [
    "# 40 \n",
    "distance = lambda x1, x2, y1, y2: ((y2-y1)**2 + (x2-x1)**2)**.5\n",
    "x1, x2, y1, y2 = 10, 15, 5, 10\n",
    "print(distance(x1, x2, y1, y2))"
   ]
  },
  {
   "cell_type": "code",
   "execution_count": 217,
   "id": "889a88c8",
   "metadata": {},
   "outputs": [
    {
     "name": "stdout",
     "output_type": "stream",
     "text": [
      "7.0710678118654755\n"
     ]
    }
   ],
   "source": [
    "# Import the math module to use the square root function.\n",
    "import math\n",
    "\n",
    "# Define the coordinates of the first point (p1) as a list.\n",
    "p1 = [10, 5]\n",
    "\n",
    "# Define the coordinates of the second point (p2) as a list.\n",
    "p2 = [15, 10]\n",
    "\n",
    "# Calculate the distance between the two points using the distance formula.\n",
    "# The formula computes the Euclidean distance in a 2D space.\n",
    "distance = math.sqrt(((p1[0] - p2[0]) ** 2) + ((p1[1] - p2[1]) ** 2))\n",
    "\n",
    "# Print the calculated distance.\n",
    "print(distance)"
   ]
  },
  {
   "cell_type": "code",
   "execution_count": 223,
   "id": "c3ab7d4f",
   "metadata": {},
   "outputs": [
    {
     "name": "stdout",
     "output_type": "stream",
     "text": [
      "False\n",
      "False\n",
      "True\n"
     ]
    }
   ],
   "source": [
    "# 41 check if file exists\n",
    "# Import the os.path module to work with file and directory paths.\n",
    "import os.path\n",
    "\n",
    "# Check if 'main.txt' is a file and print the result.\n",
    "print(os.path.isfile('main.txt'))\n",
    "\n",
    "# Check if 'main.py' is a file and print the result.\n",
    "print(os.path.isfile('main.py'))\n",
    "\n",
    "print(os.path.isfile('w3resource Python Practice.ipynb'))"
   ]
  },
  {
   "cell_type": "code",
   "execution_count": 24,
   "id": "718d46c1",
   "metadata": {},
   "outputs": [
    {
     "name": "stdout",
     "output_type": "stream",
     "text": [
      "64\n"
     ]
    }
   ],
   "source": [
    "# Import the 'struct' module, which provides pack and unpack functions for working with variable-length binary data.\n",
    "import struct\n",
    "\n",
    "# Use the 'calcsize' function to determine the size (in bytes) of the C int type for the current platform.\n",
    "# The format string \"P\" is used to represent the C void pointer type, and multiplying it by 8 gives the size in bits.\n",
    "# The result will be 32 for 32-bit platforms and 64 for 64-bit platforms.\n",
    "print(struct.calcsize(\"P\") * 8)"
   ]
  },
  {
   "cell_type": "code",
   "execution_count": 29,
   "id": "312daec9",
   "metadata": {},
   "outputs": [
    {
     "name": "stdout",
     "output_type": "stream",
     "text": [
      "['C:\\\\Users\\\\PC\\\\anaconda3', 'C:\\\\Users\\\\PC\\\\anaconda3\\\\Lib\\\\site-packages']\n"
     ]
    }
   ],
   "source": [
    "# Import the 'site' module.\n",
    "import site\n",
    "\n",
    "# Use the 'site.getsitepackages()' function to retrieve site packages' paths.\n",
    "# 'site.getsitepackages()' returns a list of paths where site packages are installed.\n",
    "print(site.getsitepackages())"
   ]
  },
  {
   "cell_type": "code",
   "execution_count": 31,
   "id": "c661c8e4",
   "metadata": {},
   "outputs": [
    {
     "ename": "NameError",
     "evalue": "name '__file__' is not defined",
     "output_type": "error",
     "traceback": [
      "\u001b[1;31m---------------------------------------------------------------------------\u001b[0m",
      "\u001b[1;31mNameError\u001b[0m                                 Traceback (most recent call last)",
      "Cell \u001b[1;32mIn[31], line 5\u001b[0m\n\u001b[0;32m      2\u001b[0m \u001b[38;5;28;01mimport\u001b[39;00m \u001b[38;5;21;01mos\u001b[39;00m\n\u001b[0;32m      3\u001b[0m \u001b[38;5;66;03m# Use the 'os.path.realpath(__file__)' to get the full path of the current Python script.\u001b[39;00m\n\u001b[0;32m      4\u001b[0m \u001b[38;5;66;03m# This will print the path of the current file.\u001b[39;00m\n\u001b[1;32m----> 5\u001b[0m \u001b[38;5;28mprint\u001b[39m(\u001b[38;5;124m\"\u001b[39m\u001b[38;5;124mCurrent File Name: \u001b[39m\u001b[38;5;124m\"\u001b[39m, os\u001b[38;5;241m.\u001b[39mpath\u001b[38;5;241m.\u001b[39mrealpath(\u001b[38;5;18m__file__\u001b[39m))\n",
      "\u001b[1;31mNameError\u001b[0m: name '__file__' is not defined"
     ]
    }
   ],
   "source": [
    "# Import the 'os' module to work with the operating system.\n",
    "import os\n",
    "# Use the 'os.path.realpath(__file__)' to get the full path of the current Python script.\n",
    "# This will print the path of the current file.\n",
    "print(\"Current File Name: \", os.path.realpath(__file__))"
   ]
  },
  {
   "cell_type": "code",
   "execution_count": 32,
   "id": "a6b3ff69",
   "metadata": {},
   "outputs": [
    {
     "name": "stdout",
     "output_type": "stream",
     "text": [
      "8\n"
     ]
    }
   ],
   "source": [
    "# Import the 'multiprocessing' module to work with multi-processing features.\n",
    "import multiprocessing\n",
    "\n",
    "# Use 'multiprocessing.cpu_count()' to determine the number of available CPU cores.\n",
    "cpu_count = multiprocessing.cpu_count()\n",
    "\n",
    "# Print the number of CPU cores available on the system.\n",
    "print(cpu_count)"
   ]
  },
  {
   "cell_type": "code",
   "execution_count": 33,
   "id": "80655198",
   "metadata": {},
   "outputs": [
    {
     "name": "stdout",
     "output_type": "stream",
     "text": [
      "246.2458\n",
      "246\n"
     ]
    }
   ],
   "source": [
    "# Define a string 'n' containing a numeric value.\n",
    "n = \"246.2458\"\n",
    "\n",
    "# Convert the string 'n' to a floating-point number and print the result.\n",
    "print(float(n))\n",
    "\n",
    "# Convert the floating-point number to an integer, truncating any decimal part, and print the result.\n",
    "print(int(float(n)))"
   ]
  },
  {
   "cell_type": "code",
   "execution_count": 34,
   "id": "ea5bbb09",
   "metadata": {},
   "outputs": [
    {
     "name": "stdout",
     "output_type": "stream",
     "text": [
      "12\n",
      "233.12\n"
     ]
    }
   ],
   "source": [
    "# Define a function 'test' that takes a string 's' as input.\n",
    "def test(s):\n",
    "    try:\n",
    "        # Try to convert the input string to an integer.\n",
    "        return int(s)\n",
    "    except ValueError:\n",
    "        # If the conversion to an integer raises a ValueError (i.e., it's not an integer), \n",
    "        # then try to convert the string to a floating-point number (float).\n",
    "        return float(s)\n",
    "\n",
    "# Call the 'test' function with different input values and print the results.\n",
    "print(test('12'))       # Try to convert '12' to an integer.\n",
    "print(test('233.12'))   # Try to convert '233.12' to a float."
   ]
  },
  {
   "cell_type": "code",
   "execution_count": 35,
   "id": "b58e74f0",
   "metadata": {},
   "outputs": [
    {
     "ename": "FileNotFoundError",
     "evalue": "[WinError 3] The system cannot find the path specified: '/home/students'",
     "output_type": "error",
     "traceback": [
      "\u001b[1;31m---------------------------------------------------------------------------\u001b[0m",
      "\u001b[1;31mFileNotFoundError\u001b[0m                         Traceback (most recent call last)",
      "Cell \u001b[1;32mIn[35], line 7\u001b[0m\n\u001b[0;32m      3\u001b[0m \u001b[38;5;28;01mfrom\u001b[39;00m \u001b[38;5;21;01mos\u001b[39;00m\u001b[38;5;21;01m.\u001b[39;00m\u001b[38;5;21;01mpath\u001b[39;00m \u001b[38;5;28;01mimport\u001b[39;00m isfile, join\n\u001b[0;32m      5\u001b[0m \u001b[38;5;66;03m# Create a list 'files_list' that contains the names of files in the '/home/students' directory.\u001b[39;00m\n\u001b[0;32m      6\u001b[0m \u001b[38;5;66;03m# It uses a list comprehension to filter files using 'isfile' and 'join' functions.\u001b[39;00m\n\u001b[1;32m----> 7\u001b[0m files_list \u001b[38;5;241m=\u001b[39m [f \u001b[38;5;28;01mfor\u001b[39;00m f \u001b[38;5;129;01min\u001b[39;00m listdir(\u001b[38;5;124m'\u001b[39m\u001b[38;5;124m/home/students\u001b[39m\u001b[38;5;124m'\u001b[39m) \u001b[38;5;28;01mif\u001b[39;00m isfile(join(\u001b[38;5;124m'\u001b[39m\u001b[38;5;124m/home/students\u001b[39m\u001b[38;5;124m'\u001b[39m, f))]\n\u001b[0;32m      9\u001b[0m \u001b[38;5;66;03m# Print the list of file names.\u001b[39;00m\n\u001b[0;32m     10\u001b[0m \u001b[38;5;28mprint\u001b[39m(files_list)\n",
      "\u001b[1;31mFileNotFoundError\u001b[0m: [WinError 3] The system cannot find the path specified: '/home/students'"
     ]
    }
   ],
   "source": [
    "# Import necessary functions and modules from the 'os' library.\n",
    "from os import listdir\n",
    "from os.path import isfile, join\n",
    "\n",
    "# Create a list 'files_list' that contains the names of files in the '/home/students' directory.\n",
    "# It uses a list comprehension to filter files using 'isfile' and 'join' functions.\n",
    "files_list = [f for f in listdir('/home/students') if isfile(join('/home/students', f))]\n",
    "\n",
    "# Print the list of file names.\n",
    "print(files_list)"
   ]
  },
  {
   "cell_type": "code",
   "execution_count": 36,
   "id": "13c3eb71",
   "metadata": {},
   "outputs": [
    {
     "name": "stdout",
     "output_type": "stream",
     "text": [
      "3\n",
      "         29 function calls in 0.000 seconds\n",
      "\n",
      "   Ordered by: standard name\n",
      "\n",
      "   ncalls  tottime  percall  cumtime  percall filename:lineno(function)\n",
      "        1    0.000    0.000    0.000    0.000 2592104846.py:4(sum)\n",
      "        1    0.000    0.000    0.000    0.000 <string>:1(<module>)\n",
      "        1    0.000    0.000    0.000    0.000 iostream.py:137(_event_pipe)\n",
      "        1    0.000    0.000    0.000    0.000 iostream.py:258(schedule)\n",
      "        2    0.000    0.000    0.000    0.000 iostream.py:519(_is_master_process)\n",
      "        2    0.000    0.000    0.000    0.000 iostream.py:546(_schedule_flush)\n",
      "        2    0.000    0.000    0.000    0.000 iostream.py:624(write)\n",
      "        1    0.000    0.000    0.000    0.000 socket.py:545(send)\n",
      "        1    0.000    0.000    0.000    0.000 threading.py:1125(_wait_for_tstate_lock)\n",
      "        1    0.000    0.000    0.000    0.000 threading.py:1192(is_alive)\n",
      "        1    0.000    0.000    0.000    0.000 threading.py:575(is_set)\n",
      "        1    0.000    0.000    0.000    0.000 {built-in method builtins.exec}\n",
      "        2    0.000    0.000    0.000    0.000 {built-in method builtins.isinstance}\n",
      "        2    0.000    0.000    0.000    0.000 {built-in method builtins.len}\n",
      "        1    0.000    0.000    0.000    0.000 {built-in method builtins.print}\n",
      "        2    0.000    0.000    0.000    0.000 {built-in method nt.getpid}\n",
      "        2    0.000    0.000    0.000    0.000 {method '__exit__' of '_thread.RLock' objects}\n",
      "        1    0.000    0.000    0.000    0.000 {method 'acquire' of '_thread.lock' objects}\n",
      "        1    0.000    0.000    0.000    0.000 {method 'append' of 'collections.deque' objects}\n",
      "        1    0.000    0.000    0.000    0.000 {method 'disable' of '_lsprof.Profiler' objects}\n",
      "        2    0.000    0.000    0.000    0.000 {method 'write' of '_io.StringIO' objects}\n",
      "\n",
      "\n"
     ]
    }
   ],
   "source": [
    "# Import the cProfile module, which provides a way to profile Python code.\n",
    "import cProfile\n",
    "# Define a function named 'sum'.\n",
    "def sum():\n",
    "   # Print the result of adding 1 and 2 to the console.\n",
    "   print(1 + 2)\n",
    "# Use cProfile to profile the 'sum' function.\n",
    "cProfile.run('sum()')"
   ]
  },
  {
   "cell_type": "code",
   "execution_count": 37,
   "id": "53311c69",
   "metadata": {},
   "outputs": [
    {
     "name": "stderr",
     "output_type": "stream",
     "text": [
      "abc--efg--xyz\n"
     ]
    }
   ],
   "source": [
    "# Import the 'print_function' feature from the '__future__' module to enable Python 3-style print function.\n",
    "from __future__ import print_function\n",
    "\n",
    "# Import the 'sys' module, which provides access to some variables used or maintained by the interpreter.\n",
    "import sys\n",
    "\n",
    "# Define a custom 'eprint' function that prints to the standard error stream.\n",
    "def eprint(*args, **kwargs):\n",
    "    # Call the 'print' function with the provided arguments and keyword arguments.\n",
    "    # Use 'file=sys.stderr' to print to the standard error stream (stderr).\n",
    "    print(*args, file=sys.stderr, **kwargs)\n",
    "\n",
    "# Call the 'eprint' function with the specified arguments and separator.\n",
    "eprint(\"abc\", \"efg\", \"xyz\", sep=\"--\")"
   ]
  },
  {
   "cell_type": "code",
   "execution_count": 39,
   "id": "a5df932d",
   "metadata": {},
   "outputs": [
    {
     "name": "stdout",
     "output_type": "stream",
     "text": [
      "ALLUSERSPROFILE: C:\\ProgramData\n",
      "APPDATA: C:\\Users\\PC\\AppData\\Roaming\n",
      "COMMONPROGRAMFILES: C:\\Program Files\\Common Files\n",
      "COMMONPROGRAMFILES(X86): C:\\Program Files (x86)\\Common Files\n",
      "COMMONPROGRAMW6432: C:\\Program Files\\Common Files\n",
      "COMPUTERNAME: DESKTOP-BE6TIUT\n",
      "COMSPEC: C:\\WINDOWS\\system32\\cmd.exe\n",
      "DRIVERDATA: C:\\Windows\\System32\\Drivers\\DriverData\n",
      "FPS_BROWSER_APP_PROFILE_STRING: Internet Explorer\n",
      "FPS_BROWSER_USER_PROFILE_STRING: Default\n",
      "HOMEDRIVE: C:\n",
      "HOMEPATH: \\Users\\PC\n",
      "LOCALAPPDATA: C:\\Users\\PC\\AppData\\Local\n",
      "LOGONSERVER: \\\\DESKTOP-BE6TIUT\n",
      "NUMBER_OF_PROCESSORS: 8\n",
      "ONEDRIVE: C:\\Users\\PC\\OneDrive\n",
      "OS: Windows_NT\n",
      "PATH: C:\\Users\\PC\\anaconda3;C:\\Users\\PC\\anaconda3\\Library\\mingw-w64\\bin;C:\\Users\\PC\\anaconda3\\Library\\usr\\bin;C:\\Users\\PC\\anaconda3\\Library\\bin;C:\\Users\\PC\\anaconda3\\Scripts;C:\\Program Files\\Python312\\Scripts\\;C:\\Program Files\\Python312\\;C:\\WINDOWS\\system32;C:\\WINDOWS;C:\\WINDOWS\\System32\\Wbem;C:\\WINDOWS\\System32\\WindowsPowerShell\\v1.0\\;C:\\WINDOWS\\System32\\OpenSSH\\;C:\\Program Files (x86)\\NVIDIA Corporation\\PhysX\\Common;C:\\Program Files\\NVIDIA Corporation\\NVIDIA NvDLISR;C:\\Program Files\\Git\\cmd;\\home\\oh8662\\.local\\bin;C:\\Users\\PC\\AppData\\Local\\Programs\\Microsoft VS Code\\bin;C:\\Users\\PC\\AppData\\Local\\Microsoft\\WindowsApps;C:\\msys64\\mingw64\\bin;C:\\Users\\PC\\AppData\\Local\\GitHubDesktop\\bin;C:\\Users\\PC\\AppData\\Roaming\\Python\\Python312\\Scripts;C:\\Exercism;C:\\Program Files\\JetBrains\\PyCharm Community Edition 2024.1.1\\bin;;C:\\Program Files\\JetBrains\\PyCharm 2024.1.1\\bin;\n",
      "PATHEXT: .COM;.EXE;.BAT;.CMD;.VBS;.VBE;.JS;.JSE;.WSF;.WSH;.MSC;.PY;.PYW\n",
      "PROCESSOR_ARCHITECTURE: AMD64\n",
      "PROCESSOR_IDENTIFIER: Intel64 Family 6 Model 94 Stepping 3, GenuineIntel\n",
      "PROCESSOR_LEVEL: 6\n",
      "PROCESSOR_REVISION: 5e03\n",
      "PROGRAMDATA: C:\\ProgramData\n",
      "PROGRAMFILES: C:\\Program Files\n",
      "PROGRAMFILES(X86): C:\\Program Files (x86)\n",
      "PROGRAMW6432: C:\\Program Files\n",
      "PSMODULEPATH: C:\\Program Files\\WindowsPowerShell\\Modules;C:\\WINDOWS\\system32\\WindowsPowerShell\\v1.0\\Modules\n",
      "PUBLIC: C:\\Users\\Public\n",
      "PYCHARM: C:\\Program Files\\JetBrains\\PyCharm 2024.1.1\\bin;\n",
      "PYCHARM COMMUNITY EDITION: C:\\Program Files\\JetBrains\\PyCharm Community Edition 2024.1.1\\bin;\n",
      "SESSIONNAME: Console\n",
      "SYSTEMDRIVE: C:\n",
      "SYSTEMROOT: C:\\WINDOWS\n",
      "TEMP: C:\\Users\\PC\\AppData\\Local\\Temp\n",
      "TMP: C:\\Users\\PC\\AppData\\Local\\Temp\n",
      "USERDOMAIN: DESKTOP-BE6TIUT\n",
      "USERDOMAIN_ROAMINGPROFILE: DESKTOP-BE6TIUT\n",
      "USERNAME: PC\n",
      "USERPROFILE: C:\\Users\\PC\n",
      "WINDIR: C:\\WINDOWS\n",
      "CONDA_PREFIX: C:\\Users\\PC\\anaconda3\n",
      "PYDEVD_USE_FRAME_EVAL: NO\n",
      "JPY_INTERRUPT_EVENT: 3100\n",
      "IPY_INTERRUPT_EVENT: 3100\n",
      "JPY_PARENT_PID: 3540\n",
      "TERM: xterm-color\n",
      "CLICOLOR: 1\n",
      "FORCE_COLOR: 1\n",
      "CLICOLOR_FORCE: 1\n",
      "PAGER: cat\n",
      "GIT_PAGER: cat\n",
      "MPLBACKEND: module://matplotlib_inline.backend_inline\n"
     ]
    }
   ],
   "source": [
    "# Import the 'os' module to access operating system-related functionality, including environment variables.\n",
    "import os\n",
    "\n",
    "# Iterate through all environment variables and their values using the 'os.environ.items()' method.\n",
    "for item, value in os.environ.items():\n",
    "    # Print the environment variable name and its corresponding value.\n",
    "    print('{}: {}'.format(item, value))"
   ]
  },
  {
   "cell_type": "code",
   "execution_count": 40,
   "id": "0f8a1452",
   "metadata": {},
   "outputs": [
    {
     "name": "stdout",
     "output_type": "stream",
     "text": [
      "PC\n"
     ]
    }
   ],
   "source": [
    "# Import the 'getpass' module to access user-related functionality, including getting the current username.\n",
    "import getpass\n",
    "\n",
    "# Use the 'getuser()' function from the 'getpass' module to retrieve the current username.\n",
    "# Then, print the username to the console.\n",
    "print(getpass.getuser())"
   ]
  },
  {
   "cell_type": "code",
   "execution_count": 42,
   "id": "e8e6ec3a",
   "metadata": {},
   "outputs": [
    {
     "name": "stdout",
     "output_type": "stream",
     "text": [
      "172.27.160.1\n"
     ]
    }
   ],
   "source": [
    "# Import the 'socket' module to work with network-related functions.\n",
    "import socket\n",
    "\n",
    "# The following code retrieves the local IP address of the current machine:\n",
    "# 1. Use 'socket.gethostname()' to get the local hostname.\n",
    "# 2. Use 'socket.gethostbyname_ex()' to get a list of IP addresses associated with the hostname.\n",
    "# 3. Filter the list to exclude any IP addresses starting with \"127.\" (loopback addresses).\n",
    "# 4. Extract the first IP address (if available) from the filtered list.\n",
    "# 5. Print the obtained IP address to the console.\n",
    "\n",
    "# Step 1: Get the local hostname.\n",
    "local_hostname = socket.gethostname()\n",
    "\n",
    "# Step 2: Get a list of IP addresses associated with the hostname.\n",
    "ip_addresses = socket.gethostbyname_ex(local_hostname)[2]\n",
    "\n",
    "# Step 3: Filter out loopback addresses (IPs starting with \"127.\").\n",
    "filtered_ips = [ip for ip in ip_addresses if not ip.startswith(\"127.\")]\n",
    "\n",
    "# Step 4: Extract the first IP address (if available) from the filtered list.\n",
    "first_ip = filtered_ips[:1]\n",
    "\n",
    "# Step 5: Print the obtained IP address to the console.\n",
    "print(first_ip[0])"
   ]
  },
  {
   "cell_type": "code",
   "execution_count": 43,
   "id": "59d4e5c2",
   "metadata": {},
   "outputs": [
    {
     "name": "stdout",
     "output_type": "stream",
     "text": [
      "172.27.160.1\n"
     ]
    }
   ],
   "source": [
    "# Import the 'socket' module to work with network-related functions.\n",
    "import socket\n",
    "\n",
    "# The following code retrieves the local IP address of the current machine:\n",
    "# 1. Use 'socket.gethostname()' to get the local hostname.\n",
    "# 2. Use 'socket.gethostbyname_ex()' to get a list of IP addresses associated with the hostname.\n",
    "# 3. Filter the list to exclude any IP addresses starting with \"127.\" (loopback addresses).\n",
    "# 4. Extract the first IP address (if available) from the filtered list.\n",
    "# 5. Print the obtained IP address to the console.\n",
    "\n",
    "# Step 1: Get the local hostname.\n",
    "local_hostname = socket.gethostname()\n",
    "\n",
    "# Step 2: Get a list of IP addresses associated with the hostname.\n",
    "ip_addresses = socket.gethostbyname_ex(local_hostname)[2]\n",
    "\n",
    "# Step 3: Filter out loopback addresses (IPs starting with \"127.\").\n",
    "filtered_ips = [ip for ip in ip_addresses if not ip.startswith(\"127.\")]\n",
    "\n",
    "# Step 4: Extract the first IP address (if available) from the filtered list.\n",
    "first_ip = filtered_ips[:1]\n",
    "\n",
    "# Step 5: Print the obtained IP address to the console.\n",
    "print(first_ip[0])"
   ]
  },
  {
   "cell_type": "code",
   "execution_count": 54,
   "id": "0098b851",
   "metadata": {},
   "outputs": [
    {
     "name": "stdout",
     "output_type": "stream",
     "text": [
      "\n",
      "Time to sum of 1 to 5 and required time to calculate is: (867361737988403547205962240695953369140625, 0.0)\n"
     ]
    }
   ],
   "source": [
    "# 57 execution time\n",
    "# Import the 'time' module to work with time-related functions.\n",
    "import time\n",
    "\n",
    "# Define a function named 'sum_of_n_numbers' that calculates the sum of the first 'n' natural numbers.\n",
    "def sum_of_n_numbers(n):\n",
    "    # Record the current time before the calculation.\n",
    "    start_time = time.time()\n",
    "\n",
    "    # Initialize a variable 's' to store the sum.\n",
    "    s = 0\n",
    "\n",
    "    # Loop through numbers from 1 to 'n' and accumulate the sum.\n",
    "    for i in range(1, n + 1):\n",
    "        s = s + i\n",
    "        g = 5 **20\n",
    "        e = g ** 3\n",
    "    # Record the current time after the calculation.\n",
    "    end_time = time.time()\n",
    "\n",
    "    # Return both the calculated sum and the time taken for the calculation.\n",
    "    return e, end_time - start_time\n",
    "\n",
    "# Define the value of 'n' as 5.\n",
    "n = 5\n",
    "\n",
    "# Print the result, including the time taken to calculate the sum.\n",
    "print(\"\\nTime to sum of 1 to\", n, \"and required time to calculate is:\", sum_of_n_numbers(n))"
   ]
  },
  {
   "cell_type": "code",
   "execution_count": 61,
   "id": "2515e9ea",
   "metadata": {},
   "outputs": [
    {
     "data": {
      "text/plain": [
       "21.0"
      ]
     },
     "execution_count": 61,
     "metadata": {},
     "output_type": "execute_result"
    }
   ],
   "source": [
    "firstsum = lambda n: (n+1) *n/2 \n",
    "firstsum(6)"
   ]
  },
  {
   "cell_type": "code",
   "execution_count": 62,
   "id": "a2196fc2",
   "metadata": {},
   "outputs": [
    {
     "data": {
      "text/plain": [
       "167.64000000000001"
      ]
     },
     "execution_count": 62,
     "metadata": {},
     "output_type": "execute_result"
    }
   ],
   "source": [
    "# ft, in to cm\n",
    "height = lambda ft, ic: (ft * 12 + ic) * 2.54\n",
    "height(5,6)"
   ]
  },
  {
   "cell_type": "code",
   "execution_count": null,
   "id": "67398b4d",
   "metadata": {},
   "outputs": [],
   "source": []
  }
 ],
 "metadata": {
  "kernelspec": {
   "display_name": "Python 3 (ipykernel)",
   "language": "python",
   "name": "python3"
  },
  "language_info": {
   "codemirror_mode": {
    "name": "ipython",
    "version": 3
   },
   "file_extension": ".py",
   "mimetype": "text/x-python",
   "name": "python",
   "nbconvert_exporter": "python",
   "pygments_lexer": "ipython3",
   "version": "3.11.7"
  }
 },
 "nbformat": 4,
 "nbformat_minor": 5
}
