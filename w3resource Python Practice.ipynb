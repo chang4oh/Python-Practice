{
 "cells": [
  {
   "cell_type": "code",
   "execution_count": 9,
   "id": "828545b1",
   "metadata": {},
   "outputs": [
    {
     "data": {
      "text/plain": [
       "2"
      ]
     },
     "execution_count": 9,
     "metadata": {},
     "output_type": "execute_result"
    }
   ],
   "source": [
    "a_list=[1,4,6,7,4]\n",
    "\n",
    "def toSearch(searchlist):\n",
    "    count = 0\n",
    "    for num in searchlist:\n",
    "        if num == 4:\n",
    "            count +=1\n",
    "    return count\n",
    "\n",
    "toSearch(a_list)\n"
   ]
  },
  {
   "cell_type": "code",
   "execution_count": 22,
   "id": "9659e948",
   "metadata": {},
   "outputs": [
    {
     "name": "stdout",
     "output_type": "stream",
     "text": [
      "cococococo\n"
     ]
    }
   ],
   "source": [
    "# 23\n",
    "string = 'coke'\n",
    "n = 5\n",
    "\n",
    "def copies (string, n):\n",
    "    string.split()\n",
    "    print (string[:2] * n)\n",
    "\n",
    "copies(string,n)"
   ]
  },
  {
   "cell_type": "code",
   "execution_count": 52,
   "id": "76b88abb",
   "metadata": {},
   "outputs": [
    {
     "name": "stdout",
     "output_type": "stream",
     "text": [
      "No, c is not a vowel\n",
      "Yes, a is a vowel\n",
      "No, t is not a vowel\n",
      "Yes, a is a vowel\n",
      "No, p is not a vowel\n",
      "Yes, u is a vowel\n",
      "No, l is not a vowel\n",
      "No, t is not a vowel\n",
      "consonantvowelconsonantconsonantvowelconsonant\n",
      "catpul\n",
      "[(0, 'c'), (1, 'a'), (2, 't'), (3, 'p'), (4, 'u'), (5, 'l')]\n"
     ]
    }
   ],
   "source": [
    "# 24\n",
    "vowel = 'aeiou'\n",
    "word = 'catapult'\n",
    "\n",
    "def check_vowel(word):\n",
    "    alphabet = {}\n",
    "    word.split()\n",
    "    for i, letter in enumerate(word):\n",
    "        if word[i] in vowel:\n",
    "            print(f\"Yes, {letter} is a vowel\")\n",
    "            alphabet[word[i]]='vowel'\n",
    "        else:\n",
    "            print(f\"No, {letter} is not a vowel\")\n",
    "            alphabet[word[i]]='consonant'\n",
    "    return alphabet\n",
    "\n",
    "word = check_vowel(word)\n",
    "print(''.join(word.values()))\n",
    "print(''.join(word))\n",
    "print (list(enumerate(word)))\n",
    "# catpul because key t can't have two\n"
   ]
  },
  {
   "cell_type": "code",
   "execution_count": null,
   "id": "fc03ef54",
   "metadata": {},
   "outputs": [],
   "source": []
  }
 ],
 "metadata": {
  "kernelspec": {
   "display_name": "Python 3 (ipykernel)",
   "language": "python",
   "name": "python3"
  },
  "language_info": {
   "codemirror_mode": {
    "name": "ipython",
    "version": 3
   },
   "file_extension": ".py",
   "mimetype": "text/x-python",
   "name": "python",
   "nbconvert_exporter": "python",
   "pygments_lexer": "ipython3",
   "version": "3.11.7"
  }
 },
 "nbformat": 4,
 "nbformat_minor": 5
}
