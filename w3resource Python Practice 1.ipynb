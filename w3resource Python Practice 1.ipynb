{
 "cells": [
  {
   "cell_type": "code",
   "execution_count": 224,
   "id": "4cd2cf63",
   "metadata": {},
   "outputs": [
    {
     "name": "stdout",
     "output_type": "stream",
     "text": [
      "Twinkle, twinkle, little, star\n",
      "\t How I wonder what you are!\n",
      "\t\t Up above the wrold so high,\n",
      "\t\t Like a diamond in the sky.\n",
      " Twinkle, twinkle, little star,\n",
      "\t How I wonder what you are\n"
     ]
    }
   ],
   "source": [
    "def result():\n",
    "    print(\"Twinkle, twinkle, little, star\\n\\t\",\n",
    "          \"How I wonder what you are!\\n\\t\\t\",\n",
    "          \"Up above the wrold so high,\\n\\t\\t\",\n",
    "          \"Like a diamond in the sky.\\n\",\n",
    "          \"Twinkle, twinkle, little star,\\n\\t\",\n",
    "          \"How I wonder what you are\")\n",
    "result()"
   ]
  },
  {
   "cell_type": "code",
   "execution_count": 225,
   "id": "4ffcdbf5",
   "metadata": {},
   "outputs": [
    {
     "name": "stdout",
     "output_type": "stream",
     "text": [
      "3.11.7 | packaged by Anaconda, Inc. | (main, Dec 15 2023, 18:05:47) [MSC v.1916 64 bit (AMD64)]\n",
      "sys.version_info(major=3, minor=11, micro=7, releaselevel='final', serial=0)\n"
     ]
    }
   ],
   "source": [
    "import sys  # Import the sys module to access system-specific parameters and functions\n",
    "print(sys.version)\n",
    "print(sys.version_info)"
   ]
  },
  {
   "cell_type": "code",
   "execution_count": 228,
   "id": "156e2f01",
   "metadata": {},
   "outputs": [
    {
     "name": "stdout",
     "output_type": "stream",
     "text": [
      "Current date and time : \n",
      "2024-05-30 09:29:36\n"
     ]
    }
   ],
   "source": [
    "# Import the 'datetime' module to work with date and time\n",
    "import datetime\n",
    "\n",
    "# Get the current date and time\n",
    "now = datetime.datetime.now()\n",
    "\n",
    "# Display a message indicating what is being printed\n",
    "print(\"Current date and time : \")\n",
    "\n",
    "# Print the current date and time in a specific format\n",
    "print(now.strftime(\"%Y-%m-%d %H:%M:%S\"))"
   ]
  },
  {
   "cell_type": "code",
   "execution_count": 229,
   "id": "e1643bf2",
   "metadata": {},
   "outputs": [
    {
     "name": "stdout",
     "output_type": "stream",
     "text": [
      "13.854423602330987\n"
     ]
    }
   ],
   "source": [
    "from math import pi\n",
    "\n",
    "def circle(shape: str, radius: float) -> float:\n",
    "    if shape.lower() == 'circle':\n",
    "        area = pi * radius ** 2\n",
    "        return area\n",
    "    else:\n",
    "        print(\"Not a circle\")\n",
    "        return None\n",
    "\n",
    "# Example usage:\n",
    "print(circle('CIRCle', 2.1))"
   ]
  },
  {
   "cell_type": "code",
   "execution_count": null,
   "id": "4b29d17b",
   "metadata": {},
   "outputs": [],
   "source": [
    "def name(list) -> (str, str):\n",
    "    first = input(\"Input your first name: \")\n",
    "    last = input(\"Input your last name: \")\n",
    "    list.append(first), list.append(last)\n",
    "    return first, last\n",
    "degu = []\n",
    "print('returns: ',name(degu))\n",
    "print('appended: ',degu)"
   ]
  },
  {
   "cell_type": "code",
   "execution_count": 230,
   "id": "c0866ffe",
   "metadata": {},
   "outputs": [
    {
     "name": "stdout",
     "output_type": "stream",
     "text": [
      "What is your file name? mariobros.ntd\n",
      "file type is:  ntd\n"
     ]
    }
   ],
   "source": [
    "def filename ():\n",
    "    filename1 = input('What is your file name? ')\n",
    "    \n",
    "    fileext = filename1.split('.')\n",
    "    \n",
    "    return print('file type is: ',fileext[-1])\n",
    "    \n",
    "filename()"
   ]
  },
  {
   "cell_type": "code",
   "execution_count": 3,
   "id": "0fc06921",
   "metadata": {},
   "outputs": [
    {
     "name": "stdout",
     "output_type": "stream",
     "text": [
      "Input numer then a comma121212, 151         ,       21\n",
      "list:  [121212, 151, 21]\n",
      "tuple:  (121212, 151, 21)\n",
      "set:  {121212, 21, 151}\n"
     ]
    }
   ],
   "source": [
    "#                                                   #\n",
    "#       NOTE: Restart Kernel if error pops up       #\n",
    "#                                                   #\n",
    "\n",
    "def stringtonumtolistandtuple():\n",
    "    string = input('Input numer then a comma')\n",
    "    listed = []\n",
    "    tupled = ()\n",
    "    seted = {}\n",
    "    string = string.replace(\" \", \"\")\n",
    "    string = string.split(',')\n",
    "    for i in string:\n",
    "        i = int(i)\n",
    "        listed.append(i)\n",
    "    \n",
    "    tupled = tuple(listed)\n",
    "    seted = set(listed)\n",
    "    return listed, tupled, seted\n",
    "\n",
    "listed, tupled, seted = stringtonumtolistandtuple()\n",
    "print('list: ', listed)\n",
    "print('tuple: ', tupled)\n",
    "print('set: ', seted)"
   ]
  },
  {
   "cell_type": "code",
   "execution_count": 236,
   "id": "2179c41e",
   "metadata": {},
   "outputs": [
    {
     "name": "stdout",
     "output_type": "stream",
     "text": [
      "first: red\n",
      " last: purple\n"
     ]
    }
   ],
   "source": [
    "def firstandlast(color:str):\n",
    "    color = color.replace(' ','')\n",
    "    color = color.split(',')\n",
    "    first = color[0]\n",
    "    last = color[-1]\n",
    "    return print(f'first: {first}\\n last: {last}')\n",
    "\n",
    "firstandlast('red, yellow, green, blue, purple')"
   ]
  },
  {
   "cell_type": "code",
   "execution_count": 246,
   "id": "0cb2b89d",
   "metadata": {},
   "outputs": [
    {
     "data": {
      "text/plain": [
       "'11/12/2014'"
      ]
     },
     "execution_count": 246,
     "metadata": {},
     "output_type": "execute_result"
    }
   ],
   "source": [
    "exam_st_date = (11, 12, 2014)\n",
    "\n",
    "def rewritedate(date):\n",
    "    return '/'.join(map(str, date))\n",
    "\n",
    "rewritedate(exam_st_date)"
   ]
  },
  {
   "cell_type": "code",
   "execution_count": 1,
   "id": "7e906f6f",
   "metadata": {},
   "outputs": [
    {
     "name": "stdout",
     "output_type": "stream",
     "text": [
      "[1, 2, 3, 4, 5]\n",
      "Element: 1, Type: <class 'int'>\n",
      "Element: 2, Type: <class 'int'>\n",
      "Element: 3, Type: <class 'int'>\n",
      "Element: 4, Type: <class 'int'>\n",
      "Element: 5, Type: <class 'int'>\n"
     ]
    }
   ],
   "source": [
    "my_number = 12345\n",
    "mapped_numbers = list(map(int, str(my_number)))\n",
    "print(mapped_numbers)\n",
    "\n",
    "for num in mapped_numbers:\n",
    "    print(f\"Element: {num}, Type: {type(num)}\")"
   ]
  },
  {
   "cell_type": "code",
   "execution_count": 4,
   "id": "2d2f92d5",
   "metadata": {},
   "outputs": [
    {
     "name": "stdout",
     "output_type": "stream",
     "text": [
      "The examination will start from : 11 / 12 / 2014\n",
      "The examination will start from : Nov / 12 / 2014\n"
     ]
    }
   ],
   "source": [
    "# Define a tuple called 'exam_st_date' containing the exam start date in the format (day, month, year)\n",
    "exam_st_date = (11, 12, 2014)\n",
    "exam_date = ('Nov', 12, 2014)\n",
    "\n",
    "# Print the exam start date using string formatting\n",
    "# The '%i' placeholders are filled with the values from the 'exam_st_date' tuple\n",
    "print(\"The examination will start from : %i / %i / %i\" % exam_st_date)\n",
    "print(\"The examination will start from : %s / %i / %i\" % exam_date)"
   ]
  },
  {
   "cell_type": "code",
   "execution_count": 7,
   "id": "00787a67",
   "metadata": {},
   "outputs": [
    {
     "name": "stdout",
     "output_type": "stream",
     "text": [
      "Input an integer: 5\n",
      "615\n"
     ]
    }
   ],
   "source": [
    "# Prompt the user to input an integer and store it in the variable 'a'\n",
    "a = int(input(\"Input an integer: \"))\n",
    "\n",
    "# Create new integers 'n1', 'n2', and 'n3' by concatenating 'a' with itself one, two, and three times, respectively\n",
    "n1 = int(\"%s\" % a)          # Convert 'a' to an integer\n",
    "n2 = int(\"%s%s\" % (a, a))   # Concatenate 'a' with itself and convert to an integer\n",
    "n3 = int(\"%s%s%s\" % (a, a, a))  # Concatenate 'a' with itself twice and convert to an integer\n",
    "\n",
    "# Calculate the sum of 'n1', 'n2', and 'n3' and print the result\n",
    "print(n1 + n2 + n3)"
   ]
  },
  {
   "cell_type": "code",
   "execution_count": 6,
   "id": "73300704",
   "metadata": {},
   "outputs": [
    {
     "name": "stdout",
     "output_type": "stream",
     "text": [
      "Input an integer: 5\n",
      "615\n"
     ]
    }
   ],
   "source": [
    "# Prompt the user to input an integer and store it in the variable 'a'\n",
    "a = int(input(\"Input an integer: \"))\n",
    "\n",
    "# Create new integers 'n1', 'n2', and 'n3' by concatenating 'a' with itself one, two, and three times, respectively\n",
    "n1 = int(str(a))          # Convert 'a' to an integer (not necessary, but included for consistency)\n",
    "n2 = int(str(a) * 2)      # Concatenate 'a' with itself and convert to an integer\n",
    "n3 = int(str(a) * 3)      # Concatenate 'a' with itself twice and convert to an integer\n",
    "\n",
    "# Calculate the sum of 'n1', 'n2', and 'n3' and print the result\n",
    "print(n1 + n2 + n3)"
   ]
  },
  {
   "cell_type": "code",
   "execution_count": 8,
   "id": "121c3d6d",
   "metadata": {},
   "outputs": [
    {
     "name": "stdout",
     "output_type": "stream",
     "text": [
      "place a number: -454\n",
      "454\n"
     ]
    }
   ],
   "source": [
    "print(abs(int(input(\"place a number: \"))))"
   ]
  },
  {
   "cell_type": "code",
   "execution_count": 9,
   "id": "88b9b4e6",
   "metadata": {},
   "outputs": [
    {
     "name": "stdout",
     "output_type": "stream",
     "text": [
      "Return the absolute value of the argument.\n"
     ]
    }
   ],
   "source": [
    "# Print the docstring (documentation) of the 'abs' function\n",
    "print(abs.__doc__)"
   ]
  },
  {
   "cell_type": "code",
   "execution_count": 10,
   "id": "8412011e",
   "metadata": {},
   "outputs": [
    {
     "name": "stdout",
     "output_type": "stream",
     "text": [
      "input year: 2024\n",
      "input month: 5\n",
      "input day: 30\n",
      "      May 2024\n",
      "Mo Tu We Th Fr Sa Su\n",
      "       1  2  3  4  5\n",
      " 6  7  8  9 10 11 12\n",
      "13 14 15 16 17 18 19\n",
      "20 21 22 23 24 25 26\n",
      "27 28 29 30 31\n",
      "\n"
     ]
    }
   ],
   "source": [
    "# may need to install : pip install calender\n",
    "import calendar\n",
    "y = int(input('input year: '))\n",
    "m = int(input('input month: '))\n",
    "d = int(input('input day: '))\n",
    "\n",
    "print(calendar.month(y, m))"
   ]
  },
  {
   "cell_type": "code",
   "execution_count": 11,
   "id": "6fdf1733",
   "metadata": {},
   "outputs": [
    {
     "name": "stdout",
     "output_type": "stream",
     "text": [
      "a string that you \"don't\" have to escape\n",
      "This \n",
      "is a ...... multi-line\n",
      "heredoc string ------> example\n",
      "\n"
     ]
    }
   ],
   "source": [
    "print(\"\"\"a string that you \"don't\" have to escape\n",
    "This \n",
    "is a ...... multi-line\n",
    "heredoc string ------> example\n",
    "\"\"\")"
   ]
  },
  {
   "cell_type": "code",
   "execution_count": 12,
   "id": "01c3d1e1",
   "metadata": {},
   "outputs": [
    {
     "name": "stdout",
     "output_type": "stream",
     "text": [
      "9\n",
      "9 days, 0:00:00\n"
     ]
    },
    {
     "data": {
      "text/plain": [
       "datetime.timedelta(days=9)"
      ]
     },
     "execution_count": 12,
     "metadata": {},
     "output_type": "execute_result"
    }
   ],
   "source": [
    "from datetime import date\n",
    "\n",
    "date1 = date(2014, 7, 2)\n",
    "date2 = date(2014, 7, 11)\n",
    "difference = abs(date1 - date2)\n",
    "print(difference.days)\n",
    "print(difference)\n",
    "difference"
   ]
  },
  {
   "cell_type": "code",
   "execution_count": 13,
   "id": "444320ac",
   "metadata": {},
   "outputs": [
    {
     "data": {
      "text/plain": [
       "4.1887902047863905"
      ]
     },
     "execution_count": 13,
     "metadata": {},
     "output_type": "execute_result"
    }
   ],
   "source": [
    "from math import pi\n",
    "# without parenthesis, the formula still works properly\n",
    "r = 1\n",
    "sphere =  pi * 4/3 * r ** 3\n",
    "sphere"
   ]
  },
  {
   "cell_type": "code",
   "execution_count": 14,
   "id": "4707d8cd",
   "metadata": {},
   "outputs": [
    {
     "name": "stdout",
     "output_type": "stream",
     "text": [
      "input a number: 121\n",
      "104\n"
     ]
    }
   ],
   "source": [
    "notgiven = int(input(\"input a number: \"))\n",
    "given = 17\n",
    "difference = abs(notgiven - given)\n",
    "if (given > notgiven):\n",
    "    print('before: ', difference)\n",
    "    print('after: ', difference*2)\n",
    "else:\n",
    "    print(difference)"
   ]
  },
  {
   "cell_type": "code",
   "execution_count": 15,
   "id": "345a12eb",
   "metadata": {},
   "outputs": [
    {
     "name": "stdout",
     "output_type": "stream",
     "text": [
      "input the target number: 1099\n",
      "the target is within 1000\n"
     ]
    }
   ],
   "source": [
    "target = abs(int(input('input the target number: ')))\n",
    "if abs(1000 - target) <= 100:\n",
    "    print('the target is within 1000')\n",
    "elif abs(2000 - target) <= 100:\n",
    "    print('the target is within 2000')\n",
    "else:\n",
    "    print('not within range')"
   ]
  },
  {
   "cell_type": "code",
   "execution_count": 16,
   "id": "3773aba2",
   "metadata": {},
   "outputs": [
    {
     "name": "stdout",
     "output_type": "stream",
     "text": [
      "True\n",
      "True\n",
      "False\n",
      "False\n"
     ]
    }
   ],
   "source": [
    "# Define a function named \"near_thousand\" that takes an integer parameter \"n\"\n",
    "def near_thousand(n):\n",
    "    # Check if the absolute difference between 1000 and n is less than or equal to 100\n",
    "    # OR check if the absolute difference between 2000 and n is less than or equal to 100\n",
    "    return ((abs(1000 - n) <= 100) or (abs(2000 - n) <= 100))\n",
    "\n",
    "# Call the \"near_thousand\" function with various arguments and print the results\n",
    "print(near_thousand(1000))  # Expected output: True (1000 is exactly 1000)\n",
    "print(near_thousand(900))   # Expected output: True (900 is within 100 units of 1000)\n",
    "print(near_thousand(800))   # Expected output: False (800 is more than 100 units away from 1000)\n",
    "print(near_thousand(2200))  # Expected output: False (2200 is more than 100 units away from 2000)"
   ]
  },
  {
   "cell_type": "code",
   "execution_count": 17,
   "id": "8479b422",
   "metadata": {},
   "outputs": [
    {
     "name": "stdout",
     "output_type": "stream",
     "text": [
      "True True\n"
     ]
    }
   ],
   "source": [
    "# Define the lambda function\n",
    "near_target = lambda n: (abs(1000 - n) <= 100) or (abs(2000 - n) <= 100)\n",
    "print(near_target(998), near_target(2053))"
   ]
  },
  {
   "cell_type": "code",
   "execution_count": 18,
   "id": "8a029b96",
   "metadata": {},
   "outputs": [
    {
     "name": "stdout",
     "output_type": "stream",
     "text": [
      "81\n"
     ]
    }
   ],
   "source": [
    "num1 =9\n",
    "num2 =9\n",
    "num3 =9\n",
    "sum = num1 + num2 + num3 \n",
    "if num1 == num2 == num3:\n",
    "    sum = sum*3\n",
    "print(sum)"
   ]
  },
  {
   "cell_type": "code",
   "execution_count": 19,
   "id": "372744d1",
   "metadata": {},
   "outputs": [
    {
     "name": "stdout",
     "output_type": "stream",
     "text": [
      "Isnot a dog\n",
      "Is a dog\n"
     ]
    }
   ],
   "source": [
    "def sentence(sentence):\n",
    "    if 'Is' in sentence[:2]:\n",
    "        return sentence\n",
    "    else:\n",
    "        return 'Is' + sentence\n",
    "    return\n",
    "print(sentence('not a dog'))\n",
    "print(sentence('Is a dog'))\n"
   ]
  },
  {
   "cell_type": "code",
   "execution_count": 20,
   "id": "0795002a",
   "metadata": {},
   "outputs": [
    {
     "name": "stdout",
     "output_type": "stream",
     "text": [
      "IsArray\n",
      "IsEmpty\n"
     ]
    }
   ],
   "source": [
    "# Define a function named \"new_string\" that takes a string parameter called \"text\"\n",
    "def new_string(text):\n",
    "    # Check if the length of the \"text\" is greater than or equal to 2 and if the first two characters of \"text\" are \"Is\"\n",
    "    if len(text) >= 2 and text[:2] == \"Is\":\n",
    "        # If the conditions are met, return the original \"text\" unchanged\n",
    "        return text\n",
    "    else:\n",
    "        # If the conditions are not met, prepend \"Is\" to the \"text\" and return the modified string\n",
    "        return \"Is\" + text\n",
    "\n",
    "# Call the \"new_string\" function with the argument \"Array\" and print the result\n",
    "print(new_string(\"Array\"))\n",
    "\n",
    "# Call the \"new_string\" function with the argument \"IsEmpty\" and print the result\n",
    "print(new_string(\"IsEmpty\"))\n"
   ]
  },
  {
   "cell_type": "code",
   "execution_count": 21,
   "id": "4a50a72d",
   "metadata": {},
   "outputs": [
    {
     "name": "stdout",
     "output_type": "stream",
     "text": [
      "IsTest\n",
      "IsTest\n"
     ]
    }
   ],
   "source": [
    "def add_is(string):\n",
    "    # Check if the string already starts with 'Is'\n",
    "    if string.startswith('Is'):\n",
    "        return string\n",
    "    else:\n",
    "        # Add 'Is' to the front of the string\n",
    "        return 'Is' + string\n",
    "\n",
    "# Test cases\n",
    "print(add_is(\"Test\"))  # Expected output: \"IsTest\"\n",
    "print(add_is(\"IsTest\"))  # Expected output: \"IsTest\""
   ]
  },
  {
   "cell_type": "code",
   "execution_count": 22,
   "id": "15759d52",
   "metadata": {},
   "outputs": [
    {
     "data": {
      "text/plain": [
       "'545354535453'"
      ]
     },
     "execution_count": 22,
     "metadata": {},
     "output_type": "execute_result"
    }
   ],
   "source": [
    "def stringduplicates (string, n):\n",
    "    dups = string * n\n",
    "    return dups\n",
    "stringduplicates('5453', 3)"
   ]
  },
  {
   "cell_type": "code",
   "execution_count": 23,
   "id": "0edb6011",
   "metadata": {},
   "outputs": [
    {
     "data": {
      "text/plain": [
       "'odd'"
      ]
     },
     "execution_count": 23,
     "metadata": {},
     "output_type": "execute_result"
    }
   ],
   "source": [
    "def oddeven(number):\n",
    "    if number % 2 == 1:\n",
    "        return 'odd'\n",
    "    elif number % 2 == 0:\n",
    "        return 'even'\n",
    "\n",
    "oddeven(55)"
   ]
  },
  {
   "cell_type": "code",
   "execution_count": null,
   "id": "474deb65",
   "metadata": {},
   "outputs": [],
   "source": [
    "#22\n",
    "a_list=[1,4,6,7,4]\n",
    "\n",
    "def toSearch(searchlist):\n",
    "    count = 0\n",
    "    for num in searchlist:\n",
    "        if num == 4:\n",
    "            count +=1\n",
    "    return count\n",
    "\n",
    "toSearch(a_list)"
   ]
  },
  {
   "cell_type": "code",
   "execution_count": 22,
   "id": "447603ea",
   "metadata": {},
   "outputs": [
    {
     "name": "stdout",
     "output_type": "stream",
     "text": [
      "cococococo\n"
     ]
    }
   ],
   "source": [
    "# 23\n",
    "string = 'coke'\n",
    "n = 5\n",
    "\n",
    "def copies (string, n):\n",
    "    string.split()\n",
    "    print (string[:2] * n)\n",
    "\n",
    "copies(string,n)"
   ]
  },
  {
   "cell_type": "code",
   "execution_count": 52,
   "id": "d399363b",
   "metadata": {},
   "outputs": [
    {
     "name": "stdout",
     "output_type": "stream",
     "text": [
      "No, c is not a vowel\n",
      "Yes, a is a vowel\n",
      "No, t is not a vowel\n",
      "Yes, a is a vowel\n",
      "No, p is not a vowel\n",
      "Yes, u is a vowel\n",
      "No, l is not a vowel\n",
      "No, t is not a vowel\n",
      "consonantvowelconsonantconsonantvowelconsonant\n",
      "catpul\n",
      "[(0, 'c'), (1, 'a'), (2, 't'), (3, 'p'), (4, 'u'), (5, 'l')]\n"
     ]
    }
   ],
   "source": [
    "# 24\n",
    "vowel = 'aeiou'\n",
    "word = 'catapult'\n",
    "\n",
    "def check_vowel(word):\n",
    "    alphabet = {}\n",
    "    word.split()\n",
    "    for i, letter in enumerate(word):\n",
    "        if word[i] in vowel:\n",
    "            print(f\"Yes, {letter} is a vowel\")\n",
    "            alphabet[word[i]]='vowel'\n",
    "        else:\n",
    "            print(f\"No, {letter} is not a vowel\")\n",
    "            alphabet[word[i]]='consonant'\n",
    "    return alphabet\n",
    "\n",
    "word = check_vowel(word)\n",
    "print(''.join(word.values()))\n",
    "print(''.join(word))\n",
    "print (list(enumerate(word)))\n",
    "# catpul because key t can't have two\n"
   ]
  },
  {
   "cell_type": "code",
   "execution_count": 56,
   "id": "758cde9b",
   "metadata": {},
   "outputs": [
    {
     "data": {
      "text/plain": [
       "{3: True, -1: False}"
      ]
     },
     "execution_count": 56,
     "metadata": {},
     "output_type": "execute_result"
    }
   ],
   "source": [
    "test = [3,-1]\n",
    "group = [1,5,8,3]\n",
    "result = {}\n",
    "def testgroup(group,test):\n",
    "    for i, num in enumerate(test):\n",
    "        if test[i] in group:\n",
    "            result[test[i]]=True\n",
    "        else:\n",
    "            result[test[i]]=False\n",
    "    return result\n",
    "# return (result[test[i]]: boolean, ...)\n",
    "# returns test value and if there is/not\n",
    "testgroup(group,test)"
   ]
  },
  {
   "cell_type": "code",
   "execution_count": 70,
   "id": "9b8b9589",
   "metadata": {},
   "outputs": [
    {
     "name": "stdout",
     "output_type": "stream",
     "text": [
      "@@\n",
      "@@@\n",
      "@@@@@@\n",
      "@@@@@\n"
     ]
    }
   ],
   "source": [
    "number = 2365\n",
    "number = str(number)\n",
    "def histogram(number):\n",
    "    for i, num in enumerate(number):\n",
    "        print('@' * int(num))\n",
    "        \n",
    "histogram(number)"
   ]
  },
  {
   "cell_type": "code",
   "execution_count": 79,
   "id": "d4e5d894",
   "metadata": {},
   "outputs": [
    {
     "data": {
      "text/plain": [
       "'15122'"
      ]
     },
     "execution_count": 79,
     "metadata": {},
     "output_type": "execute_result"
    }
   ],
   "source": [
    "# 27\n",
    "alist = [1,5,12,2]\n",
    "def concatenate(alist):\n",
    "    net = ''\n",
    "    for i in alist:\n",
    "        net += str(i)\n",
    "    return net\n",
    "\n",
    "concatenate(alist)\n"
   ]
  },
  {
   "cell_type": "code",
   "execution_count": 81,
   "id": "b028b425",
   "metadata": {},
   "outputs": [
    {
     "name": "stdout",
     "output_type": "stream",
     "text": [
      "[386, 462, 418, 344, 236, 566, 978, 328, 162, 758, 918]\n"
     ]
    }
   ],
   "source": [
    "numbers = [    \n",
    "    386, 462, 47, 418, 907, 344, 236, 375, 823, 566, 597, 978, 328, 615, 953, 345, \n",
    "    399, 162, 758, 219, 918, 237, 412, 566, 826, 248, 866, 950, 626, 949, 687, 217, \n",
    "    815, 67, 104, 58, 512, 24, 892, 894, 767, 553, 81, 379, 843, 831, 445, 742, 717, \n",
    "    958,743, 527\n",
    "    ]\n",
    "def evens(numbers):\n",
    "    even = []\n",
    "    for i, num in enumerate(numbers):\n",
    "        if num == 237:\n",
    "            break\n",
    "        elif num % 2 == 0:\n",
    "            even.append(num)\n",
    "    return even\n",
    "\n",
    "print(evens(numbers))"
   ]
  },
  {
   "cell_type": "code",
   "execution_count": 88,
   "id": "6c8694c3",
   "metadata": {},
   "outputs": [
    {
     "name": "stdout",
     "output_type": "stream",
     "text": [
      "['Black', 'Teal', 'White']\n",
      "\n",
      "Difference of color_list_1 and color_list_2:\n",
      "{'Black', 'Teal', 'White'}\n",
      "\n",
      "Difference of color_list_2 and color_list_1:\n",
      "{'Green', 'Orange'}\n"
     ]
    }
   ],
   "source": [
    "color_list_1 = set([\"White\", \"Black\", \"Red\", \"Teal\"])\n",
    "color_list_2 = set([\"Red\", \"Green\", \"Orange\"])\n",
    "unique_1 = []\n",
    "def dif_color(colorlist1, colorlist2):\n",
    "    for color1 in colorlist1:\n",
    "        if color1 not in colorlist2:\n",
    "            unique_1.append(color1)\n",
    "            \n",
    "    return unique_1\n",
    "\n",
    "print(dif_color(color_list_1, color_list_2))\n",
    "#                  #\n",
    "# OR DO THIS BELOW # \n",
    "#                  #\n",
    "\n",
    "# Calculate and print the difference of color_list_1 and color_list_2.\n",
    "print(\"\\nDifference of color_list_1 and color_list_2:\")\n",
    "print(color_list_1.difference(color_list_2))\n",
    "\n",
    "# Calculate and print the difference of color_list_2 and color_list_1.\n",
    "print(\"\\nDifference of color_list_2 and color_list_1:\")\n",
    "print(color_list_2.difference(color_list_1))"
   ]
  },
  {
   "cell_type": "code",
   "execution_count": 89,
   "id": "8e51bd0a",
   "metadata": {},
   "outputs": [
    {
     "name": "stdout",
     "output_type": "stream",
     "text": [
      "10.0\n"
     ]
    }
   ],
   "source": [
    "#30 area of triangle\n",
    "b = 5\n",
    "h = 4\n",
    "def area_triangle(b,h):\n",
    "    return b * h * 1/2\n",
    "print(area_triangle(b,h))"
   ]
  },
  {
   "cell_type": "code",
   "execution_count": 100,
   "id": "2139da0d",
   "metadata": {},
   "outputs": [
    {
     "name": "stdout",
     "output_type": "stream",
     "text": [
      "GCD of 12 & 17 = 1\n",
      "GCD of 4 & 6 = 2\n",
      "GCD of 336 & 360 = 24\n"
     ]
    }
   ],
   "source": [
    "def gcd(x, y):\n",
    "    # If y is a divisor of x, return y as the GCD.\n",
    "    if x % y == 0:\n",
    "        return y\n",
    "    \n",
    "    # Iterate from half of y down to 1 to find the highest common divisor.\n",
    "    for k in range(y // 2, 0, -1):\n",
    "        if x % k == 0 and y % k == 0:\n",
    "            return k\n",
    "    \n",
    "    # If no common divisor is found other than 1, return 1.\n",
    "    return 1\n",
    "\n",
    "# Test the gcd function with example pairs of numbers.\n",
    "print(\"GCD of 12 & 17 =\", gcd(12, 17))  # Should return 1\n",
    "print(\"GCD of 4 & 6 =\", gcd(4, 6))      # Should return 2\n",
    "print(\"GCD of 336 & 360 =\", gcd(336, 360))  # Should return 24"
   ]
  },
  {
   "cell_type": "code",
   "execution_count": 107,
   "id": "cc353cac",
   "metadata": {},
   "outputs": [
    {
     "name": "stdout",
     "output_type": "stream",
     "text": [
      "GCD of 12 & 17 = 1\n",
      "GCD of 4 & 6 = 2\n",
      "GCD of 336 & 360 = 24\n"
     ]
    }
   ],
   "source": [
    "def gcd (x,y):\n",
    "    if x % y ==0:\n",
    "        return y\n",
    "    \n",
    "    for k in range(x//2,0,-1):\n",
    "        if x % k == 0 and y % k == 0:\n",
    "            return k\n",
    "    \n",
    "    return 1\n",
    "    \n",
    "print(\"GCD of 12 & 17 =\", gcd(12, 17))  # Should return 1\n",
    "print(\"GCD of 4 & 6 =\", gcd(4, 6))      # Should return 2\n",
    "print(\"GCD of 336 & 360 =\", gcd(336, 360))  # Should return 24"
   ]
  },
  {
   "cell_type": "code",
   "execution_count": 109,
   "id": "45bbf795",
   "metadata": {},
   "outputs": [
    {
     "name": "stdout",
     "output_type": "stream",
     "text": [
      "12\n",
      "255\n"
     ]
    }
   ],
   "source": [
    "# Define a function 'lcm' that calculates the least common multiple (LCM) of two numbers, 'x' and 'y'.\n",
    "def lcm(x, y):\n",
    "    # Compare 'x' and 'y' to determine the larger number and store it in 'z'.\n",
    "    if x > y:\n",
    "        z = x\n",
    "    else:\n",
    "        z = y\n",
    "    \n",
    "    # Use a 'while' loop to find the LCM.\n",
    "    while True:\n",
    "        # Check if 'z' is divisible by both 'x' and 'y' with no remainder.\n",
    "        if (z % x == 0) and (z % y == 0):\n",
    "            # If both conditions are met, 'z' is the LCM, so store it in 'lcm' and break the loop.\n",
    "            lcm = z\n",
    "            break\n",
    "        # If the conditions are not met, increment 'z' and continue checking.\n",
    "        z += 1\n",
    "    \n",
    "    # Return the calculated LCM.\n",
    "    return lcm\n",
    "\n",
    "# Calculate and print the LCM of 4 and 6.\n",
    "print(lcm(4, 6))\n",
    "# Calculate and print the LCM of 15 and 17.\n",
    "print(lcm(15, 17))"
   ]
  },
  {
   "cell_type": "code",
   "execution_count": 119,
   "id": "c6babb0a",
   "metadata": {},
   "outputs": [
    {
     "name": "stdout",
     "output_type": "stream",
     "text": [
      "LCM of 12 & 17 = 204\n",
      "LCM of 4 & 6 = 12\n",
      "LCM of 336 & 360 = 5040\n",
      "LCM of 43 & 88 = 3784\n",
      "GCD of 12 & 17 = 1\n",
      "GCD of 4 & 6 = 2\n",
      "GCD of 336 & 360 = 24\n",
      "GCD of 43 & 88 = 1\n"
     ]
    }
   ],
   "source": [
    "def gcd(x, y):\n",
    "    while y:\n",
    "        x, y = y, x % y\n",
    "    return x\n",
    "\n",
    "def lcm(x, y):\n",
    "    return abs(x * y) // gcd(x, y)\n",
    "\n",
    "# Test the lcm function with example pairs of numbers.\n",
    "print(\"LCM of 12 & 17 =\", lcm(12, 17))  # Should return 204\n",
    "print(\"LCM of 4 & 6 =\", lcm(4, 6))      # Should return 12\n",
    "print(\"LCM of 336 & 360 =\", lcm(336, 360))  # Should return 5040\n",
    "print(\"LCM of 43 & 88 =\", lcm(43, 88))  # Should return 3784\n",
    "print(\"GCD of 12 & 17 =\", gcd(12, 17))  # Should return 204\n",
    "print(\"GCD of 4 & 6 =\", gcd(4, 6))      # Should return 12\n",
    "print(\"GCD of 336 & 360 =\", gcd(336, 360))  # Should return 5040\n",
    "print(\"GCD of 43 & 88 =\", gcd(43, 88))  # Should return 3784"
   ]
  },
  {
   "cell_type": "code",
   "execution_count": 138,
   "id": "9a9b27f6",
   "metadata": {},
   "outputs": [
    {
     "name": "stdout",
     "output_type": "stream",
     "text": [
      "3   3\n",
      "3   2\n"
     ]
    },
    {
     "data": {
      "text/plain": [
       "0"
      ]
     },
     "execution_count": 138,
     "metadata": {},
     "output_type": "execute_result"
    }
   ],
   "source": [
    "# set can't have duplicate value\n",
    "# dictionary/hash-table can't have duplicate key\n",
    "\n",
    "\n",
    "#33 sum three given integers\n",
    "def sumthree(listnum):\n",
    "    if len(listnum) != len(set(listnum)):\n",
    "        return 0\n",
    "    else:\n",
    "        return sum(listnum)\n",
    "    \n",
    "num1 = [5,45,23]\n",
    "num2 = [23,45,23]\n",
    "\n",
    "print(len(num1),' ', len(set(num1)))\n",
    "print(len(num2),' ', len(set(num2)))\n",
    "sumthree(num2)\n"
   ]
  },
  {
   "cell_type": "code",
   "execution_count": 152,
   "id": "8585bf5a",
   "metadata": {},
   "outputs": [
    {
     "name": "stdout",
     "output_type": "stream",
     "text": [
      "listnum: 105 and listnum1: 20\n"
     ]
    }
   ],
   "source": [
    "#34 sum of two numbers, return 20 if result 15 to 20\n",
    "\n",
    "def sumtwo(listnum):\n",
    "    #if 15 <= listnum[0] + listnum[1] <= 20:\n",
    "    if sum(listnum) in range(15,20):\n",
    "        return 20\n",
    "    else:\n",
    "        return sum(listnum)\n",
    "    \n",
    "listnum = [35,70]\n",
    "listnum1 = [5,10]\n",
    "\n",
    "print(f'listnum: {sumtwo(listnum)} and listnum1: {sumtwo(listnum1)}')\n"
   ]
  },
  {
   "cell_type": "code",
   "execution_count": 158,
   "id": "468c4c49",
   "metadata": {},
   "outputs": [
    {
     "data": {
      "text/plain": [
       "True"
      ]
     },
     "execution_count": 158,
     "metadata": {},
     "output_type": "execute_result"
    }
   ],
   "source": [
    "#35 return true if two int values equals, sum or difference equals 5\n",
    "def equal(num1,num2):\n",
    "    if num1 == num2 or num1 + num2 == 5 or abs(num1 - num2) == 5:\n",
    "        return True\n",
    "    else:\n",
    "        return False\n",
    "    \n",
    "num1 = 6\n",
    "num2 = 6\n",
    "equal(num1,num2)"
   ]
  },
  {
   "cell_type": "code",
   "execution_count": 161,
   "id": "d7d43da6",
   "metadata": {},
   "outputs": [
    {
     "name": "stdout",
     "output_type": "stream",
     "text": [
      "<class 'int'>   <class 'int'>\n"
     ]
    },
    {
     "data": {
      "text/plain": [
       "30"
      ]
     },
     "execution_count": 161,
     "metadata": {},
     "output_type": "execute_result"
    }
   ],
   "source": [
    "#36 add two objects if both objects are int\n",
    "def objornum(val1,val2):\n",
    "    if isinstance(val1, int) and isinstance(val2, int):\n",
    "        print(type(val1), ' ', type(val2))\n",
    "        return val1+val2\n",
    "    return\n",
    "val1 = 4\n",
    "val2 = 26\n",
    "objornum(val1, val2)"
   ]
  },
  {
   "cell_type": "code",
   "execution_count": 182,
   "id": "cbb757b5",
   "metadata": {},
   "outputs": [
    {
     "name": "stdout",
     "output_type": "stream",
     "text": [
      "Name: Simon\n",
      "Age: 19\n",
      "Address: Bangalore, Karnataka, India\n",
      "19\n",
      "Bangalore, Karnataka, India\n",
      "Simon\n"
     ]
    }
   ],
   "source": [
    "# Define a function 'personal_details'.\n",
    "def personal_details():\n",
    "    # Define variables 'name' and 'age' and assign values to them.\n",
    "    name, age = \"Simon\", 19\n",
    "    # Define a variable 'address' and assign a value to it.\n",
    "    address = \"Bangalore, Karnataka, India\"\n",
    "    # Print the personal details using string formatting.\n",
    "    print(\"Name: {}\\nAge: {}\\nAddress: {}\".format(name, age, address))\n",
    "    print(f'{age}\\n{address}\\n{name}')\n",
    "    \n",
    "# Call the 'personal_details' function to display the details.\n",
    "personal_details()"
   ]
  },
  {
   "cell_type": "code",
   "execution_count": 194,
   "id": "6c16985e",
   "metadata": {},
   "outputs": [
    {
     "name": "stdout",
     "output_type": "stream",
     "text": [
      "400\n"
     ]
    }
   ],
   "source": [
    "#38 solve (x+y) * (x+y)\n",
    "# lambda can assign default value like\n",
    "# result = lambda x = 5, y = 6: (x+y) * (x+y)\n",
    "result = lambda x = 5, y = 6: (x+y) * (x+y)\n",
    "print(result(10,10))"
   ]
  },
  {
   "cell_type": "code",
   "execution_count": 216,
   "id": "252278eb",
   "metadata": {},
   "outputs": [
    {
     "data": {
      "text/plain": [
       "12723"
      ]
     },
     "execution_count": 216,
     "metadata": {},
     "output_type": "execute_result"
    }
   ],
   "source": [
    "# 39\n",
    "future = lambda amt=10000, ints=3.5, years=7 : amt * ((1 + (0.01 * int)) ** years)\n",
    "round(future())"
   ]
  },
  {
   "cell_type": "code",
   "execution_count": 212,
   "id": "e573c23a",
   "metadata": {},
   "outputs": [
    {
     "name": "stdout",
     "output_type": "stream",
     "text": [
      "12722.79\n"
     ]
    }
   ],
   "source": [
    "# Define the principal amount (initial investment).\n",
    "amt = 10000\n",
    "# Define the annual interest rate as a percentage.\n",
    "int = 3.5\n",
    "# Define the number of years.\n",
    "years = 7\n",
    "# Calculate the future value of the investment using the compound interest formula.\n",
    "future_value = amt * ((1 + (0.01 * int)) ** years)\n",
    "# Round the future value to two decimal places and print it.\n",
    "print(round(future_value, 2))"
   ]
  },
  {
   "cell_type": "code",
   "execution_count": 201,
   "id": "69afb8da",
   "metadata": {},
   "outputs": [
    {
     "name": "stdout",
     "output_type": "stream",
     "text": [
      "7.0710678118654755\n"
     ]
    }
   ],
   "source": [
    "# 40 \n",
    "distance = lambda x1, x2, y1, y2: ((y2-y1)**2 + (x2-x1)**2)**.5\n",
    "x1, x2, y1, y2 = 10, 15, 5, 10\n",
    "print(distance(x1, x2, y1, y2))"
   ]
  },
  {
   "cell_type": "code",
   "execution_count": 217,
   "id": "3ac41097",
   "metadata": {},
   "outputs": [
    {
     "name": "stdout",
     "output_type": "stream",
     "text": [
      "7.0710678118654755\n"
     ]
    }
   ],
   "source": [
    "# Import the math module to use the square root function.\n",
    "import math\n",
    "\n",
    "# Define the coordinates of the first point (p1) as a list.\n",
    "p1 = [10, 5]\n",
    "\n",
    "# Define the coordinates of the second point (p2) as a list.\n",
    "p2 = [15, 10]\n",
    "\n",
    "# Calculate the distance between the two points using the distance formula.\n",
    "# The formula computes the Euclidean distance in a 2D space.\n",
    "distance = math.sqrt(((p1[0] - p2[0]) ** 2) + ((p1[1] - p2[1]) ** 2))\n",
    "\n",
    "# Print the calculated distance.\n",
    "print(distance)"
   ]
  },
  {
   "cell_type": "code",
   "execution_count": 223,
   "id": "eb3ddefc",
   "metadata": {},
   "outputs": [
    {
     "name": "stdout",
     "output_type": "stream",
     "text": [
      "False\n",
      "False\n",
      "True\n"
     ]
    }
   ],
   "source": [
    "# 41 check if file exists\n",
    "# Import the os.path module to work with file and directory paths.\n",
    "import os.path\n",
    "\n",
    "# Check if 'main.txt' is a file and print the result.\n",
    "print(os.path.isfile('main.txt'))\n",
    "\n",
    "# Check if 'main.py' is a file and print the result.\n",
    "print(os.path.isfile('main.py'))\n",
    "\n",
    "print(os.path.isfile('w3resource Python Practice.ipynb'))"
   ]
  },
  {
   "cell_type": "code",
   "execution_count": 24,
   "id": "d51fc113",
   "metadata": {},
   "outputs": [
    {
     "name": "stdout",
     "output_type": "stream",
     "text": [
      "64\n"
     ]
    }
   ],
   "source": [
    "# Import the 'struct' module, which provides pack and unpack functions for working with variable-length binary data.\n",
    "import struct\n",
    "\n",
    "# Use the 'calcsize' function to determine the size (in bytes) of the C int type for the current platform.\n",
    "# The format string \"P\" is used to represent the C void pointer type, and multiplying it by 8 gives the size in bits.\n",
    "# The result will be 32 for 32-bit platforms and 64 for 64-bit platforms.\n",
    "print(struct.calcsize(\"P\") * 8)"
   ]
  },
  {
   "cell_type": "code",
   "execution_count": 29,
   "id": "41c0f086",
   "metadata": {},
   "outputs": [
    {
     "name": "stdout",
     "output_type": "stream",
     "text": [
      "['C:\\\\Users\\\\PC\\\\anaconda3', 'C:\\\\Users\\\\PC\\\\anaconda3\\\\Lib\\\\site-packages']\n"
     ]
    }
   ],
   "source": [
    "# Import the 'site' module.\n",
    "import site\n",
    "\n",
    "# Use the 'site.getsitepackages()' function to retrieve site packages' paths.\n",
    "# 'site.getsitepackages()' returns a list of paths where site packages are installed.\n",
    "print(site.getsitepackages())"
   ]
  },
  {
   "cell_type": "code",
   "execution_count": 31,
   "id": "2e5bd972",
   "metadata": {},
   "outputs": [
    {
     "ename": "NameError",
     "evalue": "name '__file__' is not defined",
     "output_type": "error",
     "traceback": [
      "\u001b[1;31m---------------------------------------------------------------------------\u001b[0m",
      "\u001b[1;31mNameError\u001b[0m                                 Traceback (most recent call last)",
      "Cell \u001b[1;32mIn[31], line 5\u001b[0m\n\u001b[0;32m      2\u001b[0m \u001b[38;5;28;01mimport\u001b[39;00m \u001b[38;5;21;01mos\u001b[39;00m\n\u001b[0;32m      3\u001b[0m \u001b[38;5;66;03m# Use the 'os.path.realpath(__file__)' to get the full path of the current Python script.\u001b[39;00m\n\u001b[0;32m      4\u001b[0m \u001b[38;5;66;03m# This will print the path of the current file.\u001b[39;00m\n\u001b[1;32m----> 5\u001b[0m \u001b[38;5;28mprint\u001b[39m(\u001b[38;5;124m\"\u001b[39m\u001b[38;5;124mCurrent File Name: \u001b[39m\u001b[38;5;124m\"\u001b[39m, os\u001b[38;5;241m.\u001b[39mpath\u001b[38;5;241m.\u001b[39mrealpath(\u001b[38;5;18m__file__\u001b[39m))\n",
      "\u001b[1;31mNameError\u001b[0m: name '__file__' is not defined"
     ]
    }
   ],
   "source": [
    "# Import the 'os' module to work with the operating system.\n",
    "import os\n",
    "# Use the 'os.path.realpath(__file__)' to get the full path of the current Python script.\n",
    "# This will print the path of the current file.\n",
    "print(\"Current File Name: \", os.path.realpath(__file__))"
   ]
  },
  {
   "cell_type": "code",
   "execution_count": 32,
   "id": "1fcdae88",
   "metadata": {},
   "outputs": [
    {
     "name": "stdout",
     "output_type": "stream",
     "text": [
      "8\n"
     ]
    }
   ],
   "source": [
    "# Import the 'multiprocessing' module to work with multi-processing features.\n",
    "import multiprocessing\n",
    "\n",
    "# Use 'multiprocessing.cpu_count()' to determine the number of available CPU cores.\n",
    "cpu_count = multiprocessing.cpu_count()\n",
    "\n",
    "# Print the number of CPU cores available on the system.\n",
    "print(cpu_count)"
   ]
  },
  {
   "cell_type": "code",
   "execution_count": 33,
   "id": "3dccdef7",
   "metadata": {},
   "outputs": [
    {
     "name": "stdout",
     "output_type": "stream",
     "text": [
      "246.2458\n",
      "246\n"
     ]
    }
   ],
   "source": [
    "# Define a string 'n' containing a numeric value.\n",
    "n = \"246.2458\"\n",
    "\n",
    "# Convert the string 'n' to a floating-point number and print the result.\n",
    "print(float(n))\n",
    "\n",
    "# Convert the floating-point number to an integer, truncating any decimal part, and print the result.\n",
    "print(int(float(n)))"
   ]
  },
  {
   "cell_type": "code",
   "execution_count": 34,
   "id": "3770ae56",
   "metadata": {},
   "outputs": [
    {
     "name": "stdout",
     "output_type": "stream",
     "text": [
      "12\n",
      "233.12\n"
     ]
    }
   ],
   "source": [
    "# Define a function 'test' that takes a string 's' as input.\n",
    "def test(s):\n",
    "    try:\n",
    "        # Try to convert the input string to an integer.\n",
    "        return int(s)\n",
    "    except ValueError:\n",
    "        # If the conversion to an integer raises a ValueError (i.e., it's not an integer), \n",
    "        # then try to convert the string to a floating-point number (float).\n",
    "        return float(s)\n",
    "\n",
    "# Call the 'test' function with different input values and print the results.\n",
    "print(test('12'))       # Try to convert '12' to an integer.\n",
    "print(test('233.12'))   # Try to convert '233.12' to a float."
   ]
  },
  {
   "cell_type": "code",
   "execution_count": 35,
   "id": "c598dd40",
   "metadata": {},
   "outputs": [
    {
     "ename": "FileNotFoundError",
     "evalue": "[WinError 3] The system cannot find the path specified: '/home/students'",
     "output_type": "error",
     "traceback": [
      "\u001b[1;31m---------------------------------------------------------------------------\u001b[0m",
      "\u001b[1;31mFileNotFoundError\u001b[0m                         Traceback (most recent call last)",
      "Cell \u001b[1;32mIn[35], line 7\u001b[0m\n\u001b[0;32m      3\u001b[0m \u001b[38;5;28;01mfrom\u001b[39;00m \u001b[38;5;21;01mos\u001b[39;00m\u001b[38;5;21;01m.\u001b[39;00m\u001b[38;5;21;01mpath\u001b[39;00m \u001b[38;5;28;01mimport\u001b[39;00m isfile, join\n\u001b[0;32m      5\u001b[0m \u001b[38;5;66;03m# Create a list 'files_list' that contains the names of files in the '/home/students' directory.\u001b[39;00m\n\u001b[0;32m      6\u001b[0m \u001b[38;5;66;03m# It uses a list comprehension to filter files using 'isfile' and 'join' functions.\u001b[39;00m\n\u001b[1;32m----> 7\u001b[0m files_list \u001b[38;5;241m=\u001b[39m [f \u001b[38;5;28;01mfor\u001b[39;00m f \u001b[38;5;129;01min\u001b[39;00m listdir(\u001b[38;5;124m'\u001b[39m\u001b[38;5;124m/home/students\u001b[39m\u001b[38;5;124m'\u001b[39m) \u001b[38;5;28;01mif\u001b[39;00m isfile(join(\u001b[38;5;124m'\u001b[39m\u001b[38;5;124m/home/students\u001b[39m\u001b[38;5;124m'\u001b[39m, f))]\n\u001b[0;32m      9\u001b[0m \u001b[38;5;66;03m# Print the list of file names.\u001b[39;00m\n\u001b[0;32m     10\u001b[0m \u001b[38;5;28mprint\u001b[39m(files_list)\n",
      "\u001b[1;31mFileNotFoundError\u001b[0m: [WinError 3] The system cannot find the path specified: '/home/students'"
     ]
    }
   ],
   "source": [
    "# Import necessary functions and modules from the 'os' library.\n",
    "from os import listdir\n",
    "from os.path import isfile, join\n",
    "\n",
    "# Create a list 'files_list' that contains the names of files in the '/home/students' directory.\n",
    "# It uses a list comprehension to filter files using 'isfile' and 'join' functions.\n",
    "files_list = [f for f in listdir('/home/students') if isfile(join('/home/students', f))]\n",
    "\n",
    "# Print the list of file names.\n",
    "print(files_list)"
   ]
  },
  {
   "cell_type": "code",
   "execution_count": 36,
   "id": "24579fae",
   "metadata": {},
   "outputs": [
    {
     "name": "stdout",
     "output_type": "stream",
     "text": [
      "3\n",
      "         29 function calls in 0.000 seconds\n",
      "\n",
      "   Ordered by: standard name\n",
      "\n",
      "   ncalls  tottime  percall  cumtime  percall filename:lineno(function)\n",
      "        1    0.000    0.000    0.000    0.000 2592104846.py:4(sum)\n",
      "        1    0.000    0.000    0.000    0.000 <string>:1(<module>)\n",
      "        1    0.000    0.000    0.000    0.000 iostream.py:137(_event_pipe)\n",
      "        1    0.000    0.000    0.000    0.000 iostream.py:258(schedule)\n",
      "        2    0.000    0.000    0.000    0.000 iostream.py:519(_is_master_process)\n",
      "        2    0.000    0.000    0.000    0.000 iostream.py:546(_schedule_flush)\n",
      "        2    0.000    0.000    0.000    0.000 iostream.py:624(write)\n",
      "        1    0.000    0.000    0.000    0.000 socket.py:545(send)\n",
      "        1    0.000    0.000    0.000    0.000 threading.py:1125(_wait_for_tstate_lock)\n",
      "        1    0.000    0.000    0.000    0.000 threading.py:1192(is_alive)\n",
      "        1    0.000    0.000    0.000    0.000 threading.py:575(is_set)\n",
      "        1    0.000    0.000    0.000    0.000 {built-in method builtins.exec}\n",
      "        2    0.000    0.000    0.000    0.000 {built-in method builtins.isinstance}\n",
      "        2    0.000    0.000    0.000    0.000 {built-in method builtins.len}\n",
      "        1    0.000    0.000    0.000    0.000 {built-in method builtins.print}\n",
      "        2    0.000    0.000    0.000    0.000 {built-in method nt.getpid}\n",
      "        2    0.000    0.000    0.000    0.000 {method '__exit__' of '_thread.RLock' objects}\n",
      "        1    0.000    0.000    0.000    0.000 {method 'acquire' of '_thread.lock' objects}\n",
      "        1    0.000    0.000    0.000    0.000 {method 'append' of 'collections.deque' objects}\n",
      "        1    0.000    0.000    0.000    0.000 {method 'disable' of '_lsprof.Profiler' objects}\n",
      "        2    0.000    0.000    0.000    0.000 {method 'write' of '_io.StringIO' objects}\n",
      "\n",
      "\n"
     ]
    }
   ],
   "source": [
    "# Import the cProfile module, which provides a way to profile Python code.\n",
    "import cProfile\n",
    "# Define a function named 'sum'.\n",
    "def sum():\n",
    "   # Print the result of adding 1 and 2 to the console.\n",
    "   print(1 + 2)\n",
    "# Use cProfile to profile the 'sum' function.\n",
    "cProfile.run('sum()')"
   ]
  },
  {
   "cell_type": "code",
   "execution_count": 37,
   "id": "9ca3656f",
   "metadata": {},
   "outputs": [
    {
     "name": "stderr",
     "output_type": "stream",
     "text": [
      "abc--efg--xyz\n"
     ]
    }
   ],
   "source": [
    "# Import the 'print_function' feature from the '__future__' module to enable Python 3-style print function.\n",
    "from __future__ import print_function\n",
    "\n",
    "# Import the 'sys' module, which provides access to some variables used or maintained by the interpreter.\n",
    "import sys\n",
    "\n",
    "# Define a custom 'eprint' function that prints to the standard error stream.\n",
    "def eprint(*args, **kwargs):\n",
    "    # Call the 'print' function with the provided arguments and keyword arguments.\n",
    "    # Use 'file=sys.stderr' to print to the standard error stream (stderr).\n",
    "    print(*args, file=sys.stderr, **kwargs)\n",
    "\n",
    "# Call the 'eprint' function with the specified arguments and separator.\n",
    "eprint(\"abc\", \"efg\", \"xyz\", sep=\"--\")"
   ]
  },
  {
   "cell_type": "code",
   "execution_count": 39,
   "id": "7b6682a4",
   "metadata": {},
   "outputs": [
    {
     "name": "stdout",
     "output_type": "stream",
     "text": [
      "ALLUSERSPROFILE: C:\\ProgramData\n",
      "APPDATA: C:\\Users\\PC\\AppData\\Roaming\n",
      "COMMONPROGRAMFILES: C:\\Program Files\\Common Files\n",
      "COMMONPROGRAMFILES(X86): C:\\Program Files (x86)\\Common Files\n",
      "COMMONPROGRAMW6432: C:\\Program Files\\Common Files\n",
      "COMPUTERNAME: DESKTOP-BE6TIUT\n",
      "COMSPEC: C:\\WINDOWS\\system32\\cmd.exe\n",
      "DRIVERDATA: C:\\Windows\\System32\\Drivers\\DriverData\n",
      "FPS_BROWSER_APP_PROFILE_STRING: Internet Explorer\n",
      "FPS_BROWSER_USER_PROFILE_STRING: Default\n",
      "HOMEDRIVE: C:\n",
      "HOMEPATH: \\Users\\PC\n",
      "LOCALAPPDATA: C:\\Users\\PC\\AppData\\Local\n",
      "LOGONSERVER: \\\\DESKTOP-BE6TIUT\n",
      "NUMBER_OF_PROCESSORS: 8\n",
      "ONEDRIVE: C:\\Users\\PC\\OneDrive\n",
      "OS: Windows_NT\n",
      "PATH: C:\\Users\\PC\\anaconda3;C:\\Users\\PC\\anaconda3\\Library\\mingw-w64\\bin;C:\\Users\\PC\\anaconda3\\Library\\usr\\bin;C:\\Users\\PC\\anaconda3\\Library\\bin;C:\\Users\\PC\\anaconda3\\Scripts;C:\\Program Files\\Python312\\Scripts\\;C:\\Program Files\\Python312\\;C:\\WINDOWS\\system32;C:\\WINDOWS;C:\\WINDOWS\\System32\\Wbem;C:\\WINDOWS\\System32\\WindowsPowerShell\\v1.0\\;C:\\WINDOWS\\System32\\OpenSSH\\;C:\\Program Files (x86)\\NVIDIA Corporation\\PhysX\\Common;C:\\Program Files\\NVIDIA Corporation\\NVIDIA NvDLISR;C:\\Program Files\\Git\\cmd;\\home\\oh8662\\.local\\bin;C:\\Users\\PC\\AppData\\Local\\Programs\\Microsoft VS Code\\bin;C:\\Users\\PC\\AppData\\Local\\Microsoft\\WindowsApps;C:\\msys64\\mingw64\\bin;C:\\Users\\PC\\AppData\\Local\\GitHubDesktop\\bin;C:\\Users\\PC\\AppData\\Roaming\\Python\\Python312\\Scripts;C:\\Exercism;C:\\Program Files\\JetBrains\\PyCharm Community Edition 2024.1.1\\bin;;C:\\Program Files\\JetBrains\\PyCharm 2024.1.1\\bin;\n",
      "PATHEXT: .COM;.EXE;.BAT;.CMD;.VBS;.VBE;.JS;.JSE;.WSF;.WSH;.MSC;.PY;.PYW\n",
      "PROCESSOR_ARCHITECTURE: AMD64\n",
      "PROCESSOR_IDENTIFIER: Intel64 Family 6 Model 94 Stepping 3, GenuineIntel\n",
      "PROCESSOR_LEVEL: 6\n",
      "PROCESSOR_REVISION: 5e03\n",
      "PROGRAMDATA: C:\\ProgramData\n",
      "PROGRAMFILES: C:\\Program Files\n",
      "PROGRAMFILES(X86): C:\\Program Files (x86)\n",
      "PROGRAMW6432: C:\\Program Files\n",
      "PSMODULEPATH: C:\\Program Files\\WindowsPowerShell\\Modules;C:\\WINDOWS\\system32\\WindowsPowerShell\\v1.0\\Modules\n",
      "PUBLIC: C:\\Users\\Public\n",
      "PYCHARM: C:\\Program Files\\JetBrains\\PyCharm 2024.1.1\\bin;\n",
      "PYCHARM COMMUNITY EDITION: C:\\Program Files\\JetBrains\\PyCharm Community Edition 2024.1.1\\bin;\n",
      "SESSIONNAME: Console\n",
      "SYSTEMDRIVE: C:\n",
      "SYSTEMROOT: C:\\WINDOWS\n",
      "TEMP: C:\\Users\\PC\\AppData\\Local\\Temp\n",
      "TMP: C:\\Users\\PC\\AppData\\Local\\Temp\n",
      "USERDOMAIN: DESKTOP-BE6TIUT\n",
      "USERDOMAIN_ROAMINGPROFILE: DESKTOP-BE6TIUT\n",
      "USERNAME: PC\n",
      "USERPROFILE: C:\\Users\\PC\n",
      "WINDIR: C:\\WINDOWS\n",
      "CONDA_PREFIX: C:\\Users\\PC\\anaconda3\n",
      "PYDEVD_USE_FRAME_EVAL: NO\n",
      "JPY_INTERRUPT_EVENT: 3100\n",
      "IPY_INTERRUPT_EVENT: 3100\n",
      "JPY_PARENT_PID: 3540\n",
      "TERM: xterm-color\n",
      "CLICOLOR: 1\n",
      "FORCE_COLOR: 1\n",
      "CLICOLOR_FORCE: 1\n",
      "PAGER: cat\n",
      "GIT_PAGER: cat\n",
      "MPLBACKEND: module://matplotlib_inline.backend_inline\n"
     ]
    }
   ],
   "source": [
    "# Import the 'os' module to access operating system-related functionality, including environment variables.\n",
    "import os\n",
    "\n",
    "# Iterate through all environment variables and their values using the 'os.environ.items()' method.\n",
    "for item, value in os.environ.items():\n",
    "    # Print the environment variable name and its corresponding value.\n",
    "    print('{}: {}'.format(item, value))"
   ]
  },
  {
   "cell_type": "code",
   "execution_count": 40,
   "id": "3934d426",
   "metadata": {},
   "outputs": [
    {
     "name": "stdout",
     "output_type": "stream",
     "text": [
      "PC\n"
     ]
    }
   ],
   "source": [
    "# Import the 'getpass' module to access user-related functionality, including getting the current username.\n",
    "import getpass\n",
    "\n",
    "# Use the 'getuser()' function from the 'getpass' module to retrieve the current username.\n",
    "# Then, print the username to the console.\n",
    "print(getpass.getuser())"
   ]
  },
  {
   "cell_type": "code",
   "execution_count": 42,
   "id": "7fec83b0",
   "metadata": {},
   "outputs": [
    {
     "name": "stdout",
     "output_type": "stream",
     "text": [
      "172.27.160.1\n"
     ]
    }
   ],
   "source": [
    "# Import the 'socket' module to work with network-related functions.\n",
    "import socket\n",
    "\n",
    "# The following code retrieves the local IP address of the current machine:\n",
    "# 1. Use 'socket.gethostname()' to get the local hostname.\n",
    "# 2. Use 'socket.gethostbyname_ex()' to get a list of IP addresses associated with the hostname.\n",
    "# 3. Filter the list to exclude any IP addresses starting with \"127.\" (loopback addresses).\n",
    "# 4. Extract the first IP address (if available) from the filtered list.\n",
    "# 5. Print the obtained IP address to the console.\n",
    "\n",
    "# Step 1: Get the local hostname.\n",
    "local_hostname = socket.gethostname()\n",
    "\n",
    "# Step 2: Get a list of IP addresses associated with the hostname.\n",
    "ip_addresses = socket.gethostbyname_ex(local_hostname)[2]\n",
    "\n",
    "# Step 3: Filter out loopback addresses (IPs starting with \"127.\").\n",
    "filtered_ips = [ip for ip in ip_addresses if not ip.startswith(\"127.\")]\n",
    "\n",
    "# Step 4: Extract the first IP address (if available) from the filtered list.\n",
    "first_ip = filtered_ips[:1]\n",
    "\n",
    "# Step 5: Print the obtained IP address to the console.\n",
    "print(first_ip[0])"
   ]
  },
  {
   "cell_type": "code",
   "execution_count": 43,
   "id": "4d0d4adb",
   "metadata": {},
   "outputs": [
    {
     "name": "stdout",
     "output_type": "stream",
     "text": [
      "172.27.160.1\n"
     ]
    }
   ],
   "source": [
    "# Import the 'socket' module to work with network-related functions.\n",
    "import socket\n",
    "\n",
    "# The following code retrieves the local IP address of the current machine:\n",
    "# 1. Use 'socket.gethostname()' to get the local hostname.\n",
    "# 2. Use 'socket.gethostbyname_ex()' to get a list of IP addresses associated with the hostname.\n",
    "# 3. Filter the list to exclude any IP addresses starting with \"127.\" (loopback addresses).\n",
    "# 4. Extract the first IP address (if available) from the filtered list.\n",
    "# 5. Print the obtained IP address to the console.\n",
    "\n",
    "# Step 1: Get the local hostname.\n",
    "local_hostname = socket.gethostname()\n",
    "\n",
    "# Step 2: Get a list of IP addresses associated with the hostname.\n",
    "ip_addresses = socket.gethostbyname_ex(local_hostname)[2]\n",
    "\n",
    "# Step 3: Filter out loopback addresses (IPs starting with \"127.\").\n",
    "filtered_ips = [ip for ip in ip_addresses if not ip.startswith(\"127.\")]\n",
    "\n",
    "# Step 4: Extract the first IP address (if available) from the filtered list.\n",
    "first_ip = filtered_ips[:1]\n",
    "\n",
    "# Step 5: Print the obtained IP address to the console.\n",
    "print(first_ip[0])"
   ]
  },
  {
   "cell_type": "code",
   "execution_count": 54,
   "id": "c46010c2",
   "metadata": {},
   "outputs": [
    {
     "name": "stdout",
     "output_type": "stream",
     "text": [
      "\n",
      "Time to sum of 1 to 5 and required time to calculate is: (867361737988403547205962240695953369140625, 0.0)\n"
     ]
    }
   ],
   "source": [
    "# 57 execution time\n",
    "# Import the 'time' module to work with time-related functions.\n",
    "import time\n",
    "\n",
    "# Define a function named 'sum_of_n_numbers' that calculates the sum of the first 'n' natural numbers.\n",
    "def sum_of_n_numbers(n):\n",
    "    # Record the current time before the calculation.\n",
    "    start_time = time.time()\n",
    "\n",
    "    # Initialize a variable 's' to store the sum.\n",
    "    s = 0\n",
    "\n",
    "    # Loop through numbers from 1 to 'n' and accumulate the sum.\n",
    "    for i in range(1, n + 1):\n",
    "        s = s + i\n",
    "        g = 5 **20\n",
    "        e = g ** 3\n",
    "    # Record the current time after the calculation.\n",
    "    end_time = time.time()\n",
    "\n",
    "    # Return both the calculated sum and the time taken for the calculation.\n",
    "    return e, end_time - start_time\n",
    "\n",
    "# Define the value of 'n' as 5.\n",
    "n = 5\n",
    "\n",
    "# Print the result, including the time taken to calculate the sum.\n",
    "print(\"\\nTime to sum of 1 to\", n, \"and required time to calculate is:\", sum_of_n_numbers(n))"
   ]
  },
  {
   "cell_type": "code",
   "execution_count": 61,
   "id": "333a2690",
   "metadata": {},
   "outputs": [
    {
     "data": {
      "text/plain": [
       "21.0"
      ]
     },
     "execution_count": 61,
     "metadata": {},
     "output_type": "execute_result"
    }
   ],
   "source": [
    "firstsum = lambda n: (n+1) *n/2 \n",
    "firstsum(6)"
   ]
  },
  {
   "cell_type": "code",
   "execution_count": 62,
   "id": "15b94041",
   "metadata": {},
   "outputs": [
    {
     "data": {
      "text/plain": [
       "167.64000000000001"
      ]
     },
     "execution_count": 62,
     "metadata": {},
     "output_type": "execute_result"
    }
   ],
   "source": [
    "# ft, in to cm\n",
    "height = lambda ft, ic: (ft * 12 + ic) * 2.54\n",
    "height(5,6)"
   ]
  },
  {
   "cell_type": "code",
   "execution_count": 64,
   "id": "f15ab596",
   "metadata": {},
   "outputs": [
    {
     "data": {
      "text/plain": [
       "5.0"
      ]
     },
     "execution_count": 64,
     "metadata": {},
     "output_type": "execute_result"
    }
   ],
   "source": [
    "# 60 hypotenus \n",
    "hypotenus = lambda x,y: (x**2 + y**2)**(1/2)\n",
    "hypotenus(3,4)"
   ]
  },
  {
   "cell_type": "code",
   "execution_count": 75,
   "id": "ead1b665",
   "metadata": {},
   "outputs": [
    {
     "name": "stdout",
     "output_type": "stream",
     "text": [
      "60 inches, 1.6666666666666667 yards, 0.000946969696969697 miles\n",
      "\n",
      " [60, 1.6666666666666667, 0.000946969696969697]\n"
     ]
    }
   ],
   "source": [
    "# 61 convert ft to in, yds, mls\n",
    "def convft(ft):\n",
    "    num = []\n",
    "    ic, yd, ml= ft*12, ft/3, ft/5280\n",
    "    num.append(ic), num.append(yd), num.append(ml)\n",
    "  \n",
    "    return print(f\"{ic} inches, {yd} yards, {ml} miles\\n\\n\", num)\n",
    "\n",
    "convft(5)\n"
   ]
  },
  {
   "cell_type": "code",
   "execution_count": 76,
   "id": "4b0a7d9f",
   "metadata": {},
   "outputs": [
    {
     "name": "stdout",
     "output_type": "stream",
     "text": [
      "[5, 7, 9]\n"
     ]
    }
   ],
   "source": [
    "# using map with iterables\n",
    "a = [1, 2, 3]\n",
    "b = [4, 5, 6]\n",
    "summed = list(map(lambda x, y: x + y, a, b))\n",
    "print(summed)  # Output: [5, 7, 9]"
   ]
  },
  {
   "cell_type": "code",
   "execution_count": 80,
   "id": "88e3f77a",
   "metadata": {},
   "outputs": [
    {
     "name": "stdout",
     "output_type": "stream",
     "text": [
      "[5.0, 7.0, 9.0]\n"
     ]
    }
   ],
   "source": [
    "# using map with datatype change\n",
    "a = [1, 2, 3]\n",
    "b = [4, 5, 6]\n",
    "summed = list(map(lambda x,y: float(x+y), a, b))\n",
    "print(summed)  # Output: [5, 7, 9]"
   ]
  },
  {
   "cell_type": "code",
   "execution_count": 81,
   "id": "eb108b42",
   "metadata": {},
   "outputs": [
    {
     "data": {
      "text/plain": [
       "[2, 4]"
      ]
     },
     "execution_count": 81,
     "metadata": {},
     "output_type": "execute_result"
    }
   ],
   "source": [
    "# using filter to output even only\n",
    "nums = [1,2,3,4,5]\n",
    "evens = list(filter(lambda x: x%2==0, nums))\n",
    "evens"
   ]
  },
  {
   "cell_type": "code",
   "execution_count": 82,
   "id": "70983186",
   "metadata": {},
   "outputs": [
    {
     "data": {
      "text/plain": [
       "['arachnes', 'delphines', 'zerrick']"
      ]
     },
     "execution_count": 82,
     "metadata": {},
     "output_type": "execute_result"
    }
   ],
   "source": [
    "# using filter to set string limit\n",
    "strings = ['molly','arachnes','delphines','zerrick']\n",
    "lenout = list(filter(lambda x: len(x)>=6, strings))\n",
    "lenout"
   ]
  },
  {
   "cell_type": "code",
   "execution_count": 98,
   "id": "abf1b464",
   "metadata": {},
   "outputs": [
    {
     "name": "stdout",
     "output_type": "stream",
     "text": [
      "{'molly': 5, 'arachnes': 8, 'delphines': 9, 'zerrick': 7}\n",
      "['arachnes', 'delphines', 'zerrick']\n",
      "{'arachnes': 8, 'delphines': 9, 'zerrick': 7}\n"
     ]
    }
   ],
   "source": [
    "strdict = {}\n",
    "for string in strings:\n",
    "    strdict[string]= len(string)\n",
    "print(strdict)\n",
    "\n",
    "lenout = []\n",
    "for key in strdict:\n",
    "    lenout = list(filter(lambda key: len(key)>=6, strdict))\n",
    "print(lenout)\n",
    "\n",
    "strout = {}\n",
    "for name in lenout:\n",
    "    strout[name]= len(name)\n",
    "print(strout)"
   ]
  },
  {
   "cell_type": "code",
   "execution_count": 99,
   "id": "ebe582da",
   "metadata": {},
   "outputs": [
    {
     "name": "stdout",
     "output_type": "stream",
     "text": [
      "{'apple': 5, 'banana': 6, 'cherry': 6, 'date': 4, 'elderberry': 10, 'fig': 3, 'grape': 5}\n",
      "['banana', 'cherry', 'elderberry']\n",
      "{'banana': 6, 'cherry': 6, 'elderberry': 10}\n"
     ]
    }
   ],
   "source": [
    "# Sample list of strings\n",
    "strings = [\"apple\", \"banana\", \"cherry\", \"date\", \"elderberry\", \"fig\", \"grape\"]\n",
    "\n",
    "# Step 1: Create a dictionary with strings as keys and their lengths as values\n",
    "strdict = {string: len(string) for string in strings}\n",
    "print(strdict)\n",
    "# Output: {'apple': 5, 'banana': 6, 'cherry': 6, 'date': 4, 'elderberry': 10, 'fig': 3, 'grape': 5}\n",
    "\n",
    "# Step 2: Filter out strings that have a length of 6 or more\n",
    "filtered_keys = list(filter(lambda key: len(key) >= 6, strdict.keys()))\n",
    "print(filtered_keys)\n",
    "# Output: ['banana', 'cherry', 'elderberry']\n",
    "\n",
    "# Optional: Create a new dictionary with only the filtered keys\n",
    "filtered_strdict = {key: strdict[key] for key in filtered_keys}\n",
    "print(filtered_strdict)\n",
    "# Output: {'banana': 6, 'cherry': 6, 'elderberry': 10}"
   ]
  },
  {
   "cell_type": "code",
   "execution_count": 100,
   "id": "355d1804",
   "metadata": {},
   "outputs": [
    {
     "data": {
      "text/plain": [
       "46800"
      ]
     },
     "execution_count": 100,
     "metadata": {},
     "output_type": "execute_result"
    }
   ],
   "source": [
    "# 62 convert time into seconds\n",
    "toseconds = lambda day, hr, min: (day * 12 + hr)*60**2\n",
    "toseconds(1,1,2)"
   ]
  },
  {
   "cell_type": "code",
   "execution_count": 101,
   "id": "a6c9a09a",
   "metadata": {},
   "outputs": [
    {
     "name": "stdout",
     "output_type": "stream",
     "text": [
      "Absolute file path:  C:\\Users\\PC\\Documents\\github\\Python-Practice\\test.txt\n"
     ]
    }
   ],
   "source": [
    "# 63 absolute file path\n",
    "# Define a function named absolute_file_path that takes a parameter 'path_fname'.\n",
    "def absolute_file_path(path_fname):\n",
    "    # Import the 'os' module for working with file paths and directories.\n",
    "    import os\n",
    "    \n",
    "    # Use 'os.path.abspath()' to get the absolute file path by providing 'path_fname'.\n",
    "    return os.path.abspath(path_fname)\n",
    "\n",
    "# Call the function and print the result, passing \"test.txt\" as the argument.\n",
    "print(\"Absolute file path: \", absolute_file_path(\"test.txt\"))"
   ]
  },
  {
   "cell_type": "code",
   "execution_count": 28,
   "id": "ffce5304",
   "metadata": {},
   "outputs": [
    {
     "ename": "FileNotFoundError",
     "evalue": "[WinError 2] The system cannot find the file specified: 'test.txt'",
     "output_type": "error",
     "traceback": [
      "\u001b[1;31m---------------------------------------------------------------------------\u001b[0m",
      "\u001b[1;31mFileNotFoundError\u001b[0m                         Traceback (most recent call last)",
      "Cell \u001b[1;32mIn[28], line 6\u001b[0m\n\u001b[0;32m      3\u001b[0m \u001b[38;5;28;01mimport\u001b[39;00m \u001b[38;5;21;01mos\u001b[39;00m\u001b[38;5;21;01m.\u001b[39;00m\u001b[38;5;21;01mpath\u001b[39;00m\u001b[38;5;241m,\u001b[39m \u001b[38;5;21;01mtime\u001b[39;00m\n\u001b[0;32m      5\u001b[0m \u001b[38;5;66;03m# Print the last modified timestamp of the file \"test.txt\" in a human-readable format.\u001b[39;00m\n\u001b[1;32m----> 6\u001b[0m \u001b[38;5;28mprint\u001b[39m(\u001b[38;5;124m\"\u001b[39m\u001b[38;5;124mLast modified: \u001b[39m\u001b[38;5;132;01m%s\u001b[39;00m\u001b[38;5;124m\"\u001b[39m \u001b[38;5;241m%\u001b[39m time\u001b[38;5;241m.\u001b[39mctime(os\u001b[38;5;241m.\u001b[39mpath\u001b[38;5;241m.\u001b[39mgetmtime(\u001b[38;5;124m\"\u001b[39m\u001b[38;5;124mtest.txt\u001b[39m\u001b[38;5;124m\"\u001b[39m)))\n\u001b[0;32m      8\u001b[0m \u001b[38;5;66;03m# Print the creation timestamp of the file \"test.txt\" in a human-readable format.\u001b[39;00m\n\u001b[0;32m      9\u001b[0m dprint(\u001b[38;5;124m\"\u001b[39m\u001b[38;5;124mCreated: \u001b[39m\u001b[38;5;132;01m%s\u001b[39;00m\u001b[38;5;124m\"\u001b[39m \u001b[38;5;241m%\u001b[39m time\u001b[38;5;241m.\u001b[39mctime(os\u001b[38;5;241m.\u001b[39mpath\u001b[38;5;241m.\u001b[39mgetctime(\u001b[38;5;124m\"\u001b[39m\u001b[38;5;124mtest.txt\u001b[39m\u001b[38;5;124m\"\u001b[39m)))\n",
      "File \u001b[1;32m<frozen genericpath>:55\u001b[0m, in \u001b[0;36mgetmtime\u001b[1;34m(filename)\u001b[0m\n",
      "\u001b[1;31mFileNotFoundError\u001b[0m: [WinError 2] The system cannot find the file specified: 'test.txt'"
     ]
    }
   ],
   "source": [
    "# 64 date and tiem file creation and mod\n",
    "# Import the 'os.path' and 'time' modules to work with file system paths and timestamps.\n",
    "import os.path, time\n",
    "\n",
    "# Print the last modified timestamp of the file \"test.txt\" in a human-readable format.\n",
    "print(\"Last modified: %s\" % time.ctime(os.path.getmtime(\"test.txt\")))\n",
    "\n",
    "# Print the creation timestamp of the file \"test.txt\" in a human-readable format.\n",
    "dprint(\"Created: %s\" % time.ctime(os.path.getctime(\"test.txt\")))"
   ]
  },
  {
   "cell_type": "code",
   "execution_count": 148,
   "id": "0c50ec12",
   "metadata": {},
   "outputs": [
    {
     "data": {
      "text/plain": [
       "(14.0, 6.0, 56.0, 5)"
      ]
     },
     "execution_count": 148,
     "metadata": {},
     "output_type": "execute_result"
    }
   ],
   "source": [
    "\n",
    "def sectoelse(seconds):\n",
    "    secs = seconds % 60\n",
    "    mins = (seconds - secs) / 60 % 60\n",
    "    minsout = (seconds - secs - mins*60) / 60\n",
    "    hrs = minsout/60 % 24\n",
    "    days = (seconds - secs - mins*60 - hrs*60**2)/ (3600 *24)\n",
    "    \n",
    "    return(days,hrs,mins,secs)\n",
    "\n",
    "sectoelse(1234565)"
   ]
  },
  {
   "cell_type": "code",
   "execution_count": 149,
   "id": "5fcea1f8",
   "metadata": {},
   "outputs": [
    {
     "name": "stdout",
     "output_type": "stream",
     "text": [
      "(14, 6, 56, 5)\n"
     ]
    }
   ],
   "source": [
    "def sectoelse(seconds):\n",
    "    days = seconds // 86400\n",
    "    hours = (seconds % 86400) // 3600\n",
    "    minutes = (seconds % 3600) // 60\n",
    "    secs = seconds % 60\n",
    "\n",
    "    return days, hours, minutes, secs\n",
    "\n",
    "# Example usage:\n",
    "print(sectoelse(1234565))"
   ]
  },
  {
   "cell_type": "code",
   "execution_count": 151,
   "id": "a2723d0a",
   "metadata": {},
   "outputs": [
    {
     "name": "stdout",
     "output_type": "stream",
     "text": [
      "The BMI for weight 50 kg and height 4 m is: 3.125\n"
     ]
    }
   ],
   "source": [
    "# 66 BMI\n",
    "# Function to calculate BMI\n",
    "bmi = lambda kg, m: kg / (m ** 2)\n",
    "\n",
    "# Calculate BMI for given weight (kg) and height (m)\n",
    "weight = 50  # in kg\n",
    "height = 4   # in meters (this seems unusual, typically height is in meters around 1.5 to 2 for adults)\n",
    "\n",
    "# Calculate BMI\n",
    "bmi_value = bmi(weight, height)\n",
    "\n",
    "print(f\"The BMI for weight {weight} kg and height {height} m is: {bmi_value}\")"
   ]
  },
  {
   "cell_type": "code",
   "execution_count": 157,
   "id": "847fcc3a",
   "metadata": {},
   "outputs": [
    {
     "name": "stdout",
     "output_type": "stream",
     "text": [
      "The BMIs for the given weights and heights are: [22.0, 23.0, 24.0]\n"
     ]
    }
   ],
   "source": [
    "# 66\n",
    "weights = [50, 60, 70]  # example weights in kg\n",
    "heights = [1.5, 1.6, 1.7]  # example heights in meters\n",
    "\n",
    "# Calculate BMIs for each pair of weight and height\n",
    "bmis = list(map(lambda kg, m: kg // (m ** 2), weights, heights))\n",
    "\n",
    "print(\"The BMIs for the given weights and heights are:\", bmis)"
   ]
  },
  {
   "cell_type": "code",
   "execution_count": 161,
   "id": "ac15a81d",
   "metadata": {},
   "outputs": [
    {
     "name": "stdout",
     "output_type": "stream",
     "text": [
      "BMIs for each person: {'Person1': 22.0, 'Person2': 23.0, 'Person3': 24.0}\n"
     ]
    }
   ],
   "source": [
    "# 66 BMI\n",
    "# Define weights and heights in a dictionary\n",
    "people = {\n",
    "    \"Person1\": {\"weight\": 50, \"height\": 1.5},\n",
    "    \"Person2\": {\"weight\": 60, \"height\": 1.6},\n",
    "    \"Person3\": {\"weight\": 70, \"height\": 1.7}\n",
    "}\n",
    "\n",
    "# Function to calculate BMI\n",
    "bmi = lambda kg, m: kg // (m ** 2)\n",
    "\n",
    "# Calculate BMI for each person and store it in a new dictionary\n",
    "bmi_dict = {person: bmi(data[\"weight\"], data[\"height\"]) \n",
    "            for person, data in people.items()}\n",
    "\n",
    "print(\"BMIs for each person:\", bmi_dict)"
   ]
  },
  {
   "cell_type": "code",
   "execution_count": 164,
   "id": "17b036f4",
   "metadata": {},
   "outputs": [
    {
     "name": "stdout",
     "output_type": "stream",
     "text": [
      "Input the pressure in kilopascals > 50\n",
      "Pressure = 7.252 psi \n",
      "or 375.031 mmHg \n",
      "or 0.493 atmp\n"
     ]
    }
   ],
   "source": [
    "# Prompt the user to input the pressure in kilopascals and store it as a floating-point number.\n",
    "kpa = float(input(\"Input the pressure in kilopascals > \"))\n",
    "\n",
    "# Calculate the pressure in pounds per square inch (psi) and round it to 3 decimal places.\n",
    "pressure_in_psi = round(kpa * 0.145038, 3)\n",
    "\n",
    "# Calculate the pressure in millimeters of mercury (mmHg) and round it to 3 decimal places.\n",
    "pressure_in_mmHg = round(kpa * 7.50062, 3)\n",
    "\n",
    "# Calculate the pressure in standard atmospheres (atmp) and round it to 3 decimal places.\n",
    "pressure_in_atmp = round(kpa * 0.0098692382432766, 3)\n",
    "\n",
    "# Display the calculated pressure values in psi, mmHg, and atmp using an f-string.\n",
    "print(f\"Pressure = {pressure_in_psi} psi \\nor {pressure_in_mmHg} mmHg \\nor {pressure_in_atmp} atmp\")"
   ]
  },
  {
   "cell_type": "code",
   "execution_count": 204,
   "id": "a0eb1655",
   "metadata": {},
   "outputs": [
    {
     "data": {
      "text/plain": [
       "(10, 1, 2, 3, 4)"
      ]
     },
     "execution_count": 204,
     "metadata": {},
     "output_type": "execute_result"
    }
   ],
   "source": [
    "#68 sum of digits\n",
    "def sumofnum(num):\n",
    "    x1 = num//1000\n",
    "    x2 = (num-x1*1000)//100 \n",
    "    x3 = (num-(x1*1000)-(x2*100))//10\n",
    "    x4 = (num-x1*1000-x2*100-x3*10)\n",
    "    sum =  x1 + x2 + x3 + x4\n",
    "    return sum,x1, x2,x3,x4\n",
    "\n",
    "sumofnum(1234)"
   ]
  },
  {
   "cell_type": "code",
   "execution_count": 214,
   "id": "f3e9fa7e",
   "metadata": {},
   "outputs": [
    {
     "name": "stdout",
     "output_type": "stream",
     "text": [
      "3 4 7\n"
     ]
    }
   ],
   "source": [
    "num = [3, 7, 4]\n",
    "mins = min(num)\n",
    "maxs = max(num)\n",
    "\n",
    "# Remove the minimum and maximum values by value\n",
    "num.remove(mins)\n",
    "num.remove(maxs)\n",
    "\n",
    "lastnum = num[0]\n",
    "\n",
    "print(mins,lastnum,maxs)  # Output: [7]"
   ]
  },
  {
   "cell_type": "code",
   "execution_count": 215,
   "id": "4d768f34",
   "metadata": {},
   "outputs": [
    {
     "name": "stdout",
     "output_type": "stream",
     "text": [
      "Input first number: 5\n",
      "Input second number: 10\n",
      "Input third number: 2\n",
      "Numbers in sorted order:  2 5 10\n"
     ]
    }
   ],
   "source": [
    "# Prompt the user to input three integers and convert them to variables x, y, and z.\n",
    "x = int(input(\"Input first number: \"))\n",
    "y = int(input(\"Input second number: \"))\n",
    "z = int(input(\"Input third number: \"))\n",
    "\n",
    "# Find the minimum value among x, y, and z and store it in variable a1.\n",
    "a1 = min(x, y, z)\n",
    "\n",
    "# Find the maximum value among x, y, and z and store it in variable a3.\n",
    "a3 = max(x, y, z)\n",
    "\n",
    "# Calculate the middle value (not the minimum or maximum) by subtracting a1 and a3 from the sum of x, y, and z.\n",
    "a2 = (x + y + z) - a1 - a3\n",
    "\n",
    "# Print the numbers in sorted order (a1, a2, a3).\n",
    "print(\"Numbers in sorted order: \", a1, a2, a3)"
   ]
  },
  {
   "cell_type": "code",
   "execution_count": 225,
   "id": "513f5d2e",
   "metadata": {},
   "outputs": [
    {
     "name": "stdout",
     "output_type": "stream",
     "text": [
      "testing.TXT\n",
      "testing2.TXT\n"
     ]
    }
   ],
   "source": [
    "# 70 sort files by date\n",
    "# Import the necessary libraries to work with file operations and globbing.\n",
    "import glob\n",
    "import os\n",
    "\n",
    "# Use the glob module to find all files in the current directory with a \".txt\" extension.\n",
    "files = glob.glob(\"*.txt\")\n",
    "\n",
    "# Sort the list of file names based on the modification time (getmtime) of each file.\n",
    "files.sort(key=os.path.getmtime)\n",
    "\n",
    "# Print the sorted list of file names, one per line.\n",
    "print(\"\\n\".join(files))"
   ]
  },
  {
   "cell_type": "code",
   "execution_count": 220,
   "id": "8c72aeb9",
   "metadata": {},
   "outputs": [
    {
     "name": "stdout",
     "output_type": "stream",
     "text": [
      "Non Leet Python w3resource.html\n",
      "README.md\n",
      ".gitignore\n",
      "testing.TXT\n",
      "testing2.TXT\n",
      "w3resource Python Practice.ipynb\n"
     ]
    }
   ],
   "source": [
    "# Import the 'os' module for interacting with the operating system.\n",
    "import os\n",
    "\n",
    "# Change the current working directory to 'D:'.\n",
    "os.chdir('C:')\n",
    "\n",
    "# List files in the current directory, filter for regular files (not directories).\n",
    "file_list = filter(os.path.isfile, os.listdir('.'))\n",
    "\n",
    "# Sort the list of files based on their modification time.\n",
    "sorted_files = sorted(file_list, key=os.path.getmtime)\n",
    "\n",
    "# Print the sorted list of file names, one per line.\n",
    "print('\\n'.join(map(str, sorted_files)))"
   ]
  },
  {
   "cell_type": "code",
   "execution_count": 4,
   "id": "c486f0fa",
   "metadata": {},
   "outputs": [
    {
     "name": "stdout",
     "output_type": "stream",
     "text": [
      "Directory listing, sorted by creation date:\n",
      "Tue May 28 10:29:07 2024 .git\n",
      "Tue May 28 10:29:08 2024 Non Leet Python w3resource.html\n",
      "Tue May 28 10:29:08 2024 README.md\n",
      "Tue May 28 10:38:31 2024 w3resource Python Practice.ipynb\n",
      "Tue May 28 10:38:31 2024 .ipynb_checkpoints\n",
      "Tue May 28 10:39:43 2024 .gitignore\n",
      "Fri May 31 09:39:45 2024 testing.TXT\n",
      "Fri May 31 09:39:45 2024 testing2.TXT\n"
     ]
    }
   ],
   "source": [
    "# Import the required modules: 'os' for operating system interactions and 'time' for time-related functions.\n",
    "import os\n",
    "import time\n",
    "\n",
    "# Create a list 'paths' by iterating through files in the current directory and formatting their creation time and file name.\n",
    "# The list comprehension generates tuples with the creation time and file name for each file.\n",
    "paths = [\"%s %s\" % (time.ctime(t), f) for t, f in sorted([(os.path.getctime(x), x) for x in os.listdir(\".\")])]\n",
    "\n",
    "# Print a header for the directory listing.\n",
    "print(\"Directory listing, sorted by creation date:\")\n",
    "\n",
    "# Iterate through the list 'paths' and print each entry.\n",
    "for x in range(len(paths)):\n",
    "    print(paths[x],)"
   ]
  },
  {
   "cell_type": "code",
   "execution_count": 7,
   "id": "2d1b526e",
   "metadata": {},
   "outputs": [
    {
     "name": "stdout",
     "output_type": "stream",
     "text": [
      "['__doc__', '__loader__', '__name__', '__package__', '__spec__', 'acos', 'acosh', 'asin', 'asinh', 'atan', 'atan2', 'atanh', 'cbrt', 'ceil', 'comb', 'copysign', 'cos', 'cosh', 'degrees', 'dist', 'e', 'erf', 'erfc', 'exp', 'exp2', 'expm1', 'fabs', 'factorial', 'floor', 'fmod', 'frexp', 'fsum', 'gamma', 'gcd', 'hypot', 'inf', 'isclose', 'isfinite', 'isinf', 'isnan', 'isqrt', 'lcm', 'ldexp', 'lgamma', 'log', 'log10', 'log1p', 'log2', 'modf', 'nan', 'nextafter', 'perm', 'pi', 'pow', 'prod', 'radians', 'remainder', 'sin', 'sinh', 'sqrt', 'tan', 'tanh', 'tau', 'trunc', 'ulp']\n"
     ]
    }
   ],
   "source": [
    "# Imports the math module\n",
    "import math            \n",
    "# Use the 'dir' function to get a list of names in the 'math' module, including functions and constants.\n",
    "# Store this list in the 'math_ls' variable.\n",
    "math_ls = dir(math)\n",
    "# Print the list of names in the 'math' module, which includes mathematical functions and constants.\n",
    "print(math_ls)\n"
   ]
  },
  {
   "cell_type": "code",
   "execution_count": 20,
   "id": "555309af",
   "metadata": {},
   "outputs": [
    {
     "data": {
      "text/plain": [
       "(3.0, 3.0)"
      ]
     },
     "execution_count": 20,
     "metadata": {},
     "output_type": "execute_result"
    }
   ],
   "source": [
    "midpoint = lambda val1, val2 : (val2 + val1) / 2\n",
    "midpoint = midpoint(2,4), midpoint(2,4) \n",
    "midpoint"
   ]
  },
  {
   "cell_type": "code",
   "execution_count": 22,
   "id": "b1d2feb0",
   "metadata": {},
   "outputs": [
    {
     "name": "stdout",
     "output_type": "stream",
     "text": [
      "Input the word to be hashed: chang\n",
      "\n",
      "The coded word is: C3050\n",
      "\n"
     ]
    }
   ],
   "source": [
    "# hash a word\n",
    "# Create a list that maps characters to their Soundex codes.\n",
    "soundex = [0, 1, 2, 3, 0, 1, 2, 0, 0, 2, 2, 4, 5, 5, 0, 1, 2, 6, 2, 3, 0, 1, 0, 2, 0, 2]\n",
    "\n",
    "# Prompt the user to input the word to be hashed.\n",
    "word = input(\"Input the word to be hashed: \")\n",
    "\n",
    "# Convert the input word to uppercase.\n",
    "word = word.upper()\n",
    "\n",
    "# Initialize the coded word with the first character of the input word.\n",
    "coded = word[0]\n",
    "\n",
    "# Iterate over the remaining characters in the word to calculate the Soundex code.\n",
    "for a in word[1:len(word)]:\n",
    "    # Calculate the index for the Soundex list based on the character's ASCII code.\n",
    "    i = 65 - ord(a)\n",
    "    coded = coded + str(soundex[i])\n",
    "\n",
    "# Print a blank line.\n",
    "print()\n",
    "\n",
    "# Display the coded word.\n",
    "print(\"The coded word is: \" + coded)\n",
    "\n",
    "# Print a blank line.\n",
    "print()"
   ]
  },
  {
   "cell_type": "code",
   "execution_count": 23,
   "id": "a1cd1a45",
   "metadata": {},
   "outputs": [
    {
     "name": "stdout",
     "output_type": "stream",
     "text": [
      "\n",
      "Python Copyright Information\n",
      "Copyright (c) 2001-2023 Python Software Foundation.\n",
      "All Rights Reserved.\n",
      "\n",
      "Copyright (c) 2000 BeOpen.com.\n",
      "All Rights Reserved.\n",
      "\n",
      "Copyright (c) 1995-2001 Corporation for National Research Initiatives.\n",
      "All Rights Reserved.\n",
      "\n",
      "Copyright (c) 1991-1995 Stichting Mathematisch Centrum, Amsterdam.\n",
      "All Rights Reserved.\n",
      "\n"
     ]
    }
   ],
   "source": [
    "# 75 copyright info\n",
    "# Import the sys module, which provides access to Python interpreter variables and functions.\n",
    "import sys\n",
    "\n",
    "# Display a header for Python copyright information.\n",
    "print(\"\\nPython Copyright Information\")\n",
    "\n",
    "# Display the copyright information about Python using sys.copyright.\n",
    "print(sys.copyright)\n",
    "\n",
    "# Print an empty line for better readability.\n",
    "print()"
   ]
  },
  {
   "cell_type": "code",
   "execution_count": 24,
   "id": "71d68bb2",
   "metadata": {},
   "outputs": [
    {
     "name": "stdout",
     "output_type": "stream",
     "text": [
      "This is the name/path of the script:\n",
      "Number of arguments: 3\n",
      "Argument List: ['C:\\\\Users\\\\PC\\\\anaconda3\\\\Lib\\\\site-packages\\\\ipykernel_launcher.py', '-f', 'C:\\\\Users\\\\PC\\\\AppData\\\\Roaming\\\\jupyter\\\\runtime\\\\kernel-8ae052c4-efe7-4a26-aeef-436bde160565.json']\n"
     ]
    }
   ],
   "source": [
    "# 76 command line argument\n",
    "# Import the sys module to access command-line arguments and other system-specific functionality.\n",
    "import sys\n",
    "\n",
    "# Display the message \"This is the name/path of the script:\" and print the script's name or path.\n",
    "print(\"This is the name/path of the script:\"), sys.argv[0]\n",
    "\n",
    "# Display the message \"Number of arguments:\" and print the total number of command-line arguments.\n",
    "print(\"Number of arguments:\", len(sys.argv))\n",
    "\n",
    "# Display the message \"Argument List:\" and print the list of command-line arguments passed to the script.\n",
    "print(\"Argument List:\", str(sys.argv))"
   ]
  },
  {
   "cell_type": "code",
   "execution_count": 25,
   "id": "66b0e433",
   "metadata": {},
   "outputs": [
    {
     "name": "stdout",
     "output_type": "stream",
     "text": [
      "\n",
      "Little-endian platform.\n",
      "\n"
     ]
    }
   ],
   "source": [
    "# 77 Python program big endian platform or a little-endian platform.\n",
    "# Import the sys module to access system-specific information.\n",
    "import sys\n",
    "\n",
    "# Display a blank line for clarity.\n",
    "print()\n",
    "\n",
    "# Check if the byte order of the platform is \"little\" (e.g., Intel, Alpha) and display a corresponding message.\n",
    "if sys.byteorder == \"little\":\n",
    "    print(\"Little-endian platform.\")\n",
    "else:\n",
    "    # If the byte order is not \"little,\" assume it's \"big\" (e.g., Motorola, SPARC) and display a corresponding message.\n",
    "    print(\"Big-endian platform.\")\n",
    "\n",
    "# Display another blank line for clarity.\n",
    "print()"
   ]
  },
  {
   "cell_type": "code",
   "execution_count": 26,
   "id": "35cda259",
   "metadata": {},
   "outputs": [
    {
     "name": "stdout",
     "output_type": "stream",
     "text": [
      "_abc, _ast, _bisect, _blake2, _codecs, _codecs_cn, _codecs_hk,\n",
      "_codecs_iso2022, _codecs_jp, _codecs_kr, _codecs_tw, _collections,\n",
      "_contextvars, _csv, _datetime, _functools, _heapq, _imp, _io, _json,\n",
      "_locale, _lsprof, _md5, _multibytecodec, _opcode, _operator, _pickle,\n",
      "_random, _sha1, _sha256, _sha3, _sha512, _signal, _sre, _stat,\n",
      "_statistics, _string, _struct, _symtable, _thread, _tokenize,\n",
      "_tracemalloc, _typing, _warnings, _weakref, _winapi,\n",
      "_xxsubinterpreters, array, atexit, audioop, binascii, builtins, cmath,\n",
      "errno, faulthandler, gc, itertools, marshal, math, mmap, msvcrt, nt,\n",
      "sys, time, winreg, xxsubtype, zlib\n"
     ]
    }
   ],
   "source": [
    "# 78 \n",
    "# Import the sys module to access system-specific information.\n",
    "import sys\n",
    "\n",
    "# Import the textwrap module to format the list of module names.\n",
    "import textwrap\n",
    "\n",
    "# Get a sorted list of built-in module names in the system.\n",
    "module_name = ', '.join(sorted(sys.builtin_module_names))\n",
    "\n",
    "# Use textwrap to format the list of module names into lines with a maximum width of 70 characters.\n",
    "# Then, print the formatted text.\n",
    "print(textwrap.fill(module_name, width=70))"
   ]
  },
  {
   "cell_type": "code",
   "execution_count": 27,
   "id": "069cacc6",
   "metadata": {},
   "outputs": [
    {
     "name": "stdout",
     "output_type": "stream",
     "text": [
      "Size of  one = 52 bytes\n",
      "Size of  four = 53 bytes\n",
      "Size of  three = 54 bytes\n",
      "Size of 0 = 28 bytes\n",
      "Size of 112 = 28 bytes\n",
      "Size of [1, 2, 3, 'Red', 'Black'] = 104  bytes\n",
      "Size of ('Red', [8, 4, 6], (1, 2, 3)) = 64  bytes\n",
      "Size of {'orange', 'pear', 'apple'} = 216  bytes\n",
      "Size of {'Name': 'David', 'Age': 6, 'Class': 'First'} = 216  bytes\n"
     ]
    }
   ],
   "source": [
    "#79\n",
    "import sys  # Import the sys module to use sys.getsizeof()\n",
    "\n",
    "# Define three strings and assign values to them\n",
    "str1 = \"one\"\n",
    "str2 = \"four\"\n",
    "str3 = \"three\"\n",
    "x = 0\n",
    "y = 112\n",
    "z = 122.56\n",
    "\n",
    "# Print the size in bytes of each variable\n",
    "print(\"Size of \", str1, \"=\", str(sys.getsizeof(str1)) + \" bytes\")\n",
    "print(\"Size of \", str2, \"=\", str(sys.getsizeof(str2)) + \" bytes\")\n",
    "print(\"Size of \", str3, \"=\", str(sys.getsizeof(str3)) + \" bytes\")\n",
    "print(\"Size of\", x, \"=\", str(sys.getsizeof(x)) + \" bytes\")\n",
    "print(\"Size of\", y, \"=\", str(sys.getsizeof(y)) + \" bytes\")\n",
    "\n",
    "# Define a list and assign values to it\n",
    "L = [1, 2, 3, 'Red', 'Black']\n",
    "\n",
    "# Print the size in bytes of the list\n",
    "print(\"Size of\", L, \"=\", sys.getsizeof(L), \" bytes\")\n",
    "\n",
    "# Define a tuple and assign values to it\n",
    "T = (\"Red\", [8, 4, 6], (1, 2, 3))\n",
    "\n",
    "# Print the size in bytes of the tuple\n",
    "print(\"Size of\", T, \"=\", sys.getsizeof(T), \" bytes\")\n",
    "\n",
    "# Define a set and assign values to it\n",
    "S = {'apple', 'orange', 'apple', 'pear'}\n",
    "\n",
    "# Print the size in bytes of the set\n",
    "print(\"Size of\", S, \"=\", sys.getsizeof(S), \" bytes\")\n",
    "\n",
    "# Define a dictionary and assign values to it\n",
    "D = {'Name': 'David', 'Age': 6, 'Class': 'First'}\n",
    "\n",
    "# Print the size in bytes of the dictionary\n",
    "print(\"Size of\", D, \"=\", sys.getsizeof(S), \" bytes\")"
   ]
  },
  {
   "cell_type": "code",
   "execution_count": 39,
   "id": "7d79955d",
   "metadata": {},
   "outputs": [
    {
     "name": "stdout",
     "output_type": "stream",
     "text": [
      "Size of  one = 52 bytes\n",
      "Size of  four = 53 bytes\n",
      "Size of  three = 54 bytes\n",
      "Size of 0 = 28 bytes\n",
      "Size of 112 = 28 bytes\n",
      "Size of [1, 2, 3, 'Red', 'Black'] = 104  bytes\n",
      "Size of ('Red', [8, 4, 6], (1, 2, 3)) = 64  bytes\n",
      "Size of {'orange', 'pear', 'apple'} = 216  bytes\n",
      "Size of {'Name': 'David', 'Age': 6, 'Class': 'First'} = 216  bytes\n",
      "--- 0.001001119613647461 seconds ---\n"
     ]
    }
   ],
   "source": [
    "# TIME TIME TIME TIME\n",
    "import time\n",
    "start_time = time.time()\n",
    "\n",
    "# insert code here to measure time to execute\n",
    "\n",
    "print(\"--- %s seconds ---\" % (time.time() - start_time))"
   ]
  },
  {
   "cell_type": "code",
   "execution_count": 40,
   "id": "4a8bb6c9",
   "metadata": {},
   "outputs": [
    {
     "name": "stdout",
     "output_type": "stream",
     "text": [
      "\n",
      "Current value of the recursion limit:\n",
      "3000\n",
      "\n"
     ]
    }
   ],
   "source": [
    "import sys  # Import the sys module to access system-related information\n",
    "\n",
    "print()  # Print a blank line for spacing\n",
    "print(\"Current value of the recursion limit:\")  # Display a message about the recursion limit\n",
    "# print(sys.setrecursionlimit(2000))  # Retrieve and print the current recursion limit\n",
    "print(sys.getrecursionlimit())  # Retrieve and print the current recursion limit\n",
    "print()  # Print a blank line for spacing"
   ]
  },
  {
   "cell_type": "code",
   "execution_count": 43,
   "id": "93c67b22",
   "metadata": {},
   "outputs": [
    {
     "data": {
      "text/plain": [
       "'Red-White-Black'"
      ]
     },
     "execution_count": 43,
     "metadata": {},
     "output_type": "execute_result"
    }
   ],
   "source": [
    "colors=[\"Red\",\"White\",\"Black\"]\n",
    "concatcolor = '-'.join(colors)\n",
    "concatcolor"
   ]
  },
  {
   "cell_type": "code",
   "execution_count": 80,
   "id": "8958b6e7",
   "metadata": {},
   "outputs": [
    {
     "data": {
      "text/plain": [
       "272"
      ]
     },
     "execution_count": 80,
     "metadata": {},
     "output_type": "execute_result"
    }
   ],
   "source": [
    "import numpy as np\n",
    "tuples = (5,87,37,3)\n",
    "lists = [5,3,5,5]\n",
    "sets = {3,2,4,6}\n",
    "dictionarys = {'val1':42,'val2':33,'val3':32}\n",
    "sums = sum(tuples) + sum(lists) + sum(sets) + sum(dictionarys.values())\n",
    "#+ lists + sets + dictionary\n",
    "sums"
   ]
  },
  {
   "cell_type": "code",
   "execution_count": 81,
   "id": "a6702911",
   "metadata": {},
   "outputs": [
    {
     "name": "stdout",
     "output_type": "stream",
     "text": [
      "Sum of tuple: 6\n",
      "Negative sum of list: -6\n"
     ]
    }
   ],
   "source": [
    "def process_numbers(numbers):\n",
    "    if isinstance(numbers, tuple):\n",
    "        return sum(numbers)\n",
    "    elif isinstance(numbers, list):\n",
    "        return -sum(numbers)\n",
    "    else:\n",
    "        raise TypeError(\"Input must be a tuple or a list\")\n",
    "\n",
    "# Examples\n",
    "tuple_input = (1, 2, 3)\n",
    "list_input = [1, 2, 3]\n",
    "\n",
    "print(\"Sum of tuple:\", process_numbers(tuple_input))  # Output: 6\n",
    "print(\"Negative sum of list:\", process_numbers(list_input))  # Output: -6"
   ]
  },
  {
   "cell_type": "code",
   "execution_count": 99,
   "id": "14ca4d90",
   "metadata": {},
   "outputs": [
    {
     "name": "stdout",
     "output_type": "stream",
     "text": [
      "[True, False, True, True, True, True, True]\n"
     ]
    }
   ],
   "source": [
    "# 83 greater than certain number T/F output\n",
    "lists = [5, 3, 5, 7, 5, 8, 6]\n",
    "\n",
    "# Use map with a lambda function to create a list of boolean values\n",
    "setlim = list (map ( lambda x: x >= 5, lists))\n",
    "\n",
    "print(setlim)  # Output: [True, False, True, True, True, True, True]"
   ]
  },
  {
   "cell_type": "code",
   "execution_count": 92,
   "id": "9f10fef9",
   "metadata": {},
   "outputs": [
    {
     "name": "stdout",
     "output_type": "stream",
     "text": [
      "[5, 5, 7, 5, 8, 6]\n"
     ]
    }
   ],
   "source": [
    "# 83 greater than certain number T output\n",
    "\n",
    "lists = [5, 3, 5, 7, 5, 8, 6]\n",
    "\n",
    "# Use filter with a lambda function to keep only values greater than or equal to 5\n",
    "savelists = list(filter(lambda x: x >= 5, lists))\n",
    "\n",
    "print(savelists)  # Output: [5, 5, 7, 5, 8, 6]"
   ]
  },
  {
   "cell_type": "code",
   "execution_count": 112,
   "id": "01f23b56",
   "metadata": {},
   "outputs": [
    {
     "name": "stdout",
     "output_type": "stream",
     "text": [
      "{'index: 0': 5, 'index: 2': 5, 'index: 3': 7, 'index: 4': 5, 'index: 5': 8, 'index: 6': 6}\n"
     ]
    }
   ],
   "source": [
    "# 83 greater than certain number index: output\n",
    "\n",
    "lists = [5, 3, 5, 7, 5, 8, 6]\n",
    "\n",
    "# Create a dictionary with indices as keys and values greater than or equal to 5\n",
    "savelists = {'index: ' + str(index): value for index, value in enumerate(lists) if value >= 5}\n",
    "\n",
    "print(savelists)  # Output: {0: 5, 2: 5, 3: 7, 4: 5, 5: 8, 6: 6}"
   ]
  },
  {
   "cell_type": "code",
   "execution_count": 5,
   "id": "230552a5",
   "metadata": {},
   "outputs": [
    {
     "data": {
      "text/plain": [
       "3"
      ]
     },
     "execution_count": 5,
     "metadata": {},
     "output_type": "execute_result"
    }
   ],
   "source": [
    "# 84 count char occurances\n",
    "def countchar(string, letter):\n",
    "    count = 0\n",
    "    if letter in string:\n",
    "        string.split()\n",
    "        for i in string:\n",
    "            if i == letter:\n",
    "                count +=1\n",
    "    return count\n",
    "string = 'alphabat'\n",
    "countchar(string, 'a')"
   ]
  },
  {
   "cell_type": "code",
   "execution_count": 6,
   "id": "577d898e",
   "metadata": {},
   "outputs": [
    {
     "data": {
      "text/plain": [
       "3"
      ]
     },
     "execution_count": 6,
     "metadata": {},
     "output_type": "execute_result"
    }
   ],
   "source": [
    "string.count('a')"
   ]
  },
  {
   "cell_type": "code",
   "execution_count": 13,
   "id": "5ea4b9a9",
   "metadata": {},
   "outputs": [
    {
     "name": "stdout",
     "output_type": "stream",
     "text": [
      "{'h': 1, 'e': 1, 'l': 3, 'o': 2, 'w': 1, 'r': 1, 'd': 1}\n"
     ]
    }
   ],
   "source": [
    "def count_alphabets(input_string):\n",
    "    alphabet_counts = {}\n",
    "    for char in input_string:\n",
    "        if char.isalpha():  # Check if the character is an alphabet\n",
    "            char = char.lower()  # Convert to lowercase to ensure case insensitivity\n",
    "            if char in alphabet_counts:\n",
    "                alphabet_counts[char] += 1\n",
    "            else:\n",
    "                alphabet_counts[char] = 1\n",
    "    return alphabet_counts\n",
    "\n",
    "# Example usage\n",
    "input_string = \"Hello W0321123131orld!\"\n",
    "counts = count_alphabets(input_string)\n",
    "print(counts)"
   ]
  },
  {
   "cell_type": "code",
   "execution_count": 15,
   "id": "17a6fc9e",
   "metadata": {},
   "outputs": [
    {
     "name": "stdout",
     "output_type": "stream",
     "text": [
      "m\n",
      "o\n",
      "o\n",
      "l\n",
      "a\n"
     ]
    }
   ],
   "source": [
    "# no need to split string before using for loop to access each char\n",
    "# note char datatype doesn't exist in python\n",
    "for char in 'moola':\n",
    "    print (char)"
   ]
  },
  {
   "cell_type": "code",
   "execution_count": 16,
   "id": "bef2e875",
   "metadata": {},
   "outputs": [
    {
     "name": "stdout",
     "output_type": "stream",
     "text": [
      "It is a special file (socket, FIFO, device file)\n",
      "\n"
     ]
    }
   ],
   "source": [
    "#85 file or directory\n",
    "# Import the 'os' module to access operating system functionalities.\n",
    "import os\n",
    "\n",
    "# Define the path to a file or directory named 'abc.txt'.\n",
    "path = \"abc.txt\"\n",
    "\n",
    "# Check if the path refers to a directory.\n",
    "if os.path.isdir(path):\n",
    "    # Print a message indicating that it is a directory.\n",
    "    print(\"\\nIt is a directory\")\n",
    "\n",
    "# Check if the path refers to a regular file.\n",
    "elif os.path.isfile(path):\n",
    "    # Print a message indicating that it is a normal file.\n",
    "    print(\"\\nIt is a normal file\")\n",
    "\n",
    "# If the path doesn't match a directory or a regular file, assume it's a special file (e.g., socket, FIFO, device file).\n",
    "else:\n",
    "    # Print a message indicating that it is a special file.\n",
    "    print(\"It is a special file (socket, FIFO, device file)\")\n",
    "\n",
    "# Print a newline character for spacing.\n",
    "print()"
   ]
  },
  {
   "cell_type": "code",
   "execution_count": 17,
   "id": "e6cc9bbd",
   "metadata": {},
   "outputs": [
    {
     "name": "stdout",
     "output_type": "stream",
     "text": [
      "\n",
      "97\n",
      "65\n",
      "49\n",
      "64\n",
      "\n"
     ]
    }
   ],
   "source": [
    "# 86 ascii value\n",
    "# Print a newline character for spacing.\n",
    "print()\n",
    "\n",
    "# Print the Unicode code point of the character 'a'.\n",
    "print(ord('a'))\n",
    "\n",
    "# Print the Unicode code point of the character 'A'.\n",
    "print(ord('A'))\n",
    "\n",
    "# Print the Unicode code point of the character '1'.\n",
    "print(ord('1'))\n",
    "\n",
    "# Print the Unicode code point of the character '@'.\n",
    "print(ord('@'))\n",
    "\n",
    "# Print a newline character for spacing.\n",
    "print()"
   ]
  },
  {
   "cell_type": "code",
   "execution_count": 20,
   "id": "99029b25",
   "metadata": {},
   "outputs": [
    {
     "name": "stdout",
     "output_type": "stream",
     "text": [
      "30+20=50\n"
     ]
    }
   ],
   "source": [
    "def solve(x=30,y=20):\n",
    "    print(f\"{x}+{y}={x+y}\")\n",
    "solve()"
   ]
  },
  {
   "cell_type": "code",
   "execution_count": 30,
   "id": "a89383e2",
   "metadata": {},
   "outputs": [
    {
     "name": "stdout",
     "output_type": "stream",
     "text": [
      "20+30=50\n"
     ]
    }
   ],
   "source": [
    "solve = lambda x=20,y=30: print(f\"{x}+{y}={x+y}\")\n",
    "solve()"
   ]
  },
  {
   "cell_type": "code",
   "execution_count": 43,
   "id": "b6ba38a5",
   "metadata": {},
   "outputs": [
    {
     "name": "stdout",
     "output_type": "stream",
     "text": [
      "FIrstday of a month!\n"
     ]
    }
   ],
   "source": [
    "#89 perform condition\n",
    "def variable(name):\n",
    "    if name == 1:\n",
    "        return print('FIrstday of a month!')\n",
    "for i in range(10): variable(i) "
   ]
  },
  {
   "cell_type": "code",
   "execution_count": 42,
   "id": "7c59cd61",
   "metadata": {},
   "outputs": [
    {
     "name": "stdout",
     "output_type": "stream",
     "text": [
      "name(0) = 0\n",
      "name(1) = 1\n",
      "name(2) = 0\n",
      "name(3) = 0\n",
      "name(4) = 0\n",
      "name(5) = 0\n",
      "name(6) = 0\n",
      "name(7) = 0\n",
      "name(8) = 0\n",
      "name(9) = 0\n"
     ]
    }
   ],
   "source": [
    "name = lambda x: 1 if x == 1 else 0\n",
    "\n",
    "# Example usage in a loop\n",
    "for i in range(10):\n",
    "    result = name(i)\n",
    "    print(f\"name({i}) = {result}\")"
   ]
  },
  {
   "cell_type": "code",
   "execution_count": 49,
   "id": "63031cc2",
   "metadata": {},
   "outputs": [
    {
     "data": {
      "text/plain": [
       "(6, 5)"
      ]
     },
     "execution_count": 49,
     "metadata": {},
     "output_type": "execute_result"
    }
   ],
   "source": [
    "# swap variable\n",
    "def swap(a, b):\n",
    "    temp = a\n",
    "    a = b\n",
    "    b = temp\n",
    "    return a,b\n",
    "swap(5,6)"
   ]
  },
  {
   "cell_type": "code",
   "execution_count": 52,
   "id": "a9eaf974",
   "metadata": {},
   "outputs": [
    {
     "name": "stdout",
     "output_type": "stream",
     "text": [
      "(20, 30)\n"
     ]
    }
   ],
   "source": [
    "a =30\n",
    "b = 20\n",
    "swap = a,b= b,a\n",
    "print(swap)"
   ]
  },
  {
   "cell_type": "code",
   "execution_count": 53,
   "id": "51528630",
   "metadata": {},
   "outputs": [
    {
     "name": "stdout",
     "output_type": "stream",
     "text": [
      "\n",
      "\\#{'}${\"}@/\n",
      "\\#{'}${\"}@/\n",
      "\\#{'}${\"}@/\n",
      "\\#{'}${\"}@/\n",
      "\\#{'}${\"}@/\n",
      "\\#{'}${\"}@/\n",
      "\n"
     ]
    }
   ],
   "source": [
    "#92\n",
    "# Print a string containing special characters without escaping.\n",
    "print()\n",
    "print(\"\\#{'}${\\\"}@/\")\n",
    "\n",
    "# Print a string containing special characters with escaped single quotes.\n",
    "print(\"\\#{'}${\\\"}@/\")\n",
    "\n",
    "# Print a raw string using triple-quotes with special characters.\n",
    "print(r\"\"\"\\#{'}${\"}@/\"\"\")\n",
    "\n",
    "# Print a string containing special characters without escaping.\n",
    "print('\\#{\\'}${\"}@/')\n",
    "\n",
    "# Print a string containing special characters with escaped single quotes.\n",
    "print('\\#{'\"'\"'}${\"}@/')\n",
    "\n",
    "# Print a raw string using triple-quotes with special characters.\n",
    "print(r'''\\#{'}${\"}@/''')\n",
    "print()"
   ]
  },
  {
   "cell_type": "code",
   "execution_count": 56,
   "id": "80b98031",
   "metadata": {},
   "outputs": [
    {
     "name": "stdout",
     "output_type": "stream",
     "text": [
      "lambdas <class 'str'> 1974260142448\n"
     ]
    }
   ],
   "source": [
    "# 93 identity type value of obj\n",
    "num = 5\n",
    "string = 'lambdas'\n",
    "identify = lambda x: print(x,type(x), id(x))\n",
    "identify(string)"
   ]
  },
  {
   "cell_type": "code",
   "execution_count": 1,
   "id": "933ea8f4",
   "metadata": {},
   "outputs": [
    {
     "name": "stdout",
     "output_type": "stream",
     "text": [
      "\n",
      "Convert bytes of the said string to a list of integers:\n",
      "[65, 98, 99]\n",
      "\n"
     ]
    }
   ],
   "source": [
    "# Create a bytes object containing the bytes 'Abc'.\n",
    "x = b'Abc'\n",
    "\n",
    "# Print an empty line for clarity.\n",
    "print()\n",
    "\n",
    "# Convert the bytes of the said string to a list of integers and print the result.\n",
    "print(\"Convert bytes of the said string to a list of integers:\")\n",
    "print(list(x))\n",
    "\n",
    "# Print an empty line for clarity.\n",
    "print()"
   ]
  },
  {
   "cell_type": "code",
   "execution_count": 4,
   "id": "1964e652",
   "metadata": {},
   "outputs": [
    {
     "name": "stdout",
     "output_type": "stream",
     "text": [
      "Original string:\n",
      "The quick brown fox jumps over the lazy dog.\n",
      "\n",
      "Convert bytes of the said string to a list of integers:\n",
      "[84, 104, 101, 32, 113, 117, 105, 99, 107, 32, 98, 114, 111, 119, 110, 32, 102, 111, 120, 32, 106, 117, 109, 112, 115, 32, 111, 118, 101, 114, 32, 116, 104, 101, 32, 108, 97, 122, 121, 32, 100, 111, 103, 46]\n"
     ]
    }
   ],
   "source": [
    "# Define a string named S.\n",
    "S = \"The quick brown fox jumps over the lazy dog.\"\n",
    "\n",
    "# Print a message indicating the original string.\n",
    "print(\"Original string:\")\n",
    "\n",
    "# Print the original string.\n",
    "print(S)\n",
    "\n",
    "# Create an empty list named nums.\n",
    "nums = []\n",
    "\n",
    "# Print a message to indicate the conversion of bytes to a list of integers.\n",
    "print(\"\\nConvert bytes of the said string to a list of integers:\")\n",
    "\n",
    "# Iterate through each character (byte) in the string S and append its ASCII value to the nums list.\n",
    "for chr in S:\n",
    "    nums.append(ord(chr))\n",
    "\n",
    "# Print the list of integers.\n",
    "print(nums)\n"
   ]
  },
  {
   "cell_type": "code",
   "execution_count": 10,
   "id": "3f08a1e1",
   "metadata": {},
   "outputs": [
    {
     "name": "stdout",
     "output_type": "stream",
     "text": [
      "\n",
      "Not numeric\n",
      "\n"
     ]
    }
   ],
   "source": [
    "# Define a string named str containing the value 'a123'.\n",
    "str = 'a123'\n",
    "\n",
    "# Uncomment the line below to test a different string (e.g., '123').\n",
    "# str = '123'\n",
    "\n",
    "# Try to convert the string str to a float.\n",
    "try:\n",
    "    i = float(str)\n",
    "except (ValueError, TypeError):\n",
    "    # If a ValueError or TypeError occurs during conversion, print 'Not numeric.'\n",
    "    print('\\nNot numeric')\n",
    "\n",
    "# Print a newline character to format the output.\n",
    "print()"
   ]
  },
  {
   "cell_type": "code",
   "execution_count": 11,
   "id": "c0b7506f",
   "metadata": {},
   "outputs": [
    {
     "name": "stdout",
     "output_type": "stream",
     "text": [
      "Input a word or numbers: 454\n",
      "The input value is numbers.\n"
     ]
    }
   ],
   "source": [
    "# Doesn't work for floats\n",
    "# Prompt the user for input and store it in the 'text' variable.\n",
    "text = input(\"Input a word or numbers: \")\n",
    "\n",
    "# Check if the input consists of digits only using the 'isdigit' method.\n",
    "if text.isdigit():\n",
    "    # If the input contains only digits, print \"The input value is numbers.\"\n",
    "    print(\"The input value is numbers.\")\n",
    "else:\n",
    "    # If the input contains characters other than digits, print \"The input value is string.\"\n",
    "    print(\"The input value is string.\")"
   ]
  },
  {
   "cell_type": "code",
   "execution_count": 13,
   "id": "af8ba265",
   "metadata": {},
   "outputs": [
    {
     "name": "stdout",
     "output_type": "stream",
     "text": [
      "Host name: DESKTOP-BE6TIUT\n"
     ]
    }
   ],
   "source": [
    "# Import the 'socket' module to work with networking functionalities.\n",
    "\n",
    "import socket\n",
    "# Use 'socket.gethostname()' to retrieve the name of the current host or machine.\n",
    "host_name = socket.gethostname()\n",
    "\n",
    "# Print the host name to the console.\n",
    "print(\"Host name:\", host_name)\n"
   ]
  },
  {
   "cell_type": "code",
   "execution_count": 15,
   "id": "599d4a97",
   "metadata": {},
   "outputs": [
    {
     "name": "stdout",
     "output_type": "stream",
     "text": [
      "dir command to list files and directories\n",
      " Volume in drive C has no label.\n",
      " Volume Serial Number is 7A74-BD28\n",
      "\n",
      " Directory of C:\\Users\\PC\\Documents\\github\\Python-Practice\n",
      "\n",
      "06/04/2024  09:27 AM    <DIR>          .\n",
      "06/04/2024  09:27 AM    <DIR>          ..\n",
      "05/28/2024  10:39 AM                64 .gitignore\n",
      "05/28/2024  10:39 AM    <DIR>          .ipynb_checkpoints\n",
      "05/28/2024  10:29 AM           294,146 Non Leet Python w3resource.html\n",
      "05/28/2024  10:29 AM                17 README.md\n",
      "05/31/2024  09:39 AM                 0 testing.TXT\n",
      "05/31/2024  09:40 AM                 0 testing2.TXT\n",
      "06/04/2024  09:27 AM           108,650 w3resource Python Practice.ipynb\n",
      "               6 File(s)        402,877 bytes\n",
      "               3 Dir(s)  859,919,962,112 bytes free\n",
      "\n"
     ]
    }
   ],
   "source": [
    "# Import the subprocess module to run shell commands.\n",
    "import subprocess\n",
    "# Use the 'subprocess.check_output' function to execute the 'dir' command in the shell.\n",
    "# 'universal_newlines=True' ensures text mode for cross-platform compatibility.\n",
    "returned_text = subprocess.check_output(\"dir\", shell=True, universal_newlines=True)\n",
    "# Print a message indicating the purpose of running the 'dir' command.\n",
    "print(\"dir command to list files and directories\")\n",
    "# Print the output (list of files and directories) returned by the 'dir' command.\n",
    "print(returned_text)\n"
   ]
  },
  {
   "cell_type": "code",
   "execution_count": 16,
   "id": "e267e318",
   "metadata": {},
   "outputs": [
    {
     "name": "stdout",
     "output_type": "stream",
     "text": [
      "\n",
      "homework-1.py\n",
      "\n"
     ]
    }
   ],
   "source": [
    "# Import the 'os' module for operating system-related functions.\n",
    "import os\n",
    "\n",
    "# Print a newline for clarity.\n",
    "print()\n",
    "\n",
    "# Use 'os.path.basename' to extract the filename component from the given path.\n",
    "# In this case, it extracts the filename 'homework-1.py' from the provided path.\n",
    "print(os.path.basename('/users/system1/student1/homework-1.py'))\n",
    "\n",
    "# Print another newline for clarity.\n",
    "print()\n"
   ]
  },
  {
   "cell_type": "code",
   "execution_count": 23,
   "id": "696052ca",
   "metadata": {},
   "outputs": [
    {
     "name": "stdout",
     "output_type": "stream",
     "text": [
      "[30, 60]\n"
     ]
    }
   ],
   "source": [
    "# 110 Python: Get numbers divisible by fifteen from a list using an anonymous function\n",
    "# anonymous as in single use function lambda but it can be reused by assigning a name\n",
    "numlist = [54,23,61,30,431,50,60]\n",
    "div15 = list(filter(lambda num: num % 15 == 0, numlist))\n",
    "print(div15)"
   ]
  },
  {
   "cell_type": "code",
   "execution_count": 25,
   "id": "67347c20",
   "metadata": {},
   "outputs": [
    {
     "name": "stdout",
     "output_type": "stream",
     "text": [
      "['Non Leet Python w3resource.html', 'README.md', 'testing.TXT', 'testing2.TXT', 'w3resource Python Practice.ipynb']\n",
      "[]\n",
      "[]\n"
     ]
    }
   ],
   "source": [
    "# Import the glob module, which allows you to search for files using wildcard patterns\n",
    "import glob\n",
    "\n",
    "# Use the glob module to get a list of all files in the current directory\n",
    "file_list = glob.glob('*.*')\n",
    "\n",
    "# Print the list of all files in the current directory\n",
    "print(file_list)\n",
    "\n",
    "# Specific files\n",
    "# Use a wildcard pattern to search for Python (.py) files in the current directory\n",
    "print(glob.glob('*.py'))\n",
    "\n",
    "# Use a more specific pattern to search for files with names starting with a digit and any extension\n",
    "print(glob.glob('./[0-9].*'))\n"
   ]
  },
  {
   "cell_type": "code",
   "execution_count": 40,
   "id": "c4de6fc0",
   "metadata": {},
   "outputs": [
    {
     "name": "stdout",
     "output_type": "stream",
     "text": [
      "['Red', 'Green', 'White', 'Orange']\n",
      "['Green', 'White', 'Orange']\n",
      "['White', 'Orange']\n"
     ]
    }
   ],
   "source": [
    "color = [\"Red\", \"Black\", \"Green\", \"White\", \"blaCk\", \"Orange\"]\n",
    "for i, col in enumerate(color):\n",
    "    if col.lower() == \"black\":\n",
    "        del color[i]\n",
    "print(color)\n",
    "color.remove(\"Red\")\n",
    "print(color)\n",
    "del color[0]\n",
    "print(color)"
   ]
  },
  {
   "cell_type": "code",
   "execution_count": 45,
   "id": "2ba2bdfb",
   "metadata": {},
   "outputs": [
    {
     "name": "stdout",
     "output_type": "stream",
     "text": [
      "[32, 343, 43]\n",
      "[32, 343, 43]\n"
     ]
    }
   ],
   "source": [
    "# 114 filter positive numbers\n",
    "# Create a new list \"new_nums\" by using the \"filter\" function with a lambda function\n",
    "# that filters out positive numbers from the \"nums\" list.\n",
    "num = [32,343,-234,0,-33,43]\n",
    "filt = list(filter(lambda n: n>0, num))\n",
    "print(filt)\n",
    "\n",
    "# Create a new list \"pos_nums\" using a list comprehension to filter positive numbers from \"nums.\"\n",
    "# Positive numbers are those greater than 0.\n",
    "pos_nums = [n for n in num if n > 0]\n",
    "print(pos_nums)"
   ]
  },
  {
   "cell_type": "code",
   "execution_count": 48,
   "id": "b03408f1",
   "metadata": {},
   "outputs": [
    {
     "name": "stdout",
     "output_type": "stream",
     "text": [
      "Original list numbers:\n",
      "[10, 20, 30]\n",
      "\n",
      "Product of the said numbers (without using a for loop): 6000\n"
     ]
    }
   ],
   "source": [
    "# 115 product without for loop\n",
    "# Import the 'reduce' function from the 'functools' module.\n",
    "# reduce basically apply previous result with succeeding element\n",
    "from functools import reduce\n",
    "\n",
    "# Define a list named 'nums' containing a series of integers.\n",
    "nums = [10, 20, 30]\n",
    "\n",
    "# Print a message along with the original list of numbers.\n",
    "print(\"Original list numbers:\")\n",
    "print(nums)\n",
    "\n",
    "# Calculate the product of the numbers in the list 'nums' using the 'reduce' function\n",
    "# and a lambda function that multiplies two numbers.\n",
    "nums_product = reduce((lambda x, y: x * y), nums)\n",
    "\n",
    "# Print the product of the numbers, obtained without using a for loop.\n",
    "print(\"\\nProduct of the said numbers (without using a for loop):\", nums_product)\n"
   ]
  },
  {
   "cell_type": "code",
   "execution_count": 51,
   "id": "26d77c5c",
   "metadata": {},
   "outputs": [
    {
     "name": "stdout",
     "output_type": "stream",
     "text": [
      "\n",
      "Python Exercises - w3resource\n",
      "\n"
     ]
    }
   ],
   "source": [
    "# 116 unicode\n",
    "# Create a Unicode string by specifying each character's Unicode escape sequence.\n",
    "str = u'\\u0050\\u0079\\u0074\\u0068\\u006f\\u006e \\u0045\\u0078\\u0065\\u0072\\u0063\\u0069\\u0073\\u0065\\u0073 \\u002d \\u0077\\u0033\\u0072\\u0065\\u0073\\u006f\\u0075\\u0072\\u0063\\u0065'\n",
    "\n",
    "# Print a blank line for separation.\n",
    "print()\n",
    "\n",
    "# Print the Unicode string, which will be displayed as \"Python Exercises - w3resource\".\n",
    "print(str)\n",
    "\n",
    "# Print another blank line for separation.\n",
    "print()"
   ]
  },
  {
   "cell_type": "code",
   "execution_count": 53,
   "id": "fc9d1083",
   "metadata": {},
   "outputs": [
    {
     "name": "stdout",
     "output_type": "stream",
     "text": [
      "\n",
      "Memory location of str1 = 0x7ffd3ad283a8\n",
      "Memory location of str2 = 0x7ffd3ad283a8\n",
      "\n"
     ]
    },
    {
     "data": {
      "text/plain": [
       "140725590328232"
      ]
     },
     "execution_count": 53,
     "metadata": {},
     "output_type": "execute_result"
    }
   ],
   "source": [
    "# Define two string variables, str1 and str2, both containing the string \"Python\".\n",
    "str1 = \"Python\"\n",
    "str2 = \"Python\"\n",
    " \n",
    "# Print the memory location (in hexadecimal) of str1 and str2 using the id() function.\n",
    "print(\"\\nMemory location of str1 =\", hex(id(str1)))\n",
    "print(\"Memory location of str2 =\", hex(id(str2)))\n",
    "\n",
    "# Print a blank line for separation.\n",
    "print()\n",
    "id(str1)"
   ]
  },
  {
   "cell_type": "code",
   "execution_count": 54,
   "id": "259af250",
   "metadata": {},
   "outputs": [
    {
     "name": "stdout",
     "output_type": "stream",
     "text": [
      "\n",
      "10\n",
      "20\n",
      "56\n",
      "35\n",
      "17\n",
      "99\n",
      "\n"
     ]
    }
   ],
   "source": [
    "# Print a blank line for separation.\n",
    "print()\n",
    "\n",
    "# Create a list of integers called nums.\n",
    "nums = [10, 20, 56, 35, 17, 99]\n",
    "\n",
    "# Create a bytearray from the list of integers.\n",
    "values = bytearray(nums)\n",
    "\n",
    "# Iterate through the elements of the bytearray and print each element.\n",
    "for x in values:\n",
    "    print(x)\n",
    "\n",
    "# Print a blank line for separation.\n",
    "print()"
   ]
  },
  {
   "cell_type": "code",
   "execution_count": 77,
   "id": "fb10ed6e",
   "metadata": {},
   "outputs": [
    {
     "name": "stdout",
     "output_type": "stream",
     "text": [
      "Original string: 1234567890\n",
      "123456\n",
      "123456789\n",
      "1234567890\n",
      "4.345\n",
      "1234567890.000\n"
     ]
    },
    {
     "data": {
      "text/plain": [
       "[['4545', '454'], ['421', '2131']]"
      ]
     },
     "execution_count": 77,
     "metadata": {},
     "output_type": "execute_result"
    }
   ],
   "source": [
    "# Define a string containing a numeric value.\n",
    "str_num = \"1234567890\"\n",
    "\n",
    "# Print the original string.\n",
    "print(\"Original string:\", str_num)\n",
    "\n",
    "# Print the first 6 characters of the string.\n",
    "print('%.6s' % str_num)\n",
    "\n",
    "# Print the first 9 characters of the string.\n",
    "print('%.9s' % str_num)\n",
    "\n",
    "# Print the entire string (first 10 characters) as it is.\n",
    "print('%.10s' % str_num)\n",
    "\n",
    "print(f'{4.34453:.3f}')\n",
    "print(f'{float(str_num):.3f}')\n",
    "flo = float(str_num)\n",
    "split = ['4545.454','421.2131']\n",
    "flosplit = list(map(lambda num: num.split('.'), split))\n",
    "flosplit"
   ]
  },
  {
   "cell_type": "code",
   "execution_count": 83,
   "id": "53a128a3",
   "metadata": {},
   "outputs": [
    {
     "name": "stdout",
     "output_type": "stream",
     "text": [
      "[['4545', '454'], ['421', '2131']]\n"
     ]
    }
   ],
   "source": [
    "split = ['4545.454', '421.2131']\n",
    "flosplit = [num.split('.') for num in split]\n",
    "print(flosplit)"
   ]
  },
  {
   "cell_type": "code",
   "execution_count": 84,
   "id": "bc23cbd5",
   "metadata": {},
   "outputs": [
    {
     "name": "stdout",
     "output_type": "stream",
     "text": [
      "\n",
      "The total order amount comes to 212.374000\n",
      "The total order amount comes to 212.37\n",
      "\n"
     ]
    }
   ],
   "source": [
    "# Define the order amount as a floating-point number.\n",
    "order_amt = 212.374\n",
    "\n",
    "# Print the total order amount with 6 decimal places.\n",
    "print('\\nThe total order amount comes to %f' % order_amt)\n",
    "\n",
    "# Print the total order amount with 2 decimal places using string formatting.\n",
    "print('The total order amount comes to %.2f' % order_amt)\n",
    "\n",
    "# Print a blank line for formatting.\n",
    "print()"
   ]
  },
  {
   "cell_type": "code",
   "execution_count": 12,
   "id": "c81dc7c9",
   "metadata": {},
   "outputs": [
    {
     "name": "stdout",
     "output_type": "stream",
     "text": [
      "alph\n",
      "alph\n",
      "323.23\n",
      "3231\n"
     ]
    }
   ],
   "source": [
    "string = 'alphabat'\n",
    "floati = 323.23213\n",
    "print(string[:4]) # str/int/float slicing\n",
    "print(f'{string:.4s}') # f-strings formatting string works together\n",
    "print(f'{floati:.2f}') # f-strings formatting float works together\n",
    "print(f'{str(int_num):.4}') # f-strings formatting str(int) works together"
   ]
  },
  {
   "cell_type": "code",
   "execution_count": 34,
   "id": "784d833c",
   "metadata": {},
   "outputs": [
    {
     "name": "stdout",
     "output_type": "stream",
     "text": [
      "string: 123456\n",
      "floating: 1234567890.000000\n",
      "integer: 001234567890\n",
      "345678\n"
     ]
    }
   ],
   "source": [
    "str_num = \"1234567890\"\n",
    "\n",
    "# Print the first 6 characters of the string.\n",
    "print('string: %.6s' % str_num)\n",
    "print('floating: %.6f' % float(str_num))\n",
    "print('integer: %.12i' % int(str_num))\n",
    "\n",
    "print(str_num[2:-2])"
   ]
  },
  {
   "cell_type": "code",
   "execution_count": 37,
   "id": "eadc6061",
   "metadata": {},
   "outputs": [
    {
     "data": {
      "text/plain": [
       "{}"
      ]
     },
     "execution_count": 37,
     "metadata": {},
     "output_type": "execute_result"
    }
   ],
   "source": [
    "# 122 empty a variable without destroying it\n",
    "n=20\n",
    "d = {\"x\":200}\n",
    "d.clear()\n",
    "d"
   ]
  },
  {
   "cell_type": "code",
   "execution_count": 61,
   "id": "4f885be2",
   "metadata": {},
   "outputs": [
    {
     "name": "stdout",
     "output_type": "stream",
     "text": [
      "0\n",
      "{'y': 20}\n",
      "[]\n",
      "['nibble', 'mible']\n",
      "['nibble', 'mible']\n",
      "()\n"
     ]
    }
   ],
   "source": [
    "# Define a variable n with a value of 20.\n",
    "n = 20\n",
    "\n",
    "# Define a dictionary d with a key \"x\" and a value of 200.\n",
    "d = {\"x\": 200}\n",
    "\n",
    "# Define a list l with elements 1, 3, and 5.\n",
    "l = [1, 3, 5]\n",
    "\n",
    "# Define a tuple t with elements 5, 7, and 8.\n",
    "t = (5, 7, 8)\n",
    "\n",
    "# Print the type of n and create an instance of that type with no arguments.\n",
    "print(type(n)())\n",
    "\n",
    "# Print the type of d and create an instance of that type with no arguments.\n",
    "print(type(d)({'y':20}))\n",
    "\n",
    "# Print the type of l and create an instance of that type with no arguments.\n",
    "print(type(l)())\n",
    "print(type(l)(['nibble','mible']))\n",
    "print(type(l)(list(('nibble','mible'))))\n",
    "# Print the type of t and create an instance of that type with no arguments.\n",
    "print(type(t)())"
   ]
  },
  {
   "cell_type": "code",
   "execution_count": 62,
   "id": "5557720c",
   "metadata": {},
   "outputs": [
    {
     "name": "stdout",
     "output_type": "stream",
     "text": [
      "Float value information:  sys.float_info(max=1.7976931348623157e+308, max_exp=1024, max_10_exp=308, min=2.2250738585072014e-308, min_exp=-1021, min_10_exp=-307, dig=15, mant_dig=53, epsilon=2.220446049250313e-16, radix=2, rounds=1)\n",
      "\n",
      "Integer value information:  sys.int_info(bits_per_digit=30, sizeof_digit=4, default_max_str_digits=4300, str_digits_check_threshold=640)\n",
      "\n",
      "Maximum size of an integer:  9223372036854775807\n"
     ]
    }
   ],
   "source": [
    "# Import the sys module to access system-related information.\n",
    "import sys\n",
    "\n",
    "# Print information about the float data type.\n",
    "print(\"Float value information: \", sys.float_info)\n",
    "\n",
    "# Print information about the integer data type (Note: there is no sys.int_info, this is incorrect).\n",
    "print(\"\\nInteger value information: \", sys.int_info)\n",
    "\n",
    "# Print the maximum size of an integer that can be represented on the current system.\n",
    "print(\"\\nMaximum size of an integer: \", sys.maxsize)"
   ]
  },
  {
   "cell_type": "code",
   "execution_count": 68,
   "id": "d0467e38",
   "metadata": {},
   "outputs": [
    {
     "name": "stdout",
     "output_type": "stream",
     "text": [
      "Duplicates: [34, 32]\n"
     ]
    }
   ],
   "source": [
    "numlist = [34, 32, 54, 34, 52, 55, 32]\n",
    "seen = []\n",
    "duplicates = []\n",
    "for num in numlist:\n",
    "    if num in seen:\n",
    "        duplicates.append(num)\n",
    "    else:\n",
    "        seen.append(num)\n",
    "\n",
    "print(\"Duplicates:\", duplicates)\n"
   ]
  },
  {
   "cell_type": "code",
   "execution_count": 79,
   "id": "5878517c",
   "metadata": {},
   "outputs": [
    {
     "name": "stdout",
     "output_type": "stream",
     "text": [
      "C\n",
      "O\n",
      "W\n",
      "has lowercase:  ['o', 'e', 'e', 'o', 'o']\n"
     ]
    }
   ],
   "source": [
    "# 128 find lowercase\n",
    "for i in 'COW':\n",
    "    print(i)\n",
    "\n",
    "sentence = 'THE COW JUMPED oVeR THe MooN'\n",
    "lowercase = []\n",
    "for i in sentence:\n",
    "    if i.islower():\n",
    "        lowercase.append(i)\n",
    "\n",
    "if len(lowercase)==0:\n",
    "    print('no lowercase')\n",
    "else:\n",
    "    print('has lowercase: ', lowercase)\n",
    "    "
   ]
  },
  {
   "cell_type": "code",
   "execution_count": 89,
   "id": "00af7188",
   "metadata": {},
   "outputs": [
    {
     "name": "stdout",
     "output_type": "stream",
     "text": [
      "Original String:  122.22\n",
      "\n",
      "Added trailing zeros:\n",
      "122.2200\n",
      "00122.22\n"
     ]
    }
   ],
   "source": [
    "# Define the original string 'str1'.\n",
    "str1 = '122.22'\n",
    "print(\"Original String: \", str1)\n",
    "\n",
    "# Print a message to indicate the purpose of the code.\n",
    "print(\"\\nAdded trailing zeros:\")\n",
    "\n",
    "# Use the 'ljust' method to add trailing zeros to 'str1' to make its total width 8.\n",
    "print(str1.ljust(8, '0'))\n",
    "\n",
    "# Use the 'rjust' method to add leading zeros to 'str1' to make its total width 8.\n",
    "print(str1.rjust(8, '0'))\n"
   ]
  },
  {
   "cell_type": "code",
   "execution_count": 88,
   "id": "33aae7e6",
   "metadata": {},
   "outputs": [
    {
     "name": "stdout",
     "output_type": "stream",
     "text": [
      "Original String:  122.22\n",
      "\n",
      "Added trailing zeros:\n",
      "122.2200\n",
      "122.220000\n",
      "\n",
      "Added leading zeros:\n",
      "00122.22\n",
      "0000122.22\n"
     ]
    }
   ],
   "source": [
    "# Define the original string 'str1'.\n",
    "str1 = '122.22'\n",
    "print(\"Original String: \", str1)\n",
    "\n",
    "# Print a message to indicate the purpose of the code.\n",
    "print(\"\\nAdded trailing zeros:\")\n",
    "\n",
    "# Define a format text with left alignment and total width of 8.\n",
    "f_text = '{:<08}'\n",
    "\n",
    "# Use the 'format' method to add trailing zeros to 'str1' according to the format text.\n",
    "str1 = f_text.format(str1)\n",
    "print(str1)\n",
    "\n",
    "# Define a format text with left alignment and total width of 10.\n",
    "f_text = '{:<010}'\n",
    "\n",
    "# Repeat the process to make the total width 10.\n",
    "str1 = f_text.format(str1)\n",
    "print(str1)\n",
    "\n",
    "# Print a message to indicate the addition of leading zeros.\n",
    "print(\"\\nAdded leading zeros:\")\n",
    "\n",
    "# Reset 'str1' to the original value.\n",
    "str1 = '122.22'\n",
    "\n",
    "# Define a format text with right alignment and total width of 8.\n",
    "f_text = '{:>08}'\n",
    "\n",
    "# Use the 'format' method to add leading zeros to 'str1' according to the format text.\n",
    "str1 = f_text.format(str1)\n",
    "print(str1)\n",
    "\n",
    "# Define a format text with right alignment and total width of 10.\n",
    "f_text = '{:>010}'\n",
    "\n",
    "# Repeat the process to make the total width 10.\n",
    "str1 = f_text.format(str1)\n",
    "print(str1)\n"
   ]
  },
  {
   "cell_type": "code",
   "execution_count": 91,
   "id": "50c8df6a",
   "metadata": {},
   "outputs": [
    {
     "name": "stdout",
     "output_type": "stream",
     "text": [
      "{\"Alex\": 1, \"Suresh\": 2, \"Agnessa\": 3}\n"
     ]
    }
   ],
   "source": [
    "# 130 Use double quotes to display strings\n",
    "# Import the 'json' module to work with JSON data.\n",
    "import json\n",
    "# Create a Python dictionary with key-value pairs.\n",
    "data = {'Alex': 1, 'Suresh': 2, 'Agnessa': 3}\n",
    "\n",
    "# Use the 'json.dumps()' function to convert the dictionary to a JSON-formatted string and print it.\n",
    "json_string = json.dumps(data)\n",
    "print(json_string)"
   ]
  },
  {
   "cell_type": "code",
   "execution_count": 92,
   "id": "d4ea715c",
   "metadata": {},
   "outputs": [
    {
     "name": "stdout",
     "output_type": "stream",
     "text": [
      "a b c\n",
      "100 20.25\n"
     ]
    }
   ],
   "source": [
    "# 131 \n",
    "# Create a list of variables 'x', 'y', and 'z'.\n",
    "var_list = ['a', 'b', 'c']\n",
    "\n",
    "# Assign the first three elements of 'var_list' to 'x', 'y', and 'z'. Use [None] * 3 to ensure enough elements are available.\n",
    "x, y, z = (var_list + [None] * 3)[:3]\n",
    "\n",
    "# Print the values of 'x', 'y', and 'z'.\n",
    "print(x, y, z)\n",
    "\n",
    "# Create a new list of variables 'x' and 'y'.\n",
    "var_list = [100, 20.25]\n",
    "\n",
    "# Assign the first two elements of 'var_list' to 'x' and 'y'. Use [None] * 2 to ensure enough elements are available.\n",
    "x, y = (var_list + [None] * 2)[:2]\n",
    "\n",
    "# Print the values of 'x' and 'y'.\n",
    "print(x, y)\n"
   ]
  },
  {
   "cell_type": "code",
   "execution_count": 93,
   "id": "4f457ac0",
   "metadata": {},
   "outputs": [
    {
     "name": "stdout",
     "output_type": "stream",
     "text": [
      "C:\\Users\\PC\n"
     ]
    }
   ],
   "source": [
    "# Import the 'os.path' module to work with file paths and directories.\n",
    "import os.path\n",
    "# Use the 'os.path.expanduser()' function to expand the '~' character to the user's home directory.\n",
    "# It returns the absolute path to the user's home directory.\n",
    "print(os.path.expanduser('~'))"
   ]
  },
  {
   "cell_type": "code",
   "execution_count": 94,
   "id": "da0db0f4",
   "metadata": {},
   "outputs": [
    {
     "name": "stdout",
     "output_type": "stream",
     "text": [
      "0\n",
      "1\n",
      "2\n",
      "3\n",
      "4\n",
      "0.00017369980923831463\n",
      "0\n",
      "1\n",
      "2\n",
      "3\n",
      "4\n",
      "5\n",
      "6\n",
      "7\n",
      "8\n",
      "9\n",
      "10\n",
      "11\n",
      "12\n",
      "13\n",
      "14\n",
      "4.5999884605407715e-05\n"
     ]
    }
   ],
   "source": [
    "# Import the 'default_timer' function from the 'timeit' module to measure elapsed time.\n",
    "from timeit import default_timer\n",
    "# Define a function 'timer' that takes an argument 'n'.\n",
    "def timer(n):\n",
    "    # Record the current time using the 'default_timer' function.\n",
    "    start = default_timer()\n",
    "   \n",
    "    # Some code here (in this case, a loop to print numbers from 0 to 'n').\n",
    "    for row in range(0, n):\n",
    "        print(row)\n",
    "    \n",
    "    # Calculate the elapsed time by subtracting the start time from the current time,\n",
    "    # and print the result.\n",
    "    print(default_timer() - start)\n",
    "\n",
    "# Call the 'timer' function with different values of 'n' to measure the execution time.\n",
    "timer(5)\n",
    "timer(15)\n"
   ]
  },
  {
   "cell_type": "code",
   "execution_count": 96,
   "id": "73c5cdd9",
   "metadata": {},
   "outputs": [
    {
     "name": "stdout",
     "output_type": "stream",
     "text": [
      "Input the value of x & y\n",
      "454 545\n",
      "The value of x & y are:  454 545\n"
     ]
    }
   ],
   "source": [
    "# Print a message to instruct the user to input the values of 'x' and 'y'.\n",
    "print(\"Input the value of x & y\")\n",
    "\n",
    "# Use 'map' to apply the 'int' function to the input values and split them into variables 'x' and 'y'.\n",
    "x, y = map(int, input().split())\n",
    "\n",
    "# Print the values of 'x' and 'y' after they have been assigned.\n",
    "print(\"The value of x & y are: \", x, y)"
   ]
  },
  {
   "cell_type": "code",
   "execution_count": 97,
   "id": "bc39ec44",
   "metadata": {},
   "outputs": [
    {
     "name": "stdout",
     "output_type": "stream",
     "text": [
      "Input the value of a & b: 12 12\n",
      "The value of a & b are: 12 12\n"
     ]
    }
   ],
   "source": [
    "# Prompt the user to input the values of 'a' and 'b' and split the input by spaces.\n",
    "a, b = [int(a) for a in input(\"Input the value of a & b: \").split()]\n",
    "\n",
    "# Print the values of 'a' and 'b' after they have been assigned.\n",
    "print(\"The value of a & b are:\", a, b)"
   ]
  },
  {
   "cell_type": "code",
   "execution_count": 110,
   "id": "68b35f6d",
   "metadata": {},
   "outputs": [
    {
     "name": "stdout",
     "output_type": "stream",
     "text": [
      "Value of x is \"30\"\n"
     ]
    }
   ],
   "source": [
    "# Assign the value 30 to the variable 'x'.\n",
    "x = 30\n",
    "# Use the 'format' method to create a formatted string that includes the value of 'x'.\n",
    "# The curly braces {} are placeholders that will be replaced by the value of 'x'.\n",
    "formatted_string = f'Value of x is \\\"{x}\\\"'\n",
    "\n",
    "# Print the formatted string, which includes the value of 'x'.\n",
    "print(formatted_string)\n"
   ]
  },
  {
   "cell_type": "code",
   "execution_count": 111,
   "id": "a8f3d7cf",
   "metadata": {},
   "outputs": [
    {
     "ename": "FileNotFoundError",
     "evalue": "[WinError 3] The system cannot find the path specified: 'd:/'",
     "output_type": "error",
     "traceback": [
      "\u001b[1;31m---------------------------------------------------------------------------\u001b[0m",
      "\u001b[1;31mFileNotFoundError\u001b[0m                         Traceback (most recent call last)",
      "Cell \u001b[1;32mIn[111], line 8\u001b[0m\n\u001b[0;32m      5\u001b[0m user_path \u001b[38;5;241m=\u001b[39m \u001b[38;5;124m'\u001b[39m\u001b[38;5;124md:/\u001b[39m\u001b[38;5;124m'\u001b[39m\n\u001b[0;32m      7\u001b[0m \u001b[38;5;66;03m# Iterate through the entries in the 'user_path' directory.\u001b[39;00m\n\u001b[1;32m----> 8\u001b[0m \u001b[38;5;28;01mfor\u001b[39;00m fname \u001b[38;5;129;01min\u001b[39;00m os\u001b[38;5;241m.\u001b[39mlistdir(user_path):\n\u001b[0;32m      9\u001b[0m     \u001b[38;5;66;03m# Construct the full path to the entry using 'os.path.join'.\u001b[39;00m\n\u001b[0;32m     10\u001b[0m     path \u001b[38;5;241m=\u001b[39m os\u001b[38;5;241m.\u001b[39mpath\u001b[38;5;241m.\u001b[39mjoin(user_path, fname)\n\u001b[0;32m     12\u001b[0m     \u001b[38;5;66;03m# Check if the entry is a directory.\u001b[39;00m\n",
      "\u001b[1;31mFileNotFoundError\u001b[0m: [WinError 3] The system cannot find the path specified: 'd:/'"
     ]
    }
   ],
   "source": [
    "# Import the 'os' module to work with the operating system.\n",
    "import os\n",
    "\n",
    "# Set the 'user_path' variable to the directory path where you want to list files.\n",
    "user_path = 'd:/'\n",
    "\n",
    "# Iterate through the entries in the 'user_path' directory.\n",
    "for fname in os.listdir(user_path):\n",
    "    # Construct the full path to the entry using 'os.path.join'.\n",
    "    path = os.path.join(user_path, fname)\n",
    "\n",
    "    # Check if the entry is a directory.\n",
    "    if os.path.isdir(path):\n",
    "        # If it's a directory, skip it and continue to the next entry.\n",
    "        continue\n",
    "\n",
    "    # If it's not a directory, it's a file, so print its name.\n",
    "    print(fname)\n"
   ]
  },
  {
   "cell_type": "code",
   "execution_count": 112,
   "id": "53f9a242",
   "metadata": {},
   "outputs": [
    {
     "name": "stdout",
     "output_type": "stream",
     "text": [
      "1\n",
      "0\n"
     ]
    }
   ],
   "source": [
    "# Set the variable 'x' to the string 'true'.\n",
    "x = 'true'\n",
    "\n",
    "# Use the comparison 'x == 'true'' to check if 'x' is equal to the string 'true'. \n",
    "# The result of this comparison will be either True or False.\n",
    "\n",
    "# Convert the result (True or False) into an integer (1 or 0) using the 'int()' function.\n",
    "x = int(x == 'true')\n",
    "\n",
    "# Print the value of 'x' after conversion. \n",
    "# If 'x' was 'true', it will be converted to 1 (True), and if 'x' was not 'true', it will be converted to 0 (False).\n",
    "print(x)\n",
    "\n",
    "# Set the variable 'x' to the string 'abcd'.\n",
    "x = 'abcd'\n",
    "\n",
    "# Repeat the same process: Use the comparison 'x == 'true'' to check if 'x' is equal to the string 'true'. \n",
    "# Convert the result (True or False) into an integer (1 or 0) using the 'int()' function.\n",
    "x = int(x == 'true')\n",
    "\n",
    "# Print the value of 'x' after conversion. \n",
    "# Since 'x' was not 'true', it will be converted to 0 (False).\n",
    "print(x)\n"
   ]
  },
  {
   "cell_type": "code",
   "execution_count": 113,
   "id": "ad79aa6a",
   "metadata": {},
   "outputs": [
    {
     "name": "stdout",
     "output_type": "stream",
     "text": [
      "Invalid IP\n"
     ]
    }
   ],
   "source": [
    "# Import the 'socket' module to work with networking functionalities.\n",
    "import socket\n",
    "# Define the 'addr' variable with an IP address string. This IP address is '127.0.0.2561',\n",
    "# which is intentionally an invalid IP address.\n",
    "\n",
    "addr = '127.0.0.2561'\n",
    "\n",
    "# Start a try-except block to catch potential errors.\n",
    "\n",
    "try:\n",
    "    # Use the 'socket.inet_aton()' function to attempt to convert the IP address string into a packed binary format.\n",
    "    socket.inet_aton(addr)\n",
    "\n",
    "    # If the 'inet_aton()' function succeeds without raising an error, it is a valid IP address.\n",
    "\n",
    "    # Print a message indicating that the IP address is valid.\n",
    "    print(\"Valid IP\")\n",
    "\n",
    "except socket.error:\n",
    "    # If the 'inet_aton()' function raises a 'socket.error', it is not a valid IP address.\n",
    "\n",
    "    # Print a message indicating that the IP address is invalid.\n",
    "    print(\"Invalid IP\")"
   ]
  },
  {
   "cell_type": "code",
   "execution_count": 114,
   "id": "2871ab41",
   "metadata": {},
   "outputs": [
    {
     "name": "stdout",
     "output_type": "stream",
     "text": [
      "\n",
      " 10.0.0.0 -> Valid IP address\n",
      "\n",
      " 10.255.255.255 -> Valid IP address\n",
      "\n",
      " 192.168.255.0 -> Valid IP address\n",
      "\n",
      " 266.1.0.2 -> Invalid IP address\n",
      "\n",
      " 01.102.103.104 -> Invalid IP address\n"
     ]
    }
   ],
   "source": [
    "# Import the 're' module to work with regular expressions.\n",
    "import re \n",
    "# Define a regular expression pattern 'ip_regex' to match valid IP addresses.\n",
    "# This pattern is structured to match IPv4 addresses in the format 'X.X.X.X',\n",
    "# where X is a number ranging from 0 to 255.\n",
    "\n",
    "ip_regex = \"^((25[0-5]|2[0-4][0-9]|1[0-9][0-9]|[1-9]?[0-9])\\.){3}(25[0-5]|2[0-4][0-9]|1[0-9][0-9]|[1-9]?[0-9])$\"\n",
    "\n",
    "# Define a function 'check_ip_address' that takes a user-provided IP address as input.\n",
    "def check_ip_address(user_ip):\n",
    "    # Use the 're.search()' function to check if the user-provided IP address matches the 'ip_regex' pattern.\n",
    "    if re.search(ip_regex, user_ip):\n",
    "        # If the IP address matches the pattern, return \"Valid IP address.\"\n",
    "        return \"Valid IP address\"\n",
    "    else:\n",
    "        # If the IP address does not match the pattern, return \"Invalid IP address.\"\n",
    "        return \"Invalid IP address\"\n",
    "\n",
    "# Test the 'check_ip_address' function with different IP addresses.\n",
    "user_ip = \"10.0.0.0\"\n",
    "print(\"\\n\", user_ip, \"->\", check_ip_address(user_ip))\n",
    "user_ip = \"10.255.255.255\"\n",
    "print(\"\\n\", user_ip, \"->\", check_ip_address(user_ip))\n",
    "user_ip = \"192.168.255.0\"\n",
    "print(\"\\n\", user_ip, \"->\", check_ip_address(user_ip))\n",
    "user_ip = \"266.1.0.2\"\n",
    "print(\"\\n\", user_ip, \"->\", check_ip_address(user_ip))\n",
    "user_ip = \"01.102.103.104\"\n",
    "print(\"\\n\", user_ip, \"->\", check_ip_address(user_ip))\n"
   ]
  },
  {
   "cell_type": "code",
   "execution_count": 117,
   "id": "fe7ab0b0",
   "metadata": {},
   "outputs": [
    {
     "name": "stdout",
     "output_type": "stream",
     "text": [
      "1e\n",
      "4\n"
     ]
    }
   ],
   "source": [
    "# Define an integer variable 'x' with the value 30.\n",
    "x = 30\n",
    "# Print the hexadecimal representation of 'x' with leading zeros.\n",
    "# The 'format' function is used with the format specifier '02x' to format 'x' as a 2-character lowercase hexadecimal string.\n",
    "# It ensures that there are leading zeros to make it 2 characters long.\n",
    "print(format(x, '02x'))\n",
    "\n",
    "# Define an integer variable 'x' with the value 4.\n",
    "x = 4\n",
    "# Print the hexadecimal representation of 'x' with leading zeros.\n",
    "# The 'format' function is used with the format specifier '02x' to format 'x' as a 2-character lowercase hexadecimal string.\n",
    "# It ensures that there are leading zeros to make it 2 characters long.\n",
    "print(format(x, '0x'))\n"
   ]
  },
  {
   "cell_type": "code",
   "execution_count": 120,
   "id": "30e7f2f2",
   "metadata": {},
   "outputs": [
    {
     "name": "stdout",
     "output_type": "stream",
     "text": [
      "00001100\n",
      "0000001100\n"
     ]
    }
   ],
   "source": [
    "# Define an integer variable 'x' with the value 12.\n",
    "x = 12\n",
    "# Print the binary representation of 'x' with leading zeros.\n",
    "# The 'format' function is used with the format specifier '08b' to format 'x' as an 8-character binary string.\n",
    "# It ensures that there are leading zeros to make it 8 characters long.\n",
    "print(format(x, '08b'))\n",
    "# Print the binary representation of 'x' with leading zeros.\n",
    "# The 'format' function is used with the format specifier '010b' to format 'x' as a 10-character binary string.\n",
    "# It ensures that there are leading zeros to make it 10 characters long.\n",
    "print(format(x, '010b'))\n"
   ]
  },
  {
   "cell_type": "code",
   "execution_count": 121,
   "id": "e4b0e923",
   "metadata": {},
   "outputs": [
    {
     "name": "stdout",
     "output_type": "stream",
     "text": [
      "64\n"
     ]
    }
   ],
   "source": [
    "# Import the 'struct' module for working with C-style data in Python.\n",
    "import struct\n",
    "# Use 'struct.calcsize(\"P\")' to calculate the size of a C 'void *' pointer in bytes and 'struct.calcsize(\"P\") * 8' to convert it to bits.\n",
    "\n",
    "# Print the result, which represents the size of a C 'void *' pointer in bits.\n",
    "print(struct.calcsize(\"P\") * 8)\n"
   ]
  },
  {
   "cell_type": "code",
   "execution_count": 122,
   "id": "1a9572a9",
   "metadata": {},
   "outputs": [
    {
     "name": "stdout",
     "output_type": "stream",
     "text": [
      "True\n",
      "False\n",
      "True\n"
     ]
    }
   ],
   "source": [
    "# Check if 25 is an instance of an integer (int) or a string (str).\n",
    "print(isinstance(25, int) or isinstance(25, str))\n",
    "\n",
    "# Check if the list containing 25 is an instance of an integer (int) or a string (str).\n",
    "print(isinstance([25], int) or isinstance([25], str))\n",
    "\n",
    "# Check if the string \"25\" is an instance of an integer (int) or a string (str).\n",
    "print(isinstance(\"25\", int) or isinstance(\"25\", str))"
   ]
  },
  {
   "cell_type": "code",
   "execution_count": 123,
   "id": "4e61a39e",
   "metadata": {},
   "outputs": [
    {
     "data": {
      "text/plain": [
       "int"
      ]
     },
     "execution_count": 123,
     "metadata": {},
     "output_type": "execute_result"
    }
   ],
   "source": [
    "type(55)"
   ]
  },
  {
   "cell_type": "code",
   "execution_count": 124,
   "id": "fcd1df1c",
   "metadata": {},
   "outputs": [
    {
     "name": "stdout",
     "output_type": "stream",
     "text": [
      "x is a tuple\n"
     ]
    }
   ],
   "source": [
    "#x = ['a', 'b', 'c', 'd']\n",
    "#x = {'a', 'b', 'c', 'd'}\n",
    "# Define a variable x with different data types (list, set, or tuple).\n",
    "x = ('tuple', False, 3.2, 1)\n",
    "\n",
    "# Check the type of x using the 'type()' function and print a message accordingly.\n",
    "if type(x) is list:\n",
    "    print('x is a list')\n",
    "elif type(x) is set:\n",
    "    print('x is a set')\n",
    "elif type(x) is tuple:\n",
    "    print('x is a tuple')    \n",
    "else:\n",
    "    print('Neither a list nor a set nor a tuple.')\n"
   ]
  },
  {
   "cell_type": "code",
   "execution_count": 126,
   "id": "7bd8cc99",
   "metadata": {},
   "outputs": [
    {
     "name": "stdout",
     "output_type": "stream",
     "text": [
      "True\n",
      "False\n"
     ]
    }
   ],
   "source": [
    "# Define a function named 'multiple' that takes two arguments, 'm' and 'n'.\n",
    "def multiple(m, n):\n",
    "    # Check if 'm' is a multiple of 'n' by using the modulo operator.\n",
    "    # If the remainder is 0, return True, indicating 'm' is a multiple of 'n'.\n",
    "    # Otherwise, return False.\n",
    "    return True if m % n == 0 else False\n",
    "\n",
    "# Call the 'multiple' function with different arguments and print the results.\n",
    "print(multiple(20, 5))  # Check if 20 is a multiple of 5 and print the result.\n",
    "print(multiple(7, 2))   # Check if 7 is a multiple of 2 and print the result.\n"
   ]
  },
  {
   "cell_type": "code",
   "execution_count": 131,
   "id": "811ea96b",
   "metadata": {},
   "outputs": [
    {
     "name": "stdout",
     "output_type": "stream",
     "text": [
      "(75, -5)\n",
      "-5 75\n"
     ]
    }
   ],
   "source": [
    "# Define a function named 'max_min' that takes a list 'data' as its argument.\n",
    "def max_min(data):\n",
    "    # Initialize two variables 'l' and 's' with the first element of the 'data' list.\n",
    "    l = data[0]  # 'l' is used to keep track of the maximum value.\n",
    "    s = data[0]  # 's' is used to keep track of the minimum value.\n",
    "    \n",
    "    # Iterate through each number 'num' in the 'data' list.\n",
    "    for num in data:\n",
    "        # Check if the current number 'num' is greater than the current maximum 'l'.\n",
    "        if num > l:\n",
    "            l = num  # If 'num' is greater, update 'l' with 'num'.\n",
    "        # Check if the current number 'num' is smaller than the current minimum 's'.\n",
    "        elif num < s:\n",
    "            s = num  # If 'num' is smaller, update 's' with 'num'.\n",
    "    \n",
    "    # Return the maximum 'l' and minimum 's' values as a tuple.\n",
    "    return l, s\n",
    "\n",
    "# Call the 'max_min' function with a list of numbers and print the result.\n",
    "lists = [0, 10, 15, 40, -5, 42, 17, 28, 75] \n",
    "print(max_min(lists))\n",
    "print(min(lists), max(lists))"
   ]
  },
  {
   "cell_type": "code",
   "execution_count": 136,
   "id": "1b6305ed",
   "metadata": {},
   "outputs": [
    {
     "data": {
      "text/plain": [
       "784"
      ]
     },
     "execution_count": 136,
     "metadata": {},
     "output_type": "execute_result"
    }
   ],
   "source": [
    "# 149 cube python \n",
    "def cubing(num_value):\n",
    "    total = 0\n",
    "    for num in range(num_value-1):\n",
    "        total += num **3\n",
    "    return total\n",
    "cubing(9)"
   ]
  },
  {
   "cell_type": "code",
   "execution_count": 137,
   "id": "e82d36e9",
   "metadata": {},
   "outputs": [
    {
     "name": "stdout",
     "output_type": "stream",
     "text": [
      "[2, 4, 6, 8] False\n",
      "[1, 6, 4, 7, 8] True\n",
      "[1, 3, 5, 7, 9] True\n"
     ]
    }
   ],
   "source": [
    "# Define a function named 'odd_product' that takes a list 'nums' as its argument.\n",
    "def odd_product(nums):\n",
    "    # Iterate through the indices of the 'nums' list using nested loops.\n",
    "    for i in range(len(nums)):\n",
    "        for j in range(len(nums)):\n",
    "            # Check if 'i' and 'j' are different indices to avoid multiplying the same number.\n",
    "            if i != j:\n",
    "                # Calculate the product of elements at indices 'i' and 'j'.\n",
    "                product = nums[i] * nums[j]\n",
    "                # Check if the product is an odd number (using bitwise AND with 1).\n",
    "                if product & 1:\n",
    "                    # If an odd product is found, return True immediately.\n",
    "                    return True\n",
    "    # If no odd product is found, return False.\n",
    "    return False\n",
    "\n",
    "# Define three lists of integers.\n",
    "dt1 = [2, 4, 6, 8]\n",
    "dt2 = [1, 6, 4, 7, 8]\n",
    "dt3 = [1, 3, 5, 7, 9]\n",
    "\n",
    "# Call the 'odd_product' function for each list and print the result.\n",
    "print(dt1, odd_product(dt1))\n",
    "print(dt2, odd_product(dt2))\n",
    "print(dt3, odd_product(dt3))\n"
   ]
  },
  {
   "cell_type": "code",
   "execution_count": 138,
   "id": "d11ec818",
   "metadata": {},
   "outputs": [
    {
     "name": "stdout",
     "output_type": "stream",
     "text": [
      "Original sequence:\n",
      "[2, 4, 6, 8]\n",
      "Distinct pair of numbers whose product is odd present in the said sequence:\n",
      "[]\n",
      "\n",
      "Original sequence:\n",
      "[1, 6, 4, 7, 8]\n",
      "Distinct pair of numbers whose product is odd present in the said sequence:\n",
      "['1 * 7']\n",
      "\n",
      "Original sequence:\n",
      "[1, 3, 5, 7, 9]\n",
      "Distinct pair of numbers whose product is odd present in the said sequence:\n",
      "['1 * 3', '1 * 5', '1 * 7', '1 * 9', '3 * 5', '3 * 7', '3 * 9', '5 * 7', '5 * 9', '7 * 9']\n"
     ]
    }
   ],
   "source": [
    "# Import the itertools module to work with combinations of numbers.\n",
    "import itertools\n",
    "\n",
    "# Define a function named 'pair_nums_odd' that takes a list 'nums' as its argument.\n",
    "def pair_nums_odd(nums):\n",
    "    # Create a set of unique numbers from the input list.\n",
    "    uniquelist = set(nums)\n",
    "    # Initialize an empty list 'result' to store pairs whose product is odd.\n",
    "    result = []\n",
    "    # Iterate through all distinct pairs of numbers from 'uniquelist'.\n",
    "    for n in itertools.combinations(uniquelist, 2):\n",
    "        # Check if the product of the pair is an odd number.\n",
    "        if ((n[0] * n[1]) % 2 == 1):\n",
    "            # Create a string representation of the pair.\n",
    "            temp = str(n[0]) + \" * \" + str(n[1])\n",
    "            # Append the string to the 'result' list.\n",
    "            result.append(temp)\n",
    "    # Return the list of distinct pairs with odd products.\n",
    "    return result\n",
    "\n",
    "# Define three lists of integers.\n",
    "dt1 = [2, 4, 6, 8]\n",
    "dt2 = [1, 6, 4, 7, 8]\n",
    "dt3 = [1, 3, 5, 7, 9]\n",
    "\n",
    "# Print the original sequence and the distinct pairs with odd products for each list.\n",
    "print(\"Original sequence:\")\n",
    "print(dt1)\n",
    "print(\"Distinct pair of numbers whose product is odd present in the said sequence:\")\n",
    "print(pair_nums_odd(dt1))\n",
    "\n",
    "print(\"\\nOriginal sequence:\")\n",
    "print(dt2)\n",
    "print(\"Distinct pair of numbers whose product is odd present in the said sequence:\")\n",
    "print(pair_nums_odd(dt2))\n",
    "\n",
    "print(\"\\nOriginal sequence:\")\n",
    "print(dt3)\n",
    "print(\"Distinct pair of numbers whose product is odd present in the said sequence:\")\n",
    "print(pair_nums_odd(dt3))\n"
   ]
  },
  {
   "cell_type": "code",
   "execution_count": 139,
   "id": "fdb83967",
   "metadata": {},
   "outputs": [
    {
     "name": "stdout",
     "output_type": "stream",
     "text": [
      "Original sequence:\n",
      "[2, 4, 6, 8]\n",
      "Distinct pair of numbers whose product is odd present in the said sequence:\n",
      "[]\n",
      "\n",
      "Original sequence:\n",
      "[1, 6, 4, 7, 8]\n",
      "Distinct pair of numbers whose product is odd present in the said sequence:\n",
      "['1 * 7']\n",
      "\n",
      "Original sequence:\n",
      "[1, 3, 5, 7, 9]\n",
      "Distinct pair of numbers whose product is odd present in the said sequence:\n",
      "['1 * 3', '1 * 5', '1 * 7', '1 * 9', '3 * 5', '3 * 7', '3 * 9', '5 * 7', '5 * 9', '7 * 9']\n"
     ]
    }
   ],
   "source": [
    "import itertools\n",
    "\n",
    "def pair_nums_odd(nums):\n",
    "    # Filter the list to include only odd numbers\n",
    "    odd_nums = [num for num in set(nums) if num % 2 == 1]\n",
    "    # Generate all possible pairs of odd numbers\n",
    "    result = [f\"{a} * {b}\" for a, b in itertools.combinations(odd_nums, 2)]\n",
    "    return result\n",
    "\n",
    "# Define three lists of integers.\n",
    "dt1 = [2, 4, 6, 8]\n",
    "dt2 = [1, 6, 4, 7, 8]\n",
    "dt3 = [1, 3, 5, 7, 9]\n",
    "\n",
    "# Print the original sequence and the distinct pairs with odd products for each list.\n",
    "print(\"Original sequence:\")\n",
    "print(dt1)\n",
    "print(\"Distinct pair of numbers whose product is odd present in the said sequence:\")\n",
    "print(pair_nums_odd(dt1))\n",
    "\n",
    "print(\"\\nOriginal sequence:\")\n",
    "print(dt2)\n",
    "print(\"Distinct pair of numbers whose product is odd present in the said sequence:\")\n",
    "print(pair_nums_odd(dt2))\n",
    "\n",
    "print(\"\\nOriginal sequence:\")\n",
    "print(dt3)\n",
    "print(\"Distinct pair of numbers whose product is odd present in the said sequence:\")\n",
    "print(pair_nums_odd(dt3))"
   ]
  },
  {
   "cell_type": "code",
   "execution_count": null,
   "id": "72dd3771",
   "metadata": {},
   "outputs": [],
   "source": []
  }
 ],
 "metadata": {
  "kernelspec": {
   "display_name": "Python 3 (ipykernel)",
   "language": "python",
   "name": "python3"
  },
  "language_info": {
   "codemirror_mode": {
    "name": "ipython",
    "version": 3
   },
   "file_extension": ".py",
   "mimetype": "text/x-python",
   "name": "python",
   "nbconvert_exporter": "python",
   "pygments_lexer": "ipython3",
   "version": "3.11.7"
  }
 },
 "nbformat": 4,
 "nbformat_minor": 5
}
